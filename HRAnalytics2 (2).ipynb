{
 "cells": [
  {
   "cell_type": "markdown",
   "metadata": {},
   "source": [
    "# HR Analytics classification"
   ]
  },
  {
   "cell_type": "markdown",
   "metadata": {
    "colab_type": "text",
    "id": "FuBNQA_271Ow"
   },
   "source": [
    "**Importing Libraries and Dataset**"
   ]
  },
  {
   "cell_type": "code",
   "execution_count": 1,
   "metadata": {
    "colab": {},
    "colab_type": "code",
    "id": "0uD5Z8yeZLSY"
   },
   "outputs": [],
   "source": [
    "import numpy as np\n",
    "import pandas as pd\n",
    "\n",
    "import matplotlib.pyplot as plt\n",
    "import seaborn as sns"
   ]
  },
  {
   "cell_type": "code",
   "execution_count": 2,
   "metadata": {
    "colab": {
     "base_uri": "https://localhost:8080/",
     "height": 51
    },
    "colab_type": "code",
    "id": "F4HXcFKoZYJ_",
    "outputId": "df4466fc-a69e-46ad-fedc-767c259894b4"
   },
   "outputs": [
    {
     "name": "stdout",
     "output_type": "stream",
     "text": [
      "Shape of train : (54808, 14)\n",
      "Shape of test : (23490, 13)\n"
     ]
    }
   ],
   "source": [
    "# reading the data\n",
    "\n",
    "train = pd.read_csv('train_LZdllcl.csv')\n",
    "test = pd.read_csv('test_2umaH9m.csv')\n",
    "\n",
    "# getting their shapes\n",
    "print(\"Shape of train :\", train.shape)\n",
    "print(\"Shape of test :\", test.shape)"
   ]
  },
  {
   "cell_type": "markdown",
   "metadata": {
    "colab_type": "text",
    "id": "FODzavk37yBh"
   },
   "source": [
    "**Data Analysis**"
   ]
  },
  {
   "cell_type": "code",
   "execution_count": 3,
   "metadata": {
    "colab": {
     "base_uri": "https://localhost:8080/",
     "height": 292
    },
    "colab_type": "code",
    "id": "CJEdPAwFaNe1",
    "outputId": "1fc27402-1c6b-4f72-88a7-c23455c71f0e"
   },
   "outputs": [
    {
     "data": {
      "text/html": [
       "<div>\n",
       "<style scoped>\n",
       "    .dataframe tbody tr th:only-of-type {\n",
       "        vertical-align: middle;\n",
       "    }\n",
       "\n",
       "    .dataframe tbody tr th {\n",
       "        vertical-align: top;\n",
       "    }\n",
       "\n",
       "    .dataframe thead th {\n",
       "        text-align: right;\n",
       "    }\n",
       "</style>\n",
       "<table border=\"1\" class=\"dataframe\">\n",
       "  <thead>\n",
       "    <tr style=\"text-align: right;\">\n",
       "      <th></th>\n",
       "      <th>employee_id</th>\n",
       "      <th>department</th>\n",
       "      <th>region</th>\n",
       "      <th>education</th>\n",
       "      <th>gender</th>\n",
       "      <th>recruitment_channel</th>\n",
       "      <th>no_of_trainings</th>\n",
       "      <th>age</th>\n",
       "      <th>previous_year_rating</th>\n",
       "      <th>length_of_service</th>\n",
       "      <th>KPIs_met &gt;80%</th>\n",
       "      <th>awards_won?</th>\n",
       "      <th>avg_training_score</th>\n",
       "      <th>is_promoted</th>\n",
       "    </tr>\n",
       "  </thead>\n",
       "  <tbody>\n",
       "    <tr>\n",
       "      <th>0</th>\n",
       "      <td>65438</td>\n",
       "      <td>Sales &amp; Marketing</td>\n",
       "      <td>region_7</td>\n",
       "      <td>Master's &amp; above</td>\n",
       "      <td>f</td>\n",
       "      <td>sourcing</td>\n",
       "      <td>1</td>\n",
       "      <td>35</td>\n",
       "      <td>5.0</td>\n",
       "      <td>8</td>\n",
       "      <td>1</td>\n",
       "      <td>0</td>\n",
       "      <td>49</td>\n",
       "      <td>0</td>\n",
       "    </tr>\n",
       "    <tr>\n",
       "      <th>1</th>\n",
       "      <td>65141</td>\n",
       "      <td>Operations</td>\n",
       "      <td>region_22</td>\n",
       "      <td>Bachelor's</td>\n",
       "      <td>m</td>\n",
       "      <td>other</td>\n",
       "      <td>1</td>\n",
       "      <td>30</td>\n",
       "      <td>5.0</td>\n",
       "      <td>4</td>\n",
       "      <td>0</td>\n",
       "      <td>0</td>\n",
       "      <td>60</td>\n",
       "      <td>0</td>\n",
       "    </tr>\n",
       "    <tr>\n",
       "      <th>2</th>\n",
       "      <td>7513</td>\n",
       "      <td>Sales &amp; Marketing</td>\n",
       "      <td>region_19</td>\n",
       "      <td>Bachelor's</td>\n",
       "      <td>m</td>\n",
       "      <td>sourcing</td>\n",
       "      <td>1</td>\n",
       "      <td>34</td>\n",
       "      <td>3.0</td>\n",
       "      <td>7</td>\n",
       "      <td>0</td>\n",
       "      <td>0</td>\n",
       "      <td>50</td>\n",
       "      <td>0</td>\n",
       "    </tr>\n",
       "    <tr>\n",
       "      <th>3</th>\n",
       "      <td>2542</td>\n",
       "      <td>Sales &amp; Marketing</td>\n",
       "      <td>region_23</td>\n",
       "      <td>Bachelor's</td>\n",
       "      <td>m</td>\n",
       "      <td>other</td>\n",
       "      <td>2</td>\n",
       "      <td>39</td>\n",
       "      <td>1.0</td>\n",
       "      <td>10</td>\n",
       "      <td>0</td>\n",
       "      <td>0</td>\n",
       "      <td>50</td>\n",
       "      <td>0</td>\n",
       "    </tr>\n",
       "    <tr>\n",
       "      <th>4</th>\n",
       "      <td>48945</td>\n",
       "      <td>Technology</td>\n",
       "      <td>region_26</td>\n",
       "      <td>Bachelor's</td>\n",
       "      <td>m</td>\n",
       "      <td>other</td>\n",
       "      <td>1</td>\n",
       "      <td>45</td>\n",
       "      <td>3.0</td>\n",
       "      <td>2</td>\n",
       "      <td>0</td>\n",
       "      <td>0</td>\n",
       "      <td>73</td>\n",
       "      <td>0</td>\n",
       "    </tr>\n",
       "  </tbody>\n",
       "</table>\n",
       "</div>"
      ],
      "text/plain": [
       "   employee_id         department     region         education gender  \\\n",
       "0        65438  Sales & Marketing   region_7  Master's & above      f   \n",
       "1        65141         Operations  region_22        Bachelor's      m   \n",
       "2         7513  Sales & Marketing  region_19        Bachelor's      m   \n",
       "3         2542  Sales & Marketing  region_23        Bachelor's      m   \n",
       "4        48945         Technology  region_26        Bachelor's      m   \n",
       "\n",
       "  recruitment_channel  no_of_trainings  age  previous_year_rating  \\\n",
       "0            sourcing                1   35                   5.0   \n",
       "1               other                1   30                   5.0   \n",
       "2            sourcing                1   34                   3.0   \n",
       "3               other                2   39                   1.0   \n",
       "4               other                1   45                   3.0   \n",
       "\n",
       "   length_of_service  KPIs_met >80%  awards_won?  avg_training_score  \\\n",
       "0                  8              1            0                  49   \n",
       "1                  4              0            0                  60   \n",
       "2                  7              0            0                  50   \n",
       "3                 10              0            0                  50   \n",
       "4                  2              0            0                  73   \n",
       "\n",
       "   is_promoted  \n",
       "0            0  \n",
       "1            0  \n",
       "2            0  \n",
       "3            0  \n",
       "4            0  "
      ]
     },
     "execution_count": 3,
     "metadata": {},
     "output_type": "execute_result"
    }
   ],
   "source": [
    "train.head()"
   ]
  },
  {
   "cell_type": "code",
   "execution_count": 4,
   "metadata": {
    "colab": {
     "base_uri": "https://localhost:8080/",
     "height": 258
    },
    "colab_type": "code",
    "id": "x4q7llWhaVIC",
    "outputId": "43c9ec3b-80bd-4d58-8b56-740b14b9f104"
   },
   "outputs": [
    {
     "data": {
      "text/html": [
       "<div>\n",
       "<style scoped>\n",
       "    .dataframe tbody tr th:only-of-type {\n",
       "        vertical-align: middle;\n",
       "    }\n",
       "\n",
       "    .dataframe tbody tr th {\n",
       "        vertical-align: top;\n",
       "    }\n",
       "\n",
       "    .dataframe thead th {\n",
       "        text-align: right;\n",
       "    }\n",
       "</style>\n",
       "<table border=\"1\" class=\"dataframe\">\n",
       "  <thead>\n",
       "    <tr style=\"text-align: right;\">\n",
       "      <th></th>\n",
       "      <th>employee_id</th>\n",
       "      <th>department</th>\n",
       "      <th>region</th>\n",
       "      <th>education</th>\n",
       "      <th>gender</th>\n",
       "      <th>recruitment_channel</th>\n",
       "      <th>no_of_trainings</th>\n",
       "      <th>age</th>\n",
       "      <th>previous_year_rating</th>\n",
       "      <th>length_of_service</th>\n",
       "      <th>KPIs_met &gt;80%</th>\n",
       "      <th>awards_won?</th>\n",
       "      <th>avg_training_score</th>\n",
       "    </tr>\n",
       "  </thead>\n",
       "  <tbody>\n",
       "    <tr>\n",
       "      <th>0</th>\n",
       "      <td>8724</td>\n",
       "      <td>Technology</td>\n",
       "      <td>region_26</td>\n",
       "      <td>Bachelor's</td>\n",
       "      <td>m</td>\n",
       "      <td>sourcing</td>\n",
       "      <td>1</td>\n",
       "      <td>24</td>\n",
       "      <td>NaN</td>\n",
       "      <td>1</td>\n",
       "      <td>1</td>\n",
       "      <td>0</td>\n",
       "      <td>77</td>\n",
       "    </tr>\n",
       "    <tr>\n",
       "      <th>1</th>\n",
       "      <td>74430</td>\n",
       "      <td>HR</td>\n",
       "      <td>region_4</td>\n",
       "      <td>Bachelor's</td>\n",
       "      <td>f</td>\n",
       "      <td>other</td>\n",
       "      <td>1</td>\n",
       "      <td>31</td>\n",
       "      <td>3.0</td>\n",
       "      <td>5</td>\n",
       "      <td>0</td>\n",
       "      <td>0</td>\n",
       "      <td>51</td>\n",
       "    </tr>\n",
       "    <tr>\n",
       "      <th>2</th>\n",
       "      <td>72255</td>\n",
       "      <td>Sales &amp; Marketing</td>\n",
       "      <td>region_13</td>\n",
       "      <td>Bachelor's</td>\n",
       "      <td>m</td>\n",
       "      <td>other</td>\n",
       "      <td>1</td>\n",
       "      <td>31</td>\n",
       "      <td>1.0</td>\n",
       "      <td>4</td>\n",
       "      <td>0</td>\n",
       "      <td>0</td>\n",
       "      <td>47</td>\n",
       "    </tr>\n",
       "    <tr>\n",
       "      <th>3</th>\n",
       "      <td>38562</td>\n",
       "      <td>Procurement</td>\n",
       "      <td>region_2</td>\n",
       "      <td>Bachelor's</td>\n",
       "      <td>f</td>\n",
       "      <td>other</td>\n",
       "      <td>3</td>\n",
       "      <td>31</td>\n",
       "      <td>2.0</td>\n",
       "      <td>9</td>\n",
       "      <td>0</td>\n",
       "      <td>0</td>\n",
       "      <td>65</td>\n",
       "    </tr>\n",
       "    <tr>\n",
       "      <th>4</th>\n",
       "      <td>64486</td>\n",
       "      <td>Finance</td>\n",
       "      <td>region_29</td>\n",
       "      <td>Bachelor's</td>\n",
       "      <td>m</td>\n",
       "      <td>sourcing</td>\n",
       "      <td>1</td>\n",
       "      <td>30</td>\n",
       "      <td>4.0</td>\n",
       "      <td>7</td>\n",
       "      <td>0</td>\n",
       "      <td>0</td>\n",
       "      <td>61</td>\n",
       "    </tr>\n",
       "  </tbody>\n",
       "</table>\n",
       "</div>"
      ],
      "text/plain": [
       "   employee_id         department     region   education gender  \\\n",
       "0         8724         Technology  region_26  Bachelor's      m   \n",
       "1        74430                 HR   region_4  Bachelor's      f   \n",
       "2        72255  Sales & Marketing  region_13  Bachelor's      m   \n",
       "3        38562        Procurement   region_2  Bachelor's      f   \n",
       "4        64486            Finance  region_29  Bachelor's      m   \n",
       "\n",
       "  recruitment_channel  no_of_trainings  age  previous_year_rating  \\\n",
       "0            sourcing                1   24                   NaN   \n",
       "1               other                1   31                   3.0   \n",
       "2               other                1   31                   1.0   \n",
       "3               other                3   31                   2.0   \n",
       "4            sourcing                1   30                   4.0   \n",
       "\n",
       "   length_of_service  KPIs_met >80%  awards_won?  avg_training_score  \n",
       "0                  1              1            0                  77  \n",
       "1                  5              0            0                  51  \n",
       "2                  4              0            0                  47  \n",
       "3                  9              0            0                  65  \n",
       "4                  7              0            0                  61  "
      ]
     },
     "execution_count": 4,
     "metadata": {},
     "output_type": "execute_result"
    }
   ],
   "source": [
    "test.head()"
   ]
  },
  {
   "cell_type": "code",
   "execution_count": 5,
   "metadata": {
    "colab": {
     "base_uri": "https://localhost:8080/",
     "height": 444
    },
    "colab_type": "code",
    "id": "Mz6oR3_JaWcs",
    "outputId": "5d0fda7b-5fd3-4a7b-994e-b80c23dabc59"
   },
   "outputs": [
    {
     "data": {
      "text/html": [
       "<div>\n",
       "<style scoped>\n",
       "    .dataframe tbody tr th:only-of-type {\n",
       "        vertical-align: middle;\n",
       "    }\n",
       "\n",
       "    .dataframe tbody tr th {\n",
       "        vertical-align: top;\n",
       "    }\n",
       "\n",
       "    .dataframe thead th {\n",
       "        text-align: right;\n",
       "    }\n",
       "</style>\n",
       "<table border=\"1\" class=\"dataframe\">\n",
       "  <thead>\n",
       "    <tr style=\"text-align: right;\">\n",
       "      <th></th>\n",
       "      <th>employee_id</th>\n",
       "      <th>department</th>\n",
       "      <th>region</th>\n",
       "      <th>education</th>\n",
       "      <th>gender</th>\n",
       "      <th>recruitment_channel</th>\n",
       "      <th>no_of_trainings</th>\n",
       "      <th>age</th>\n",
       "      <th>previous_year_rating</th>\n",
       "      <th>length_of_service</th>\n",
       "      <th>KPIs_met &gt;80%</th>\n",
       "      <th>awards_won?</th>\n",
       "      <th>avg_training_score</th>\n",
       "      <th>is_promoted</th>\n",
       "    </tr>\n",
       "  </thead>\n",
       "  <tbody>\n",
       "    <tr>\n",
       "      <th>count</th>\n",
       "      <td>54808.000000</td>\n",
       "      <td>54808</td>\n",
       "      <td>54808</td>\n",
       "      <td>52399</td>\n",
       "      <td>54808</td>\n",
       "      <td>54808</td>\n",
       "      <td>54808.000000</td>\n",
       "      <td>54808.000000</td>\n",
       "      <td>50684.000000</td>\n",
       "      <td>54808.000000</td>\n",
       "      <td>54808.000000</td>\n",
       "      <td>54808.000000</td>\n",
       "      <td>54808.000000</td>\n",
       "      <td>54808.000000</td>\n",
       "    </tr>\n",
       "    <tr>\n",
       "      <th>unique</th>\n",
       "      <td>NaN</td>\n",
       "      <td>9</td>\n",
       "      <td>34</td>\n",
       "      <td>3</td>\n",
       "      <td>2</td>\n",
       "      <td>3</td>\n",
       "      <td>NaN</td>\n",
       "      <td>NaN</td>\n",
       "      <td>NaN</td>\n",
       "      <td>NaN</td>\n",
       "      <td>NaN</td>\n",
       "      <td>NaN</td>\n",
       "      <td>NaN</td>\n",
       "      <td>NaN</td>\n",
       "    </tr>\n",
       "    <tr>\n",
       "      <th>top</th>\n",
       "      <td>NaN</td>\n",
       "      <td>Sales &amp; Marketing</td>\n",
       "      <td>region_2</td>\n",
       "      <td>Bachelor's</td>\n",
       "      <td>m</td>\n",
       "      <td>other</td>\n",
       "      <td>NaN</td>\n",
       "      <td>NaN</td>\n",
       "      <td>NaN</td>\n",
       "      <td>NaN</td>\n",
       "      <td>NaN</td>\n",
       "      <td>NaN</td>\n",
       "      <td>NaN</td>\n",
       "      <td>NaN</td>\n",
       "    </tr>\n",
       "    <tr>\n",
       "      <th>freq</th>\n",
       "      <td>NaN</td>\n",
       "      <td>16840</td>\n",
       "      <td>12343</td>\n",
       "      <td>36669</td>\n",
       "      <td>38496</td>\n",
       "      <td>30446</td>\n",
       "      <td>NaN</td>\n",
       "      <td>NaN</td>\n",
       "      <td>NaN</td>\n",
       "      <td>NaN</td>\n",
       "      <td>NaN</td>\n",
       "      <td>NaN</td>\n",
       "      <td>NaN</td>\n",
       "      <td>NaN</td>\n",
       "    </tr>\n",
       "    <tr>\n",
       "      <th>mean</th>\n",
       "      <td>39195.830627</td>\n",
       "      <td>NaN</td>\n",
       "      <td>NaN</td>\n",
       "      <td>NaN</td>\n",
       "      <td>NaN</td>\n",
       "      <td>NaN</td>\n",
       "      <td>1.253011</td>\n",
       "      <td>34.803915</td>\n",
       "      <td>3.329256</td>\n",
       "      <td>5.865512</td>\n",
       "      <td>0.351974</td>\n",
       "      <td>0.023172</td>\n",
       "      <td>63.386750</td>\n",
       "      <td>0.085170</td>\n",
       "    </tr>\n",
       "    <tr>\n",
       "      <th>std</th>\n",
       "      <td>22586.581449</td>\n",
       "      <td>NaN</td>\n",
       "      <td>NaN</td>\n",
       "      <td>NaN</td>\n",
       "      <td>NaN</td>\n",
       "      <td>NaN</td>\n",
       "      <td>0.609264</td>\n",
       "      <td>7.660169</td>\n",
       "      <td>1.259993</td>\n",
       "      <td>4.265094</td>\n",
       "      <td>0.477590</td>\n",
       "      <td>0.150450</td>\n",
       "      <td>13.371559</td>\n",
       "      <td>0.279137</td>\n",
       "    </tr>\n",
       "    <tr>\n",
       "      <th>min</th>\n",
       "      <td>1.000000</td>\n",
       "      <td>NaN</td>\n",
       "      <td>NaN</td>\n",
       "      <td>NaN</td>\n",
       "      <td>NaN</td>\n",
       "      <td>NaN</td>\n",
       "      <td>1.000000</td>\n",
       "      <td>20.000000</td>\n",
       "      <td>1.000000</td>\n",
       "      <td>1.000000</td>\n",
       "      <td>0.000000</td>\n",
       "      <td>0.000000</td>\n",
       "      <td>39.000000</td>\n",
       "      <td>0.000000</td>\n",
       "    </tr>\n",
       "    <tr>\n",
       "      <th>25%</th>\n",
       "      <td>19669.750000</td>\n",
       "      <td>NaN</td>\n",
       "      <td>NaN</td>\n",
       "      <td>NaN</td>\n",
       "      <td>NaN</td>\n",
       "      <td>NaN</td>\n",
       "      <td>1.000000</td>\n",
       "      <td>29.000000</td>\n",
       "      <td>3.000000</td>\n",
       "      <td>3.000000</td>\n",
       "      <td>0.000000</td>\n",
       "      <td>0.000000</td>\n",
       "      <td>51.000000</td>\n",
       "      <td>0.000000</td>\n",
       "    </tr>\n",
       "    <tr>\n",
       "      <th>50%</th>\n",
       "      <td>39225.500000</td>\n",
       "      <td>NaN</td>\n",
       "      <td>NaN</td>\n",
       "      <td>NaN</td>\n",
       "      <td>NaN</td>\n",
       "      <td>NaN</td>\n",
       "      <td>1.000000</td>\n",
       "      <td>33.000000</td>\n",
       "      <td>3.000000</td>\n",
       "      <td>5.000000</td>\n",
       "      <td>0.000000</td>\n",
       "      <td>0.000000</td>\n",
       "      <td>60.000000</td>\n",
       "      <td>0.000000</td>\n",
       "    </tr>\n",
       "    <tr>\n",
       "      <th>75%</th>\n",
       "      <td>58730.500000</td>\n",
       "      <td>NaN</td>\n",
       "      <td>NaN</td>\n",
       "      <td>NaN</td>\n",
       "      <td>NaN</td>\n",
       "      <td>NaN</td>\n",
       "      <td>1.000000</td>\n",
       "      <td>39.000000</td>\n",
       "      <td>4.000000</td>\n",
       "      <td>7.000000</td>\n",
       "      <td>1.000000</td>\n",
       "      <td>0.000000</td>\n",
       "      <td>76.000000</td>\n",
       "      <td>0.000000</td>\n",
       "    </tr>\n",
       "    <tr>\n",
       "      <th>max</th>\n",
       "      <td>78298.000000</td>\n",
       "      <td>NaN</td>\n",
       "      <td>NaN</td>\n",
       "      <td>NaN</td>\n",
       "      <td>NaN</td>\n",
       "      <td>NaN</td>\n",
       "      <td>10.000000</td>\n",
       "      <td>60.000000</td>\n",
       "      <td>5.000000</td>\n",
       "      <td>37.000000</td>\n",
       "      <td>1.000000</td>\n",
       "      <td>1.000000</td>\n",
       "      <td>99.000000</td>\n",
       "      <td>1.000000</td>\n",
       "    </tr>\n",
       "  </tbody>\n",
       "</table>\n",
       "</div>"
      ],
      "text/plain": [
       "         employee_id         department    region   education gender  \\\n",
       "count   54808.000000              54808     54808       52399  54808   \n",
       "unique           NaN                  9        34           3      2   \n",
       "top              NaN  Sales & Marketing  region_2  Bachelor's      m   \n",
       "freq             NaN              16840     12343       36669  38496   \n",
       "mean    39195.830627                NaN       NaN         NaN    NaN   \n",
       "std     22586.581449                NaN       NaN         NaN    NaN   \n",
       "min         1.000000                NaN       NaN         NaN    NaN   \n",
       "25%     19669.750000                NaN       NaN         NaN    NaN   \n",
       "50%     39225.500000                NaN       NaN         NaN    NaN   \n",
       "75%     58730.500000                NaN       NaN         NaN    NaN   \n",
       "max     78298.000000                NaN       NaN         NaN    NaN   \n",
       "\n",
       "       recruitment_channel  no_of_trainings           age  \\\n",
       "count                54808     54808.000000  54808.000000   \n",
       "unique                   3              NaN           NaN   \n",
       "top                  other              NaN           NaN   \n",
       "freq                 30446              NaN           NaN   \n",
       "mean                   NaN         1.253011     34.803915   \n",
       "std                    NaN         0.609264      7.660169   \n",
       "min                    NaN         1.000000     20.000000   \n",
       "25%                    NaN         1.000000     29.000000   \n",
       "50%                    NaN         1.000000     33.000000   \n",
       "75%                    NaN         1.000000     39.000000   \n",
       "max                    NaN        10.000000     60.000000   \n",
       "\n",
       "        previous_year_rating  length_of_service  KPIs_met >80%   awards_won?  \\\n",
       "count           50684.000000       54808.000000   54808.000000  54808.000000   \n",
       "unique                   NaN                NaN            NaN           NaN   \n",
       "top                      NaN                NaN            NaN           NaN   \n",
       "freq                     NaN                NaN            NaN           NaN   \n",
       "mean                3.329256           5.865512       0.351974      0.023172   \n",
       "std                 1.259993           4.265094       0.477590      0.150450   \n",
       "min                 1.000000           1.000000       0.000000      0.000000   \n",
       "25%                 3.000000           3.000000       0.000000      0.000000   \n",
       "50%                 3.000000           5.000000       0.000000      0.000000   \n",
       "75%                 4.000000           7.000000       1.000000      0.000000   \n",
       "max                 5.000000          37.000000       1.000000      1.000000   \n",
       "\n",
       "        avg_training_score   is_promoted  \n",
       "count         54808.000000  54808.000000  \n",
       "unique                 NaN           NaN  \n",
       "top                    NaN           NaN  \n",
       "freq                   NaN           NaN  \n",
       "mean             63.386750      0.085170  \n",
       "std              13.371559      0.279137  \n",
       "min              39.000000      0.000000  \n",
       "25%              51.000000      0.000000  \n",
       "50%              60.000000      0.000000  \n",
       "75%              76.000000      0.000000  \n",
       "max              99.000000      1.000000  "
      ]
     },
     "execution_count": 5,
     "metadata": {},
     "output_type": "execute_result"
    }
   ],
   "source": [
    "# describing the training set\n",
    "\n",
    "train.describe(include = 'all')"
   ]
  },
  {
   "cell_type": "code",
   "execution_count": 6,
   "metadata": {
    "colab": {
     "base_uri": "https://localhost:8080/",
     "height": 340
    },
    "colab_type": "code",
    "id": "_Fmef95_apWv",
    "outputId": "fb54ebf2-e55f-42de-d96a-42d0c992549a"
   },
   "outputs": [
    {
     "name": "stdout",
     "output_type": "stream",
     "text": [
      "<class 'pandas.core.frame.DataFrame'>\n",
      "RangeIndex: 54808 entries, 0 to 54807\n",
      "Data columns (total 14 columns):\n",
      " #   Column                Non-Null Count  Dtype  \n",
      "---  ------                --------------  -----  \n",
      " 0   employee_id           54808 non-null  int64  \n",
      " 1   department            54808 non-null  object \n",
      " 2   region                54808 non-null  object \n",
      " 3   education             52399 non-null  object \n",
      " 4   gender                54808 non-null  object \n",
      " 5   recruitment_channel   54808 non-null  object \n",
      " 6   no_of_trainings       54808 non-null  int64  \n",
      " 7   age                   54808 non-null  int64  \n",
      " 8   previous_year_rating  50684 non-null  float64\n",
      " 9   length_of_service     54808 non-null  int64  \n",
      " 10  KPIs_met >80%         54808 non-null  int64  \n",
      " 11  awards_won?           54808 non-null  int64  \n",
      " 12  avg_training_score    54808 non-null  int64  \n",
      " 13  is_promoted           54808 non-null  int64  \n",
      "dtypes: float64(1), int64(8), object(5)\n",
      "memory usage: 5.9+ MB\n"
     ]
    }
   ],
   "source": [
    "train.info()"
   ]
  },
  {
   "cell_type": "code",
   "execution_count": 7,
   "metadata": {
    "colab": {
     "base_uri": "https://localhost:8080/",
     "height": 272
    },
    "colab_type": "code",
    "id": "Jlll_4K-astf",
    "outputId": "00978a44-f4c7-4f54-8b01-ebf2b782bd8c"
   },
   "outputs": [
    {
     "data": {
      "text/plain": [
       "employee_id             False\n",
       "department              False\n",
       "region                  False\n",
       "education                True\n",
       "gender                  False\n",
       "recruitment_channel     False\n",
       "no_of_trainings         False\n",
       "age                     False\n",
       "previous_year_rating     True\n",
       "length_of_service       False\n",
       "KPIs_met >80%           False\n",
       "awards_won?             False\n",
       "avg_training_score      False\n",
       "is_promoted             False\n",
       "dtype: bool"
      ]
     },
     "execution_count": 7,
     "metadata": {},
     "output_type": "execute_result"
    }
   ],
   "source": [
    "# checking if there is any NULL value in the dataset\n",
    "\n",
    "train.isnull().any()"
   ]
  },
  {
   "cell_type": "code",
   "execution_count": 8,
   "metadata": {
    "colab": {
     "base_uri": "https://localhost:8080/",
     "height": 255
    },
    "colab_type": "code",
    "id": "6cMYcIG23443",
    "outputId": "4f1e802e-2891-4ad9-9803-b2e0f34b1ad8"
   },
   "outputs": [
    {
     "data": {
      "text/plain": [
       "employee_id                0\n",
       "department                 0\n",
       "region                     0\n",
       "education               1034\n",
       "gender                     0\n",
       "recruitment_channel        0\n",
       "no_of_trainings            0\n",
       "age                        0\n",
       "previous_year_rating    1812\n",
       "length_of_service          0\n",
       "KPIs_met >80%              0\n",
       "awards_won?                0\n",
       "avg_training_score         0\n",
       "dtype: int64"
      ]
     },
     "execution_count": 8,
     "metadata": {},
     "output_type": "execute_result"
    }
   ],
   "source": [
    "test.isnull().sum()"
   ]
  },
  {
   "cell_type": "markdown",
   "metadata": {
    "colab_type": "text",
    "id": "NKfUfPmp7sNt"
   },
   "source": [
    "**UNi-variate Data Visualization**"
   ]
  },
  {
   "cell_type": "markdown",
   "metadata": {
    "colab": {
     "base_uri": "https://localhost:8080/",
     "height": 428
    },
    "colab_type": "code",
    "id": "-o44LMCRa-pS",
    "outputId": "ad8e03d9-c76a-4278-a003-4ad04b7fb5cb"
   },
   "source": [
    "# looking at the most popular departments\n",
    "import sys\n",
    "print(sys.executable)\n",
    "from wordcloud import WordCloud\n",
    "from wordcloud import STOPWORDS\n",
    "\n",
    "stopword = set(STOPWORDS)\n",
    "\n",
    "wordcloud = WordCloud(background_color = 'white', stopwords = stopword).generate(str(train['department']))\n",
    "\n",
    "plt.rcParams['figure.figsize'] = (12, 8)\n",
    "print(wordcloud)\n",
    "plt.imshow(wordcloud)\n",
    "plt.title('Most Popular Departments', fontsize = 30)\n",
    "plt.axis('off')\n",
    "plt.show()"
   ]
  },
  {
   "cell_type": "code",
   "execution_count": 9,
   "metadata": {
    "colab": {
     "base_uri": "https://localhost:8080/",
     "height": 68
    },
    "colab_type": "code",
    "id": "zp_jqL4Tnv8_",
    "outputId": "e1ca0b99-178e-4780-90f9-d9905904207d"
   },
   "outputs": [
    {
     "data": {
      "text/plain": [
       "0    50140\n",
       "1     4668\n",
       "Name: is_promoted, dtype: int64"
      ]
     },
     "execution_count": 9,
     "metadata": {},
     "output_type": "execute_result"
    }
   ],
   "source": [
    "# checkig the no. of Employees Promoted\n",
    "\n",
    "train['is_promoted'].value_counts()"
   ]
  },
  {
   "cell_type": "code",
   "execution_count": 10,
   "metadata": {
    "colab": {
     "base_uri": "https://localhost:8080/",
     "height": 34
    },
    "colab_type": "code",
    "id": "--7zMxmAofOi",
    "outputId": "3b4e2a7f-9560-4f8b-c61a-d827e23523f7"
   },
   "outputs": [
    {
     "name": "stdout",
     "output_type": "stream",
     "text": [
      "Percentage of Promoted Employees is 8.52%\n"
     ]
    }
   ],
   "source": [
    "# finding the %age of people promoted\n",
    "\n",
    "promoted = (4668/54808)*100\n",
    "print(\"Percentage of Promoted Employees is {:.2f}%\".format(promoted))"
   ]
  },
  {
   "cell_type": "code",
   "execution_count": 11,
   "metadata": {
    "colab": {
     "base_uri": "https://localhost:8080/",
     "height": 534
    },
    "colab_type": "code",
    "id": "lruqghgEqKTe",
    "outputId": "e69c45d8-3340-4848-cf73-e086106b0e9c"
   },
   "outputs": [
    {
     "data": {
      "image/png": "[encoded data removed]",
      "text/plain": [
       "<Figure size 432x288 with 1 Axes>"
      ]
     },
     "metadata": {
      "needs_background": "light"
     },
     "output_type": "display_data"
    }
   ],
   "source": [
    "#plotting a scatter plot \n",
    "\n",
    "plt.hist(train['is_promoted'])\n",
    "plt.title('plot to show the gap in Promoted and Non-Promoted Employees', fontsize = 30)\n",
    "plt.xlabel('0 -No Promotion and 1- Promotion', fontsize = 20)\n",
    "plt.ylabel('count')\n",
    "plt.show()"
   ]
  },
  {
   "cell_type": "code",
   "execution_count": 12,
   "metadata": {
    "colab": {
     "base_uri": "https://localhost:8080/",
     "height": 530
    },
    "colab_type": "code",
    "id": "k0DauT7Am-nC",
    "outputId": "7cc59358-f609-4f4b-9ad1-2c8a6ef34f06"
   },
   "outputs": [
    {
     "name": "stderr",
     "output_type": "stream",
     "text": [
      "C:\\Users\\abhil\\anaconda3\\lib\\site-packages\\seaborn\\distributions.py:2619: FutureWarning: `distplot` is a deprecated function and will be removed in a future version. Please adapt your code to use either `displot` (a figure-level function with similar flexibility) or `histplot` (an axes-level function for histograms).\n",
      "  warnings.warn(msg, FutureWarning)\n"
     ]
    },
    {
     "data": {
      "image/png": "[encoded data removed]",
      "text/plain": [
       "<Figure size 1080x504 with 1 Axes>"
      ]
     },
     "metadata": {
      "needs_background": "light"
     },
     "output_type": "display_data"
    }
   ],
   "source": [
    "# checking the distribution of the avg_training score of the Employees\n",
    "\n",
    "plt.rcParams['figure.figsize'] = (15, 7)\n",
    "sns.distplot(train['avg_training_score'], color = 'blue')\n",
    "plt.title('Distribution of Training Score among the Employees', fontsize = 30)\n",
    "plt.xlabel('Average Training Score', fontsize = 20)\n",
    "plt.ylabel('count')\n",
    "plt.show()"
   ]
  },
  {
   "cell_type": "code",
   "execution_count": 13,
   "metadata": {
    "colab": {
     "base_uri": "https://localhost:8080/",
     "height": 68
    },
    "colab_type": "code",
    "id": "-UcCYoZtmsl2",
    "outputId": "d3b9c7c4-2f0f-401c-c57f-51b7076000d1"
   },
   "outputs": [
    {
     "data": {
      "text/plain": [
       "0    53538\n",
       "1     1270\n",
       "Name: awards_won?, dtype: int64"
      ]
     },
     "execution_count": 13,
     "metadata": {},
     "output_type": "execute_result"
    }
   ],
   "source": [
    "train['awards_won?'].value_counts()"
   ]
  },
  {
   "cell_type": "code",
   "execution_count": 14,
   "metadata": {
    "colab": {
     "base_uri": "https://localhost:8080/",
     "height": 548
    },
    "colab_type": "code",
    "id": "HqNHDw9fpShi",
    "outputId": "437f4438-2d76-4e9c-db76-bf3853e3b0a7"
   },
   "outputs": [
    {
     "data": {
      "image/png": "[encoded data removed]",
      "text/plain": [
       "<Figure size 648x648 with 1 Axes>"
      ]
     },
     "metadata": {},
     "output_type": "display_data"
    }
   ],
   "source": [
    "# plotting a donut chart for visualizing each of the recruitment channel's share\n",
    "\n",
    "size = [53538, 1270]\n",
    "colors = ['magenta', 'brown']\n",
    "labels = \"Awards Won\", \"NO Awards Won\"\n",
    "\n",
    "my_circle = plt.Circle((0, 0), 0.7, color = 'white')\n",
    "\n",
    "plt.rcParams['figure.figsize'] = (9, 9)\n",
    "plt.pie(size, colors = colors, labels = labels, shadow = True, autopct = '%.2f%%')\n",
    "plt.title('Showing a Percentage of employees who won awards', fontsize = 30)\n",
    "p = plt.gcf()\n",
    "p.gca().add_artist(my_circle)\n",
    "plt.legend()\n",
    "plt.show()"
   ]
  },
  {
   "cell_type": "code",
   "execution_count": 15,
   "metadata": {
    "colab": {
     "base_uri": "https://localhost:8080/",
     "height": 68
    },
    "colab_type": "code",
    "id": "7HynU2Zql883",
    "outputId": "bb143a43-b118-4658-f30a-c3d78acbfeed"
   },
   "outputs": [
    {
     "data": {
      "text/plain": [
       "0    35517\n",
       "1    19291\n",
       "Name: KPIs_met >80%, dtype: int64"
      ]
     },
     "execution_count": 15,
     "metadata": {},
     "output_type": "execute_result"
    }
   ],
   "source": [
    "train['KPIs_met >80%'].value_counts()"
   ]
  },
  {
   "cell_type": "code",
   "execution_count": 16,
   "metadata": {
    "colab": {
     "base_uri": "https://localhost:8080/",
     "height": 494
    },
    "colab_type": "code",
    "id": "5MsZrAw9mD9P",
    "outputId": "714fc2ce-0b70-4512-91bb-2508ab0180ca"
   },
   "outputs": [
    {
     "data": {
      "image/png": "[encoded data removed]",
      "text/plain": [
       "<Figure size 576x576 with 1 Axes>"
      ]
     },
     "metadata": {},
     "output_type": "display_data"
    }
   ],
   "source": [
    "# plotting a pie chart\n",
    "\n",
    "\n",
    "size = [35517, 19291]\n",
    "labels = \"Not Met KPI > 80%\", \"Met KPI > 80%\"\n",
    "colors = ['violet', 'grey']\n",
    "explode = [0, 0.1]\n",
    "\n",
    "plt.rcParams['figure.figsize'] = (8, 8)\n",
    "plt.pie(size, labels = labels, colors = colors, explode = explode, shadow = True, autopct = \"%.2f%%\")\n",
    "plt.title('A Pie Chart Representing Gap in Employees in terms of KPI', fontsize = 30)\n",
    "plt.axis('off')\n",
    "plt.legend()\n",
    "plt.show()"
   ]
  },
  {
   "cell_type": "code",
   "execution_count": 17,
   "metadata": {
    "colab": {
     "base_uri": "https://localhost:8080/",
     "height": 580
    },
    "colab_type": "code",
    "id": "O9eiQwL-lMZJ",
    "outputId": "d1933f8d-c5cb-4b82-cc40-4948ab4d8750"
   },
   "outputs": [
    {
     "name": "stderr",
     "output_type": "stream",
     "text": [
      "C:\\Users\\abhil\\anaconda3\\lib\\site-packages\\seaborn\\distributions.py:2619: FutureWarning: `distplot` is a deprecated function and will be removed in a future version. Please adapt your code to use either `displot` (a figure-level function with similar flexibility) or `histplot` (an axes-level function for histograms).\n",
      "  warnings.warn(msg, FutureWarning)\n"
     ]
    },
    {
     "data": {
      "image/png": "[encoded data removed]",
      "text/plain": [
       "<Figure size 576x576 with 1 Axes>"
      ]
     },
     "metadata": {
      "needs_background": "light"
     },
     "output_type": "display_data"
    }
   ],
   "source": [
    "# checking the distribution of length of service\n",
    "\n",
    "sns.distplot(train['length_of_service'], color = 'green')\n",
    "plt.title('Distribution of length of service among the Employees', fontsize = 30)\n",
    "plt.xlabel('Length of Service in years', fontsize = 15)\n",
    "plt.ylabel('count')\n",
    "plt.show()"
   ]
  },
  {
   "cell_type": "code",
   "execution_count": 18,
   "metadata": {
    "colab": {
     "base_uri": "https://localhost:8080/",
     "height": 478
    },
    "colab_type": "code",
    "id": "WIWndtkqismq",
    "outputId": "eb201806-a3db-4541-ea10-a37607e7fb2c"
   },
   "outputs": [
    {
     "data": {
      "image/png": "[encoded data removed]",
      "text/plain": [
       "<Figure size 1080x504 with 1 Axes>"
      ]
     },
     "metadata": {
      "needs_background": "light"
     },
     "output_type": "display_data"
    }
   ],
   "source": [
    "train['previous_year_rating'].value_counts().sort_values().plot.bar(color = 'violet', figsize = (15, 7))\n",
    "plt.title('Distribution of Previous year rating of the Employees', fontsize = 30)\n",
    "plt.xlabel('Ratings', fontsize = 15)\n",
    "plt.ylabel('count')\n",
    "plt.show()"
   ]
  },
  {
   "cell_type": "code",
   "execution_count": 19,
   "metadata": {
    "colab": {
     "base_uri": "https://localhost:8080/",
     "height": 580
    },
    "colab_type": "code",
    "id": "S98-X0NXh9bF",
    "outputId": "b2d7a0c8-c114-43e2-dc63-d404af68b08d"
   },
   "outputs": [
    {
     "name": "stderr",
     "output_type": "stream",
     "text": [
      "C:\\Users\\abhil\\anaconda3\\lib\\site-packages\\seaborn\\distributions.py:2619: FutureWarning: `distplot` is a deprecated function and will be removed in a future version. Please adapt your code to use either `displot` (a figure-level function with similar flexibility) or `histplot` (an axes-level function for histograms).\n",
      "  warnings.warn(msg, FutureWarning)\n"
     ]
    },
    {
     "data": {
      "image/png": "[encoded data removed]",
      "text/plain": [
       "<Figure size 576x576 with 1 Axes>"
      ]
     },
     "metadata": {
      "needs_background": "light"
     },
     "output_type": "display_data"
    }
   ],
   "source": [
    "# checking the distribution of age of Employees in the company\n",
    "\n",
    "sns.distplot(train['age'], color = 'red')\n",
    "plt.title('Distribution of Age of Employees', fontsize = 30)\n",
    "plt.xlabel('Age', fontsize = 15)\n",
    "plt.ylabel('count')\n",
    "plt.show()"
   ]
  },
  {
   "cell_type": "code",
   "execution_count": 20,
   "metadata": {
    "colab": {
     "base_uri": "https://localhost:8080/",
     "height": 542
    },
    "colab_type": "code",
    "id": "X_5LOnYrhDiO",
    "outputId": "46c9787c-26dc-4102-87b1-c2aca506d5c8"
   },
   "outputs": [
    {
     "name": "stderr",
     "output_type": "stream",
     "text": [
      "C:\\Users\\abhil\\anaconda3\\lib\\site-packages\\seaborn\\_decorators.py:36: FutureWarning: Pass the following variable as a keyword arg: x. From version 0.12, the only valid positional argument will be `data`, and passing other arguments without an explicit keyword will result in an error or misinterpretation.\n",
      "  warnings.warn(\n"
     ]
    },
    {
     "data": {
      "image/png": "[encoded data removed]",
      "text/plain": [
       "<Figure size 1224x504 with 1 Axes>"
      ]
     },
     "metadata": {
      "needs_background": "light"
     },
     "output_type": "display_data"
    }
   ],
   "source": [
    "# checking the different no. of training done by the employees\n",
    "\n",
    "plt.rcParams['figure.figsize'] = (17, 7)\n",
    "sns.violinplot(train['no_of_trainings'], color = 'purple')\n",
    "plt.title('No. of trainings done by the Employees', fontsize = 30)\n",
    "plt.xlabel('No. of Trainings', fontsize = 15)\n",
    "plt.ylabel('Frequency')\n",
    "plt.show()"
   ]
  },
  {
   "cell_type": "code",
   "execution_count": 21,
   "metadata": {
    "colab": {
     "base_uri": "https://localhost:8080/",
     "height": 85
    },
    "colab_type": "code",
    "id": "1TXDGywzf3GT",
    "outputId": "2fcf7e89-0d94-40b1-c26b-bce81259f757"
   },
   "outputs": [
    {
     "data": {
      "text/plain": [
       "other       30446\n",
       "sourcing    23220\n",
       "referred     1142\n",
       "Name: recruitment_channel, dtype: int64"
      ]
     },
     "execution_count": 21,
     "metadata": {},
     "output_type": "execute_result"
    }
   ],
   "source": [
    "# checking the different types of recruitment channels for the company\n",
    "\n",
    "train['recruitment_channel'].value_counts()"
   ]
  },
  {
   "cell_type": "code",
   "execution_count": 22,
   "metadata": {
    "colab": {
     "base_uri": "https://localhost:8080/",
     "height": 548
    },
    "colab_type": "code",
    "id": "fG_XmMqVgJZ6",
    "outputId": "5004c00c-4bd1-4d31-d7a5-b5d64c323a9e"
   },
   "outputs": [
    {
     "data": {
      "image/png": "[encoded data removed]",
      "text/plain": [
       "<Figure size 648x648 with 1 Axes>"
      ]
     },
     "metadata": {},
     "output_type": "display_data"
    }
   ],
   "source": [
    "# plotting a donut chart for visualizing each of the recruitment channel's share\n",
    "\n",
    "size = [30446, 23220, 1142]\n",
    "colors = ['yellow', 'red', 'lightgreen']\n",
    "labels = \"Others\", \"Sourcing\", \"Reffered\"\n",
    "\n",
    "my_circle = plt.Circle((0, 0), 0.7, color = 'white')\n",
    "\n",
    "plt.rcParams['figure.figsize'] = (9, 9)\n",
    "plt.pie(size, colors = colors, labels = labels, shadow = True, autopct = '%.2f%%')\n",
    "plt.title('Showing share of different Recruitment Channels', fontsize = 30)\n",
    "p = plt.gcf()\n",
    "p.gca().add_artist(my_circle)\n",
    "plt.legend()\n",
    "plt.show()"
   ]
  },
  {
   "cell_type": "code",
   "execution_count": 23,
   "metadata": {
    "colab": {
     "base_uri": "https://localhost:8080/",
     "height": 68
    },
    "colab_type": "code",
    "id": "XZ8cMuC-eDnL",
    "outputId": "3dad0dc5-5fc1-41b9-fb05-c95b18a14327"
   },
   "outputs": [
    {
     "data": {
      "text/plain": [
       "m    38496\n",
       "f    16312\n",
       "Name: gender, dtype: int64"
      ]
     },
     "execution_count": 23,
     "metadata": {},
     "output_type": "execute_result"
    }
   ],
   "source": [
    "# checking the gender gap\n",
    "\n",
    "train['gender'].value_counts()\n"
   ]
  },
  {
   "cell_type": "code",
   "execution_count": 24,
   "metadata": {
    "colab": {
     "base_uri": "https://localhost:8080/",
     "height": 494
    },
    "colab_type": "code",
    "id": "ccug221veLjJ",
    "outputId": "5284c621-8061-40b9-90ce-6252bdfeb841"
   },
   "outputs": [
    {
     "data": {
      "image/png": "[encoded data removed]",
      "text/plain": [
       "<Figure size 576x576 with 1 Axes>"
      ]
     },
     "metadata": {},
     "output_type": "display_data"
    }
   ],
   "source": [
    "# plotting a pie chart\n",
    "\n",
    "size = [38496, 16312]\n",
    "labels = \"Male\", \"Female\"\n",
    "colors = ['yellow', 'orange']\n",
    "explode = [0, 0.1]\n",
    "\n",
    "plt.rcParams['figure.figsize'] = (8, 8)\n",
    "plt.pie(size, labels = labels, colors = colors, explode = explode, shadow = True, autopct = \"%.2f%%\")\n",
    "plt.title('A Pie Chart Representing GenderGap', fontsize = 30)\n",
    "plt.axis('off')\n",
    "plt.legend()\n",
    "plt.show()"
   ]
  },
  {
   "cell_type": "code",
   "execution_count": 25,
   "metadata": {
    "colab": {
     "base_uri": "https://localhost:8080/",
     "height": 705
    },
    "colab_type": "code",
    "id": "0vqj3WozcuU5",
    "outputId": "168a5436-a741-4fbd-d69a-6d29b31766b7"
   },
   "outputs": [
    {
     "name": "stderr",
     "output_type": "stream",
     "text": [
      "C:\\Users\\abhil\\anaconda3\\lib\\site-packages\\seaborn\\_decorators.py:36: FutureWarning: Pass the following variable as a keyword arg: x. From version 0.12, the only valid positional argument will be `data`, and passing other arguments without an explicit keyword will result in an error or misinterpretation.\n",
      "  warnings.warn(\n"
     ]
    },
    {
     "data": {
      "image/png": "[encoded data removed]",
      "text/plain": [
       "<Figure size 1440x720 with 1 Axes>"
      ]
     },
     "metadata": {
      "needs_background": "light"
     },
     "output_type": "display_data"
    }
   ],
   "source": [
    "# checking the different regions of the company\n",
    "\n",
    "plt.rcParams['figure.figsize'] = (20, 10)\n",
    "sns.countplot(train['region'], color = 'pink')\n",
    "plt.title('Different Regions in the company', fontsize = 30)\n",
    "plt.xticks(rotation = 60)\n",
    "plt.xlabel('Region Code', fontsize = 15)\n",
    "plt.ylabel('count', fontsize = 15)\n",
    "plt.show()"
   ]
  },
  {
   "cell_type": "markdown",
   "metadata": {
    "colab_type": "text",
    "id": "SwpmuQy47lkv"
   },
   "source": [
    "**Bi-varaiate Data Visualization**"
   ]
  },
  {
   "cell_type": "code",
   "execution_count": 26,
   "metadata": {
    "colab": {
     "base_uri": "https://localhost:8080/",
     "height": 584
    },
    "colab_type": "code",
    "id": "9mTsxstNcxmN",
    "outputId": "90ea33c6-c73e-4cee-98b6-a334d75b4d88"
   },
   "outputs": [
    {
     "data": {
      "image/png": "[encoded data removed]",
      "text/plain": [
       "<Figure size 1440x648 with 1 Axes>"
      ]
     },
     "metadata": {
      "needs_background": "light"
     },
     "output_type": "display_data"
    }
   ],
   "source": [
    "# scatter plot between average training score and is_promoted\n",
    "\n",
    "data = pd.crosstab(train['avg_training_score'], train['is_promoted'])\n",
    "data.div(data.sum(1).astype(float), axis = 0).plot(kind = 'bar', stacked = True, figsize = (20, 9), color = ['darkred', 'lightgreen'])\n",
    "\n",
    "plt.title('Looking at the Dependency of Training Score in promotion', fontsize = 30)\n",
    "plt.xlabel('Average Training Scores', fontsize = 15)\n",
    "plt.legend()\n",
    "plt.show()"
   ]
  },
  {
   "cell_type": "markdown",
   "metadata": {
    "colab_type": "text",
    "id": "vbWVu2pAu0ml"
   },
   "source": [
    "**As, the Training Scores Increases, the chances of Promotion Increases Highly**"
   ]
  },
  {
   "cell_type": "code",
   "execution_count": 27,
   "metadata": {
    "colab": {
     "base_uri": "https://localhost:8080/",
     "height": 568
    },
    "colab_type": "code",
    "id": "SbrgeFH1sGRD",
    "outputId": "af4dde58-5f61-430c-cfef-563403148a76"
   },
   "outputs": [
    {
     "data": {
      "image/png": "[encoded data removed]",
      "text/plain": [
       "<Figure size 1440x576 with 1 Axes>"
      ]
     },
     "metadata": {
      "needs_background": "light"
     },
     "output_type": "display_data"
    }
   ],
   "source": [
    "# checking dependency of different regions in promotion\n",
    "\n",
    "data = pd.crosstab(train['region'], train['is_promoted'])\n",
    "data.div(data.sum(1).astype('float'), axis = 0).plot(kind = 'bar', stacked = True, figsize = (20, 8), color = ['lightblue', 'purple'])\n",
    "\n",
    "plt.title('Dependency of Regions in determining Promotion of Employees', fontsize = 30)\n",
    "plt.xlabel('Different Regions of the Company', fontsize = 20)\n",
    "plt.legend()\n",
    "plt.show()"
   ]
  },
  {
   "cell_type": "markdown",
   "metadata": {
    "colab_type": "text",
    "id": "d_U5Zxo8vHbI"
   },
   "source": [
    "**The above graph shows that there is no biasedness over regions in terms of Promotion as all the regions share promotions almost equally.**"
   ]
  },
  {
   "cell_type": "code",
   "execution_count": 28,
   "metadata": {
    "colab": {
     "base_uri": "https://localhost:8080/",
     "height": 529
    },
    "colab_type": "code",
    "id": "I0ApM1HG1MqN",
    "outputId": "fd8f3b07-32db-4139-a26f-f7f20a492596"
   },
   "outputs": [
    {
     "data": {
      "image/png": "[encoded data removed]",
      "text/plain": [
       "<Figure size 720x576 with 1 Axes>"
      ]
     },
     "metadata": {
      "needs_background": "light"
     },
     "output_type": "display_data"
    }
   ],
   "source": [
    "# dependency of awards won on promotion\n",
    "\n",
    "data = pd.crosstab(train['awards_won?'], train['is_promoted'])\n",
    "data.div(data.sum(1).astype('float'), axis = 0).plot(kind = 'bar', stacked = True, figsize = (10, 8), color = ['magenta', 'purple'])\n",
    "\n",
    "plt.title('Dependency of Awards in determining Promotion', fontsize = 30)\n",
    "plt.xlabel('Awards Won or Not', fontsize = 20)\n",
    "plt.legend()\n",
    "plt.show()"
   ]
  },
  {
   "cell_type": "markdown",
   "metadata": {
    "colab_type": "text",
    "id": "jJNneaUD1nRq"
   },
   "source": [
    "**There is a very good chance of getting promoted if the employee has won an award**"
   ]
  },
  {
   "cell_type": "code",
   "execution_count": 29,
   "metadata": {
    "colab": {
     "base_uri": "https://localhost:8080/",
     "height": 529
    },
    "colab_type": "code",
    "id": "ao6yfDly0km9",
    "outputId": "771380d6-293f-4b2c-a003-d73b985a2c84"
   },
   "outputs": [
    {
     "data": {
      "image/png": "[encoded data removed]",
      "text/plain": [
       "<Figure size 720x576 with 1 Axes>"
      ]
     },
     "metadata": {
      "needs_background": "light"
     },
     "output_type": "display_data"
    }
   ],
   "source": [
    "#dependency of KPIs with Promotion\n",
    "\n",
    "data = pd.crosstab(train['KPIs_met >80%'], train['is_promoted'])\n",
    "data.div(data.sum(1).astype('float'), axis = 0).plot(kind = 'bar', stacked = True, figsize = (10, 8), color = ['pink', 'darkred'])\n",
    "\n",
    "plt.title('Dependency of KPIs in determining Promotion', fontsize = 30)\n",
    "plt.xlabel('KPIs Met or Not', fontsize = 20)\n",
    "plt.legend()\n",
    "plt.show()"
   ]
  },
  {
   "cell_type": "markdown",
   "metadata": {
    "colab_type": "text",
    "id": "cybdLy7p1CLJ"
   },
   "source": [
    "**Again Having a good KPI score increases the chances of getting promoted in the company.**"
   ]
  },
  {
   "cell_type": "code",
   "execution_count": 30,
   "metadata": {
    "colab": {
     "base_uri": "https://localhost:8080/",
     "height": 538
    },
    "colab_type": "code",
    "id": "fVDep55xzeAQ",
    "outputId": "28b7e5bf-611b-474a-aa78-4002dad3d873"
   },
   "outputs": [
    {
     "data": {
      "image/png": "[encoded data removed]",
      "text/plain": [
       "<Figure size 1080x576 with 1 Axes>"
      ]
     },
     "metadata": {
      "needs_background": "light"
     },
     "output_type": "display_data"
    }
   ],
   "source": [
    "# checking dependency on previous years' ratings\n",
    "\n",
    "data = pd.crosstab(train['previous_year_rating'], train['is_promoted'])\n",
    "data.div(data.sum(1).astype('float'), axis = 0).plot(kind = 'bar', stacked = True, figsize = (15, 8), color = ['violet', 'pink'])\n",
    "\n",
    "plt.title('Dependency of Previous year Ratings in determining Promotion', fontsize = 30)\n",
    "plt.xlabel('Different Ratings', fontsize = 20)\n",
    "plt.legend()\n",
    "plt.show()"
   ]
  },
  {
   "cell_type": "markdown",
   "metadata": {
    "colab_type": "text",
    "id": "LAv6Qr8T0NY3"
   },
   "source": [
    "**The Above Graph clearly suggests that previous ratings matter a lot, if the ratings are high, the chances of being promoted  in the company increases and there is completely no promotion for the employees with previous year ratings = 0**"
   ]
  },
  {
   "cell_type": "code",
   "execution_count": 31,
   "metadata": {
    "colab": {
     "base_uri": "https://localhost:8080/",
     "height": 535
    },
    "colab_type": "code",
    "id": "RYXMg1IYyv3T",
    "outputId": "b3c0d2f5-ee2a-4b32-c274-a0bfcafdb8e6"
   },
   "outputs": [
    {
     "data": {
      "image/png": "[encoded data removed]",
      "text/plain": [
       "<Figure size 1440x576 with 1 Axes>"
      ]
     },
     "metadata": {
      "needs_background": "light"
     },
     "output_type": "display_data"
    }
   ],
   "source": [
    "# checking how length of service determines the promotion of employees\n",
    "\n",
    "data = pd.crosstab(train['length_of_service'], train['is_promoted'])\n",
    "data.div(data.sum(1).astype('float'), axis = 0).plot(kind = 'bar', stacked = True, figsize = (20, 8), color = ['pink', 'lightblue'])\n",
    "\n",
    "plt.title('Dependency of Length of service in Promotions of Employees', fontsize = 30)\n",
    "plt.xlabel('Length of service of employees', fontsize = 20)\n",
    "plt.legend()\n",
    "plt.show()"
   ]
  },
  {
   "cell_type": "code",
   "execution_count": 32,
   "metadata": {
    "colab": {
     "base_uri": "https://localhost:8080/",
     "height": 535
    },
    "colab_type": "code",
    "id": "rZXoUfoPxwFp",
    "outputId": "d863e038-72fe-4d43-b040-bebb7417feb5"
   },
   "outputs": [
    {
     "data": {
      "image/png": "[encoded data removed]",
      "text/plain": [
       "<Figure size 1440x576 with 1 Axes>"
      ]
     },
     "metadata": {
      "needs_background": "light"
     },
     "output_type": "display_data"
    }
   ],
   "source": [
    "# checking dependency of age factor in promotion of employees\n",
    "\n",
    "data = pd.crosstab(train['age'], train['is_promoted'])\n",
    "data.div(data.sum(1).astype('float'), axis = 0).plot(kind = 'bar', stacked = True, figsize = (20, 8), color = ['lightblue', 'green'])\n",
    "\n",
    "plt.title('Dependency of Age in determining Promotion of Employees', fontsize = 30)\n",
    "plt.xlabel('Age of Employees', fontsize = 20)\n",
    "plt.legend()\n",
    "plt.show()"
   ]
  },
  {
   "cell_type": "markdown",
   "metadata": {
    "colab_type": "text",
    "id": "21jyFoflyaik"
   },
   "source": [
    "**This is Very Impressive that the company promotes employees of all the ages equally even the freshers have equal share of promotion and also the senior citizen employees are getting the equal share of Promotion in the Company**"
   ]
  },
  {
   "cell_type": "code",
   "execution_count": 33,
   "metadata": {
    "colab": {
     "base_uri": "https://localhost:8080/",
     "height": 605
    },
    "colab_type": "code",
    "id": "9vcIkwIAw3Pm",
    "outputId": "18e78b54-a630-41fd-8c44-d5678024558b"
   },
   "outputs": [
    {
     "data": {
      "image/png": "[encoded data removed]",
      "text/plain": [
       "<Figure size 1440x576 with 1 Axes>"
      ]
     },
     "metadata": {
      "needs_background": "light"
     },
     "output_type": "display_data"
    }
   ],
   "source": [
    "# checking which department got most number of promotions\n",
    "\n",
    "data = pd.crosstab(train['department'], train['is_promoted'])\n",
    "data.div(data.sum(1).astype('float'), axis = 0).plot(kind = 'bar', stacked = True, figsize = (20, 8), color = ['orange', 'lightgreen'])\n",
    "\n",
    "plt.title('Dependency of Departments in determining Promotion of Employees', fontsize = 30)\n",
    "plt.xlabel('Different Departments of the Company', fontsize = 20)\n",
    "plt.legend()\n",
    "plt.show()"
   ]
  },
  {
   "cell_type": "markdown",
   "metadata": {
    "colab_type": "text",
    "id": "VrCYGpesxif7"
   },
   "source": [
    "**Again, Each of the departments have equal no. of promotions showing an equal developement in each of the departments of the company.**"
   ]
  },
  {
   "cell_type": "code",
   "execution_count": 34,
   "metadata": {
    "colab": {
     "base_uri": "https://localhost:8080/",
     "height": 369
    },
    "colab_type": "code",
    "id": "VqR9sXCdvn50",
    "outputId": "c1e1f1de-8dc6-4034-e8a5-5c49efc1ecd1"
   },
   "outputs": [
    {
     "data": {
      "image/png": "[encoded data removed]",
      "text/plain": [
       "<Figure size 504x360 with 1 Axes>"
      ]
     },
     "metadata": {
      "needs_background": "light"
     },
     "output_type": "display_data"
    }
   ],
   "source": [
    "# checking dependency of gender over promotion\n",
    "\n",
    "data = pd.crosstab(train['gender'], train['is_promoted'])\n",
    "data.div(data.sum(1).astype('float'), axis = 0).plot(kind = 'bar', stacked = True, figsize = (7, 5), color = ['pink', 'yellow'])\n",
    "\n",
    "plt.title('Dependency of Genders in determining Promotion of Employees', fontsize = 30)\n",
    "plt.xlabel('Gender', fontsize = 20)\n",
    "plt.legend()\n",
    "plt.show()"
   ]
  },
  {
   "cell_type": "markdown",
   "metadata": {
    "colab_type": "text",
    "id": "dwOJrJI9wmxP"
   },
   "source": [
    "**The above plot shows that there is no partiality between males and females in terms of promotion**"
   ]
  },
  {
   "cell_type": "markdown",
   "metadata": {
    "colab_type": "text",
    "id": "coCfaDcX7gfs"
   },
   "source": [
    "**Data Pre-processing**"
   ]
  },
  {
   "cell_type": "code",
   "execution_count": 35,
   "metadata": {
    "colab": {
     "base_uri": "https://localhost:8080/",
     "height": 34
    },
    "colab_type": "code",
    "id": "jBGGx53-wGFp",
    "outputId": "376c7d6d-fd93-4076-a6a2-44ce9db7ece1"
   },
   "outputs": [
    {
     "data": {
      "text/plain": [
       "0"
      ]
     },
     "execution_count": 35,
     "metadata": {},
     "output_type": "execute_result"
    }
   ],
   "source": [
    "# filling missing values\n",
    "\n",
    "train['education'].fillna(train['education'].mode()[0], inplace = True)\n",
    "train['previous_year_rating'].fillna(1, inplace = True)\n",
    "\n",
    "# again checking if there is any Null value left in the data\n",
    "train.isnull().sum().sum()"
   ]
  },
  {
   "cell_type": "code",
   "execution_count": 36,
   "metadata": {
    "colab": {
     "base_uri": "https://localhost:8080/",
     "height": 34
    },
    "colab_type": "code",
    "id": "52pIw2pS4A7w",
    "outputId": "686cd2f4-2ee6-4157-a9d0-41223cfac735"
   },
   "outputs": [
    {
     "data": {
      "text/plain": [
       "0"
      ]
     },
     "execution_count": 36,
     "metadata": {},
     "output_type": "execute_result"
    }
   ],
   "source": [
    "# filling missing values\n",
    "\n",
    "test['education'].fillna(test['education'].mode()[0], inplace = True)\n",
    "test['previous_year_rating'].fillna(1, inplace = True)\n",
    "\n",
    "# again checking if there is any Null value left in the data\n",
    "test.isnull().sum().sum()"
   ]
  },
  {
   "cell_type": "code",
   "execution_count": 37,
   "metadata": {
    "colab": {
     "base_uri": "https://localhost:8080/",
     "height": 85
    },
    "colab_type": "code",
    "id": "c5w9hn923G9c",
    "outputId": "62187a87-8b62-43ab-ec46-4793e184ec70"
   },
   "outputs": [
    {
     "data": {
      "text/plain": [
       "Index(['department', 'region', 'education', 'gender', 'recruitment_channel',\n",
       "       'no_of_trainings', 'age', 'previous_year_rating', 'length_of_service',\n",
       "       'KPIs_met >80%', 'awards_won?', 'avg_training_score', 'is_promoted'],\n",
       "      dtype='object')"
      ]
     },
     "execution_count": 37,
     "metadata": {},
     "output_type": "execute_result"
    }
   ],
   "source": [
    "# removing the employee_id column\n",
    "\n",
    "train = train.drop(['employee_id'], axis = 1)\n",
    "\n",
    "train.columns"
   ]
  },
  {
   "cell_type": "code",
   "execution_count": 38,
   "metadata": {
    "colab": {
     "base_uri": "https://localhost:8080/",
     "height": 85
    },
    "colab_type": "code",
    "id": "2kXw3SGU4JAX",
    "outputId": "19d5d57d-67a1-4242-c6c6-d8d4e556569d"
   },
   "outputs": [
    {
     "data": {
      "text/plain": [
       "Index(['department', 'region', 'education', 'gender', 'recruitment_channel',\n",
       "       'no_of_trainings', 'age', 'previous_year_rating', 'length_of_service',\n",
       "       'KPIs_met >80%', 'awards_won?', 'avg_training_score'],\n",
       "      dtype='object')"
      ]
     },
     "execution_count": 38,
     "metadata": {},
     "output_type": "execute_result"
    }
   ],
   "source": [
    "# saving the employee_id\n",
    "\n",
    "emp_id = test['employee_id']\n",
    "\n",
    "# removing the employee_id column\n",
    "\n",
    "test = test.drop(['employee_id'], axis = 1)\n",
    "\n",
    "test.columns"
   ]
  },
  {
   "cell_type": "code",
   "execution_count": 39,
   "metadata": {
    "colab": {
     "base_uri": "https://localhost:8080/",
     "height": 85
    },
    "colab_type": "code",
    "id": "zoolMA5V4jDI",
    "outputId": "332c0cee-0551-42ee-add7-a015049f1fdd"
   },
   "outputs": [
    {
     "data": {
      "text/plain": [
       "Index(['department', 'region', 'education', 'gender', 'recruitment_channel',\n",
       "       'no_of_trainings', 'age', 'previous_year_rating', 'length_of_service',\n",
       "       'KPIs_met >80%', 'awards_won?', 'avg_training_score'],\n",
       "      dtype='object')"
      ]
     },
     "execution_count": 39,
     "metadata": {},
     "output_type": "execute_result"
    }
   ],
   "source": [
    "# defining the test set\n",
    "\n",
    "x_test = test\n",
    "\n",
    "x_test.columns"
   ]
  },
  {
   "cell_type": "code",
   "execution_count": 40,
   "metadata": {
    "colab": {
     "base_uri": "https://localhost:8080/",
     "height": 374
    },
    "colab_type": "code",
    "id": "qQVR4gRI4VpD",
    "outputId": "69104289-fcef-4672-ab5d-270659850130"
   },
   "outputs": [
    {
     "data": {
      "text/plain": [
       "Index(['no_of_trainings', 'age', 'previous_year_rating', 'length_of_service',\n",
       "       'KPIs_met >80%', 'awards_won?', 'avg_training_score',\n",
       "       'department_Analytics', 'department_Finance', 'department_HR',\n",
       "       'department_Legal', 'department_Operations', 'department_Procurement',\n",
       "       'department_R&D', 'department_Sales & Marketing',\n",
       "       'department_Technology', 'region_region_1', 'region_region_10',\n",
       "       'region_region_11', 'region_region_12', 'region_region_13',\n",
       "       'region_region_14', 'region_region_15', 'region_region_16',\n",
       "       'region_region_17', 'region_region_18', 'region_region_19',\n",
       "       'region_region_2', 'region_region_20', 'region_region_21',\n",
       "       'region_region_22', 'region_region_23', 'region_region_24',\n",
       "       'region_region_25', 'region_region_26', 'region_region_27',\n",
       "       'region_region_28', 'region_region_29', 'region_region_3',\n",
       "       'region_region_30', 'region_region_31', 'region_region_32',\n",
       "       'region_region_33', 'region_region_34', 'region_region_4',\n",
       "       'region_region_5', 'region_region_6', 'region_region_7',\n",
       "       'region_region_8', 'region_region_9', 'education_Bachelor's',\n",
       "       'education_Below Secondary', 'education_Master's & above', 'gender_f',\n",
       "       'gender_m', 'recruitment_channel_other', 'recruitment_channel_referred',\n",
       "       'recruitment_channel_sourcing'],\n",
       "      dtype='object')"
      ]
     },
     "execution_count": 40,
     "metadata": {},
     "output_type": "execute_result"
    }
   ],
   "source": [
    "# one hot encoding for the test set\n",
    "\n",
    "x_test = pd.get_dummies(x_test)\n",
    "\n",
    "x_test.columns"
   ]
  },
  {
   "cell_type": "code",
   "execution_count": 41,
   "metadata": {
    "colab": {
     "base_uri": "https://localhost:8080/",
     "height": 51
    },
    "colab_type": "code",
    "id": "cM8Kn7X0477u",
    "outputId": "40ba512a-ebf1-4c82-e0a4-58f533ae9793"
   },
   "outputs": [
    {
     "name": "stdout",
     "output_type": "stream",
     "text": [
      "Shape of x: (54808, 12)\n",
      "Shape of y: (54808,)\n"
     ]
    }
   ],
   "source": [
    "# splitting the train set into dependent and independent sets\n",
    "\n",
    "x = train.iloc[:, :-1]\n",
    "y = train.iloc[:, -1]\n",
    "\n",
    "print(\"Shape of x:\", x.shape)\n",
    "print(\"Shape of y:\", y.shape)"
   ]
  },
  {
   "cell_type": "code",
   "execution_count": 42,
   "metadata": {
    "colab": {
     "base_uri": "https://localhost:8080/",
     "height": 374
    },
    "colab_type": "code",
    "id": "xbEXb5zP2x4m",
    "outputId": "7da1503d-2def-49d3-b162-4167706b144a"
   },
   "outputs": [
    {
     "data": {
      "text/plain": [
       "Index(['no_of_trainings', 'age', 'previous_year_rating', 'length_of_service',\n",
       "       'KPIs_met >80%', 'awards_won?', 'avg_training_score',\n",
       "       'department_Analytics', 'department_Finance', 'department_HR',\n",
       "       'department_Legal', 'department_Operations', 'department_Procurement',\n",
       "       'department_R&D', 'department_Sales & Marketing',\n",
       "       'department_Technology', 'region_region_1', 'region_region_10',\n",
       "       'region_region_11', 'region_region_12', 'region_region_13',\n",
       "       'region_region_14', 'region_region_15', 'region_region_16',\n",
       "       'region_region_17', 'region_region_18', 'region_region_19',\n",
       "       'region_region_2', 'region_region_20', 'region_region_21',\n",
       "       'region_region_22', 'region_region_23', 'region_region_24',\n",
       "       'region_region_25', 'region_region_26', 'region_region_27',\n",
       "       'region_region_28', 'region_region_29', 'region_region_3',\n",
       "       'region_region_30', 'region_region_31', 'region_region_32',\n",
       "       'region_region_33', 'region_region_34', 'region_region_4',\n",
       "       'region_region_5', 'region_region_6', 'region_region_7',\n",
       "       'region_region_8', 'region_region_9', 'education_Bachelor's',\n",
       "       'education_Below Secondary', 'education_Master's & above', 'gender_f',\n",
       "       'gender_m', 'recruitment_channel_other', 'recruitment_channel_referred',\n",
       "       'recruitment_channel_sourcing'],\n",
       "      dtype='object')"
      ]
     },
     "execution_count": 42,
     "metadata": {},
     "output_type": "execute_result"
    }
   ],
   "source": [
    "# one hot encoding for the train set\n",
    "\n",
    "x = pd.get_dummies(x)\n",
    "\n",
    "x.columns"
   ]
  },
  {
   "cell_type": "markdown",
   "metadata": {
    "colab_type": "text",
    "id": "vH-c0BwI9Yzn"
   },
   "source": [
    "**Oversampling of the Model**"
   ]
  },
  {
   "cell_type": "code",
   "execution_count": 43,
   "metadata": {
    "colab": {
     "base_uri": "https://localhost:8080/",
     "height": 51
    },
    "colab_type": "code",
    "id": "gXAytSzZOP1Q",
    "outputId": "eb1b59e6-e41e-42bf-a429-09166b8f2ded"
   },
   "outputs": [
    {
     "name": "stdout",
     "output_type": "stream",
     "text": [
      "Size of x-sample : (100280, 58)\n",
      "Size of y-sample : (100280, 1)\n"
     ]
    }
   ],
   "source": [
    "from imblearn.over_sampling import SMOTE\n",
    "\n",
    "oversample = SMOTE()\n",
    "\n",
    "\n",
    "x_sample, y_sample = oversample.fit_resample(x, y.values.ravel())\n",
    "\n",
    "x_sample = pd.DataFrame(x_sample)\n",
    "y_sample = pd.DataFrame(y_sample)\n",
    "\n",
    "# checking the sizes of the sample data\n",
    "print(\"Size of x-sample :\", x_sample.shape)\n",
    "print(\"Size of y-sample :\", y_sample.shape)"
   ]
  },
  {
   "cell_type": "code",
   "execution_count": 44,
   "metadata": {
    "colab": {
     "base_uri": "https://localhost:8080/",
     "height": 85
    },
    "colab_type": "code",
    "id": "L_qoUgNjQUjT",
    "outputId": "a8fe1f9a-d139-4077-c86d-571c8b55d1ed"
   },
   "outputs": [
    {
     "name": "stdout",
     "output_type": "stream",
     "text": [
      "Shape of x_train:  (80224, 58)\n",
      "Shape of x_valid:  (20056, 58)\n",
      "Shape of y_train:  (80224, 1)\n",
      "Shape of y_valid:  (20056, 1)\n"
     ]
    }
   ],
   "source": [
    "# splitting x and y into train and validation sets\n",
    "\n",
    "from sklearn.model_selection import train_test_split\n",
    "\n",
    "x_train, x_valid, y_train, y_valid = train_test_split(x_sample, y_sample, test_size = 0.2, random_state = 0)\n",
    "\n",
    "print(\"Shape of x_train: \", x_train.shape)\n",
    "print(\"Shape of x_valid: \", x_valid.shape)\n",
    "print(\"Shape of y_train: \", y_train.shape)\n",
    "print(\"Shape of y_valid: \", y_valid.shape)"
   ]
  },
  {
   "cell_type": "code",
   "execution_count": 45,
   "metadata": {
    "colab": {
     "base_uri": "https://localhost:8080/",
     "height": 71
    },
    "colab_type": "code",
    "id": "mkfzvejLQhq9",
    "outputId": "594dca12-063d-4c99-c429-3f60b52b3347"
   },
   "outputs": [],
   "source": [
    "# standard scaling\n",
    "\n",
    "from sklearn.preprocessing import StandardScaler\n",
    "\n",
    "sc = StandardScaler()\n",
    "x_train = sc.fit_transform(x_train)\n",
    "x_test  = sc.transform(x_test)\n",
    "x_valid = sc.transform(x_valid)"
   ]
  },
  {
   "cell_type": "code",
   "execution_count": 46,
   "metadata": {
    "colab": {
     "base_uri": "https://localhost:8080/",
     "height": 54
    },
    "colab_type": "code",
    "id": "dbJXnow_QjHy",
    "outputId": "582e5172-93da-4d46-98e2-e910af29e40a"
   },
   "outputs": [
    {
     "data": {
      "text/plain": [
       "'\\nfrom sklearn.decomposition import PCA\\n\\npca = PCA(n_components = None)\\nx_train = pca.fit_transform(x_train)\\nx_test = pca.transform(x_test)\\nx_valid = pca.transform(x_valid)\\n\\n'"
      ]
     },
     "execution_count": 46,
     "metadata": {},
     "output_type": "execute_result"
    }
   ],
   "source": [
    "# applying pca\n",
    "\n",
    "'''\n",
    "from sklearn.decomposition import PCA\n",
    "\n",
    "pca = PCA(n_components = None)\n",
    "x_train = pca.fit_transform(x_train)\n",
    "x_test = pca.transform(x_test)\n",
    "x_valid = pca.transform(x_valid)\n",
    "\n",
    "'''"
   ]
  },
  {
   "cell_type": "markdown",
   "metadata": {
    "colab_type": "text",
    "id": "I8ZvURERQpL2"
   },
   "source": [
    "**Modelling**"
   ]
  },
  {
   "cell_type": "markdown",
   "metadata": {
    "colab_type": "text",
    "id": "Q26o_jMm78pg"
   },
   "source": [
    "**Random Forest Classifer**"
   ]
  },
  {
   "cell_type": "code",
   "execution_count": 47,
   "metadata": {
    "colab": {
     "base_uri": "https://localhost:8080/",
     "height": 139
    },
    "colab_type": "code",
    "id": "UtrNl2If7cJ2",
    "outputId": "2dd228a4-6eeb-41b4-bd0d-01a9c7a21527"
   },
   "outputs": [
    {
     "name": "stderr",
     "output_type": "stream",
     "text": [
      "C:\\Users\\abhil\\AppData\\Local\\Temp\\ipykernel_174868\\274386551.py:7: DataConversionWarning: A column-vector y was passed when a 1d array was expected. Please change the shape of y to (n_samples,), for example using ravel().\n",
      "  rfc.fit(x_train, y_train)\n"
     ]
    },
    {
     "name": "stdout",
     "output_type": "stream",
     "text": [
      "Training Accuracy : 0.9998005584363782\n"
     ]
    },
    {
     "data": {
      "text/plain": [
       "'\\nprint(\"Validation Accuracy :\", rfc.score(x_valid, y_valid))\\n\\ncm = confusion_matrix(y_valid, rfc_pred)\\nprint(cm)\\n\\ncr = classification_report(y_valid, rfc_pred)\\nprint(cr)\\n\\napc = average_precision_score(y_valid, rfc_pred)\\nprint(\"Average Precision Score :\", apc)\\n'"
      ]
     },
     "execution_count": 47,
     "metadata": {},
     "output_type": "execute_result"
    }
   ],
   "source": [
    "from sklearn.ensemble import RandomForestClassifier\n",
    "from sklearn.metrics import confusion_matrix\n",
    "from sklearn.metrics import classification_report\n",
    "from sklearn.metrics import average_precision_score\n",
    "\n",
    "rfc = RandomForestClassifier()\n",
    "rfc.fit(x_train, y_train)\n",
    "\n",
    "rfc_pred = rfc.predict(x_test)\n",
    "\n",
    "print(\"Training Accuracy :\", rfc.score(x_train, y_train))\n",
    "\n",
    "'''\n",
    "print(\"Validation Accuracy :\", rfc.score(x_valid, y_valid))\n",
    "\n",
    "cm = confusion_matrix(y_valid, rfc_pred)\n",
    "print(cm)\n",
    "\n",
    "cr = classification_report(y_valid, rfc_pred)\n",
    "print(cr)\n",
    "\n",
    "apc = average_precision_score(y_valid, rfc_pred)\n",
    "print(\"Average Precision Score :\", apc)\n",
    "'''"
   ]
  },
  {
   "cell_type": "markdown",
   "metadata": {
    "colab_type": "text",
    "id": "8TlnPxdsR0oY"
   },
   "source": [
    "**Xg-Boost Classifier**"
   ]
  },
  {
   "cell_type": "code",
   "execution_count": 48,
   "metadata": {},
   "outputs": [
    {
     "name": "stdout",
     "output_type": "stream",
     "text": [
      "Requirement already satisfied: lightgbm in c:\\users\\abhil\\anaconda3\\lib\\site-packages (3.3.2)\n",
      "Requirement already satisfied: numpy in c:\\users\\abhil\\anaconda3\\lib\\site-packages (from lightgbm) (1.21.5)\n",
      "Requirement already satisfied: scipy in c:\\users\\abhil\\anaconda3\\lib\\site-packages (from lightgbm) (1.7.3)\n",
      "Requirement already satisfied: scikit-learn!=0.22.0 in c:\\users\\abhil\\anaconda3\\lib\\site-packages (from lightgbm) (1.1.1)\n",
      "Requirement already satisfied: wheel in c:\\users\\abhil\\anaconda3\\lib\\site-packages (from lightgbm) (0.37.1)\n",
      "Requirement already satisfied: threadpoolctl>=2.0.0 in c:\\users\\abhil\\anaconda3\\lib\\site-packages (from scikit-learn!=0.22.0->lightgbm) (2.2.0)\n",
      "Requirement already satisfied: joblib>=1.0.0 in c:\\users\\abhil\\anaconda3\\lib\\site-packages (from scikit-learn!=0.22.0->lightgbm) (1.1.0)\n"
     ]
    }
   ],
   "source": [
    "!pip install lightgbm"
   ]
  },
  {
   "cell_type": "code",
   "execution_count": 49,
   "metadata": {
    "colab": {
     "base_uri": "https://localhost:8080/",
     "height": 139
    },
    "colab_type": "code",
    "id": "iuL4B2skRzax",
    "outputId": "06db759f-b7e8-42b0-aff4-868b87987a38"
   },
   "outputs": [
    {
     "name": "stdout",
     "output_type": "stream",
     "text": [
      "Training Accuracy : 0.9635894495412844\n"
     ]
    },
    {
     "data": {
      "text/plain": [
       "'\\nprint(\"Validation Accuracy :\", xgb.score(x_valid, y_valid))\\n\\ncm = confusion_matrix(y_valid, xgb_pred)\\nprint(cm)\\n\\ncr = classification_report(y_valid, xgb_pred)\\nprint(cr)\\n\\napc = average_precision_score(y_valid, xgb_pred)\\nprint(\"Average Precision Score :\", apc)\\n'"
      ]
     },
     "execution_count": 49,
     "metadata": {},
     "output_type": "execute_result"
    }
   ],
   "source": [
    "from xgboost.sklearn import XGBClassifier\n",
    "from sklearn.metrics import confusion_matrix\n",
    "from sklearn.metrics import classification_report\n",
    "from sklearn.metrics import average_precision_score\n",
    "\n",
    "xgb = XGBClassifier()\n",
    "xgb.fit(x_train, y_train)\n",
    "\n",
    "xgb_pred = xgb.predict(x_test)\n",
    "\n",
    "print(\"Training Accuracy :\", xgb.score(x_train, y_train))\n",
    "'''\n",
    "print(\"Validation Accuracy :\", xgb.score(x_valid, y_valid))\n",
    "\n",
    "cm = confusion_matrix(y_valid, xgb_pred)\n",
    "print(cm)\n",
    "\n",
    "cr = classification_report(y_valid, xgb_pred)\n",
    "print(cr)\n",
    "\n",
    "apc = average_precision_score(y_valid, xgb_pred)\n",
    "print(\"Average Precision Score :\", apc)\n",
    "'''"
   ]
  },
  {
   "cell_type": "markdown",
   "metadata": {
    "colab_type": "text",
    "id": "PaCisQBKS6HM"
   },
   "source": [
    "**Light Gradient Boosting Classifier**"
   ]
  },
  {
   "cell_type": "code",
   "execution_count": 50,
   "metadata": {
    "colab": {
     "base_uri": "https://localhost:8080/",
     "height": 139
    },
    "colab_type": "code",
    "id": "tE7qKRjmS-qW",
    "outputId": "221fe0a4-2553-4474-93b6-9a82b3ac43ee"
   },
   "outputs": [
    {
     "name": "stderr",
     "output_type": "stream",
     "text": [
      "C:\\Users\\abhil\\anaconda3\\lib\\site-packages\\sklearn\\preprocessing\\_label.py:98: DataConversionWarning: A column-vector y was passed when a 1d array was expected. Please change the shape of y to (n_samples, ), for example using ravel().\n",
      "  y = column_or_1d(y, warn=True)\n",
      "C:\\Users\\abhil\\anaconda3\\lib\\site-packages\\sklearn\\preprocessing\\_label.py:133: DataConversionWarning: A column-vector y was passed when a 1d array was expected. Please change the shape of y to (n_samples, ), for example using ravel().\n",
      "  y = column_or_1d(y, warn=True)\n"
     ]
    },
    {
     "name": "stdout",
     "output_type": "stream",
     "text": [
      "Training Accuracy : 0.9597501994415636\n"
     ]
    },
    {
     "data": {
      "text/plain": [
       "'\\nprint(\"Validation Accuracy :\", lgb.score(x_valid, y_valid))\\n\\ncm = confusion_matrix(y_valid, lgb_pred)\\nprint(cm)\\n\\ncr = classification_report(y_valid, lgb_pred)\\nprint(cr)\\n\\napc = average_precision_score(y_valid, lgb_pred)\\nprint(\"Average Precision Score :\", apc)\\n'"
      ]
     },
     "execution_count": 50,
     "metadata": {},
     "output_type": "execute_result"
    }
   ],
   "source": [
    "from lightgbm import LGBMClassifier\n",
    "from sklearn.metrics import confusion_matrix\n",
    "from sklearn.metrics import classification_report\n",
    "from sklearn.metrics import average_precision_score\n",
    "\n",
    "lgb = LGBMClassifier()\n",
    "lgb.fit(x_train, y_train)\n",
    "\n",
    "lgb_pred = lgb.predict(x_test)\n",
    "\n",
    "print(\"Training Accuracy :\", lgb.score(x_train, y_train))\n",
    "'''\n",
    "print(\"Validation Accuracy :\", lgb.score(x_valid, y_valid))\n",
    "\n",
    "cm = confusion_matrix(y_valid, lgb_pred)\n",
    "print(cm)\n",
    "\n",
    "cr = classification_report(y_valid, lgb_pred)\n",
    "print(cr)\n",
    "\n",
    "apc = average_precision_score(y_valid, lgb_pred)\n",
    "print(\"Average Precision Score :\", apc)\n",
    "'''"
   ]
  },
  {
   "cell_type": "markdown",
   "metadata": {
    "colab_type": "text",
    "id": "kJ3iqGA1U3W6"
   },
   "source": [
    "**Extra Trees Classifier**"
   ]
  },
  {
   "cell_type": "code",
   "execution_count": 51,
   "metadata": {
    "colab": {
     "base_uri": "https://localhost:8080/",
     "height": 139
    },
    "colab_type": "code",
    "id": "QsM_UlkoU2qr",
    "outputId": "220fb2b8-acf4-4f46-803b-821b9625358b"
   },
   "outputs": [
    {
     "name": "stderr",
     "output_type": "stream",
     "text": [
      "C:\\Users\\abhil\\AppData\\Local\\Temp\\ipykernel_174868\\3794549080.py:4: DataConversionWarning: A column-vector y was passed when a 1d array was expected. Please change the shape of y to (n_samples,), for example using ravel().\n",
      "  etc.fit(x_train, y_train)\n"
     ]
    },
    {
     "name": "stdout",
     "output_type": "stream",
     "text": [
      "Training Accuracy : 0.9998130235341045\n"
     ]
    },
    {
     "data": {
      "text/plain": [
       "'\\nprint(\"Validation Accuracy :\", etc.score(x_valid, y_valid))\\n\\ncm = confusion_matrix(y_valid, etc_pred)\\nprint(cm)\\n\\ncr = classification_report(y_valid, etc_pred)\\nprint(cr)\\n\\napc = average_precision_score(y_valid, etc_pred)\\nprint(\"Average Precision Score :\", apc)\\n'"
      ]
     },
     "execution_count": 51,
     "metadata": {},
     "output_type": "execute_result"
    }
   ],
   "source": [
    "from sklearn.ensemble import ExtraTreesClassifier\n",
    "\n",
    "etc = ExtraTreesClassifier()\n",
    "etc.fit(x_train, y_train)\n",
    "\n",
    "etc_pred = etc.predict(x_test)\n",
    "\n",
    "print(\"Training Accuracy :\", etc.score(x_train, y_train))\n",
    "'''\n",
    "print(\"Validation Accuracy :\", etc.score(x_valid, y_valid))\n",
    "\n",
    "cm = confusion_matrix(y_valid, etc_pred)\n",
    "print(cm)\n",
    "\n",
    "cr = classification_report(y_valid, etc_pred)\n",
    "print(cr)\n",
    "\n",
    "apc = average_precision_score(y_valid, etc_pred)\n",
    "print(\"Average Precision Score :\", apc)\n",
    "'''"
   ]
  },
  {
   "cell_type": "markdown",
   "metadata": {
    "colab_type": "text",
    "id": "VfIiAFnxQwHg"
   },
   "source": [
    "**Cat Boost Classifier**"
   ]
  },
  {
   "cell_type": "code",
   "execution_count": 52,
   "metadata": {
    "colab": {
     "base_uri": "https://localhost:8080/",
     "height": 136
    },
    "colab_type": "code",
    "id": "u6wV4_QKRXQB",
    "outputId": "841073d1-28d7-44f2-bc62-ec973dfefb54"
   },
   "outputs": [
    {
     "name": "stdout",
     "output_type": "stream",
     "text": [
      "Requirement already satisfied: catboost in c:\\users\\abhil\\anaconda3\\lib\\site-packages (1.0.6)\n",
      "Requirement already satisfied: graphviz in c:\\users\\abhil\\anaconda3\\lib\\site-packages (from catboost) (0.20.1)\n",
      "Requirement already satisfied: six in c:\\users\\abhil\\anaconda3\\lib\\site-packages (from catboost) (1.16.0)\n",
      "Requirement already satisfied: plotly in c:\\users\\abhil\\anaconda3\\lib\\site-packages (from catboost) (5.9.0)\n",
      "Requirement already satisfied: scipy in c:\\users\\abhil\\anaconda3\\lib\\site-packages (from catboost) (1.7.3)\n",
      "Requirement already satisfied: numpy>=1.16.0 in c:\\users\\abhil\\anaconda3\\lib\\site-packages (from catboost) (1.21.5)\n",
      "Requirement already satisfied: pandas>=0.24.0 in c:\\users\\abhil\\anaconda3\\lib\\site-packages (from catboost) (1.4.3)\n",
      "Requirement already satisfied: matplotlib in c:\\users\\abhil\\anaconda3\\lib\\site-packages (from catboost) (3.5.1)\n",
      "Requirement already satisfied: python-dateutil>=2.8.1 in c:\\users\\abhil\\anaconda3\\lib\\site-packages (from pandas>=0.24.0->catboost) (2.8.2)\n",
      "Requirement already satisfied: pytz>=2020.1 in c:\\users\\abhil\\anaconda3\\lib\\site-packages (from pandas>=0.24.0->catboost) (2022.1)\n",
      "Requirement already satisfied: pillow>=6.2.0 in c:\\users\\abhil\\anaconda3\\lib\\site-packages (from matplotlib->catboost) (9.2.0)\n",
      "Requirement already satisfied: kiwisolver>=1.0.1 in c:\\users\\abhil\\anaconda3\\lib\\site-packages (from matplotlib->catboost) (1.4.2)\n",
      "Requirement already satisfied: packaging>=20.0 in c:\\users\\abhil\\anaconda3\\lib\\site-packages (from matplotlib->catboost) (21.3)\n",
      "Requirement already satisfied: cycler>=0.10 in c:\\users\\abhil\\anaconda3\\lib\\site-packages (from matplotlib->catboost) (0.11.0)\n",
      "Requirement already satisfied: fonttools>=4.22.0 in c:\\users\\abhil\\anaconda3\\lib\\site-packages (from matplotlib->catboost) (4.25.0)\n",
      "Requirement already satisfied: pyparsing>=2.2.1 in c:\\users\\abhil\\anaconda3\\lib\\site-packages (from matplotlib->catboost) (3.0.4)\n",
      "Requirement already satisfied: tenacity>=6.2.0 in c:\\users\\abhil\\anaconda3\\lib\\site-packages (from plotly->catboost) (8.0.1)\n"
     ]
    }
   ],
   "source": [
    "!pip install catboost"
   ]
  },
  {
   "cell_type": "code",
   "execution_count": 53,
   "metadata": {
    "colab": {
     "base_uri": "https://localhost:8080/",
     "height": 17071
    },
    "colab_type": "code",
    "id": "FuSlhDlP9LSS",
    "outputId": "bf2752c4-e4ad-4e4f-d06a-ab21ab8aebaa"
   },
   "outputs": [
    {
     "name": "stdout",
     "output_type": "stream",
     "text": [
      "0:\tlearn: 0.6900073\ttotal: 215ms\tremaining: 3m 34s\n",
      "1:\tlearn: 0.6871086\ttotal: 268ms\tremaining: 2m 13s\n",
      "2:\tlearn: 0.6845999\ttotal: 319ms\tremaining: 1m 45s\n",
      "3:\tlearn: 0.6814487\ttotal: 366ms\tremaining: 1m 31s\n",
      "4:\tlearn: 0.6786146\ttotal: 405ms\tremaining: 1m 20s\n",
      "5:\tlearn: 0.6758213\ttotal: 446ms\tremaining: 1m 13s\n",
      "6:\tlearn: 0.6728613\ttotal: 494ms\tremaining: 1m 10s\n",
      "7:\tlearn: 0.6701761\ttotal: 539ms\tremaining: 1m 6s\n",
      "8:\tlearn: 0.6671502\ttotal: 590ms\tremaining: 1m 4s\n",
      "9:\tlearn: 0.6644550\ttotal: 620ms\tremaining: 1m 1s\n",
      "10:\tlearn: 0.6619383\ttotal: 675ms\tremaining: 1m\n",
      "11:\tlearn: 0.6593926\ttotal: 726ms\tremaining: 59.8s\n",
      "12:\tlearn: 0.6569421\ttotal: 777ms\tremaining: 59s\n",
      "13:\tlearn: 0.6545334\ttotal: 832ms\tremaining: 58.6s\n",
      "14:\tlearn: 0.6520689\ttotal: 887ms\tremaining: 58.2s\n",
      "15:\tlearn: 0.6495654\ttotal: 938ms\tremaining: 57.7s\n",
      "16:\tlearn: 0.6474819\ttotal: 987ms\tremaining: 57.1s\n",
      "17:\tlearn: 0.6452584\ttotal: 1.04s\tremaining: 56.6s\n",
      "18:\tlearn: 0.6425408\ttotal: 1.09s\tremaining: 56.2s\n",
      "19:\tlearn: 0.6397126\ttotal: 1.14s\tremaining: 56s\n",
      "20:\tlearn: 0.6378005\ttotal: 1.19s\tremaining: 55.3s\n",
      "21:\tlearn: 0.6356063\ttotal: 1.24s\tremaining: 55.2s\n",
      "22:\tlearn: 0.6334069\ttotal: 1.29s\tremaining: 54.9s\n",
      "23:\tlearn: 0.6316371\ttotal: 1.35s\tremaining: 54.9s\n",
      "24:\tlearn: 0.6290613\ttotal: 1.39s\tremaining: 54.4s\n",
      "25:\tlearn: 0.6269824\ttotal: 1.44s\tremaining: 54s\n",
      "26:\tlearn: 0.6247396\ttotal: 1.5s\tremaining: 53.9s\n",
      "27:\tlearn: 0.6231489\ttotal: 1.57s\tremaining: 54.5s\n",
      "28:\tlearn: 0.6212532\ttotal: 1.61s\tremaining: 53.9s\n",
      "29:\tlearn: 0.6191680\ttotal: 1.67s\tremaining: 54s\n",
      "30:\tlearn: 0.6172418\ttotal: 1.72s\tremaining: 53.8s\n",
      "31:\tlearn: 0.6155302\ttotal: 1.77s\tremaining: 53.7s\n",
      "32:\tlearn: 0.6138274\ttotal: 1.82s\tremaining: 53.4s\n",
      "33:\tlearn: 0.6123055\ttotal: 1.88s\tremaining: 53.4s\n",
      "34:\tlearn: 0.6108206\ttotal: 1.93s\tremaining: 53.3s\n",
      "35:\tlearn: 0.6090698\ttotal: 1.99s\tremaining: 53.3s\n",
      "36:\tlearn: 0.6069859\ttotal: 2.03s\tremaining: 52.8s\n",
      "37:\tlearn: 0.6054999\ttotal: 2.08s\tremaining: 52.7s\n",
      "38:\tlearn: 0.6040024\ttotal: 2.14s\tremaining: 52.6s\n",
      "39:\tlearn: 0.6021758\ttotal: 2.19s\tremaining: 52.6s\n",
      "40:\tlearn: 0.6006404\ttotal: 2.23s\tremaining: 52.3s\n",
      "41:\tlearn: 0.5992682\ttotal: 2.28s\tremaining: 52.1s\n",
      "42:\tlearn: 0.5976154\ttotal: 2.33s\tremaining: 52s\n",
      "43:\tlearn: 0.5961763\ttotal: 2.39s\tremaining: 51.9s\n",
      "44:\tlearn: 0.5945797\ttotal: 2.43s\tremaining: 51.7s\n",
      "45:\tlearn: 0.5929098\ttotal: 2.48s\tremaining: 51.4s\n",
      "46:\tlearn: 0.5907789\ttotal: 2.51s\tremaining: 51s\n",
      "47:\tlearn: 0.5890320\ttotal: 2.57s\tremaining: 50.9s\n",
      "48:\tlearn: 0.5875188\ttotal: 2.62s\tremaining: 50.8s\n",
      "49:\tlearn: 0.5861761\ttotal: 2.66s\tremaining: 50.5s\n",
      "50:\tlearn: 0.5848192\ttotal: 2.71s\tremaining: 50.4s\n",
      "51:\tlearn: 0.5833095\ttotal: 2.76s\tremaining: 50.3s\n",
      "52:\tlearn: 0.5814276\ttotal: 2.81s\tremaining: 50.3s\n",
      "53:\tlearn: 0.5796881\ttotal: 2.86s\tremaining: 50.1s\n",
      "54:\tlearn: 0.5783928\ttotal: 2.91s\tremaining: 50s\n",
      "55:\tlearn: 0.5757961\ttotal: 2.96s\tremaining: 49.9s\n",
      "56:\tlearn: 0.5743676\ttotal: 3.01s\tremaining: 49.8s\n",
      "57:\tlearn: 0.5720424\ttotal: 3.06s\tremaining: 49.7s\n",
      "58:\tlearn: 0.5707768\ttotal: 3.11s\tremaining: 49.6s\n",
      "59:\tlearn: 0.5692613\ttotal: 3.16s\tremaining: 49.5s\n",
      "60:\tlearn: 0.5679898\ttotal: 3.22s\tremaining: 49.5s\n",
      "61:\tlearn: 0.5666340\ttotal: 3.27s\tremaining: 49.5s\n",
      "62:\tlearn: 0.5655714\ttotal: 3.32s\tremaining: 49.4s\n",
      "63:\tlearn: 0.5640643\ttotal: 3.38s\tremaining: 49.4s\n",
      "64:\tlearn: 0.5630398\ttotal: 3.44s\tremaining: 49.5s\n",
      "65:\tlearn: 0.5618577\ttotal: 3.49s\tremaining: 49.4s\n",
      "66:\tlearn: 0.5602063\ttotal: 3.53s\tremaining: 49.2s\n",
      "67:\tlearn: 0.5578149\ttotal: 3.6s\tremaining: 49.3s\n",
      "68:\tlearn: 0.5562428\ttotal: 3.67s\tremaining: 49.5s\n",
      "69:\tlearn: 0.5550665\ttotal: 3.72s\tremaining: 49.4s\n",
      "70:\tlearn: 0.5534796\ttotal: 3.76s\tremaining: 49.2s\n",
      "71:\tlearn: 0.5519607\ttotal: 3.81s\tremaining: 49.2s\n",
      "72:\tlearn: 0.5508382\ttotal: 3.87s\tremaining: 49.2s\n",
      "73:\tlearn: 0.5497153\ttotal: 3.93s\tremaining: 49.2s\n",
      "74:\tlearn: 0.5482063\ttotal: 3.98s\tremaining: 49.1s\n",
      "75:\tlearn: 0.5468581\ttotal: 4.04s\tremaining: 49.1s\n",
      "76:\tlearn: 0.5450052\ttotal: 4.1s\tremaining: 49.1s\n",
      "77:\tlearn: 0.5437442\ttotal: 4.16s\tremaining: 49.1s\n",
      "78:\tlearn: 0.5425437\ttotal: 4.21s\tremaining: 49.1s\n",
      "79:\tlearn: 0.5408908\ttotal: 4.26s\tremaining: 49s\n",
      "80:\tlearn: 0.5398465\ttotal: 4.31s\tremaining: 48.9s\n",
      "81:\tlearn: 0.5386276\ttotal: 4.37s\tremaining: 48.9s\n",
      "82:\tlearn: 0.5366941\ttotal: 4.41s\tremaining: 48.8s\n",
      "83:\tlearn: 0.5358635\ttotal: 4.46s\tremaining: 48.6s\n",
      "84:\tlearn: 0.5350539\ttotal: 4.49s\tremaining: 48.3s\n",
      "85:\tlearn: 0.5330245\ttotal: 4.52s\tremaining: 48.1s\n",
      "86:\tlearn: 0.5311822\ttotal: 4.55s\tremaining: 47.8s\n",
      "87:\tlearn: 0.5300590\ttotal: 4.59s\tremaining: 47.6s\n",
      "88:\tlearn: 0.5286444\ttotal: 4.64s\tremaining: 47.5s\n",
      "89:\tlearn: 0.5275024\ttotal: 4.69s\tremaining: 47.4s\n",
      "90:\tlearn: 0.5263825\ttotal: 4.74s\tremaining: 47.3s\n",
      "91:\tlearn: 0.5243153\ttotal: 4.79s\tremaining: 47.3s\n",
      "92:\tlearn: 0.5231981\ttotal: 4.83s\tremaining: 47.2s\n",
      "93:\tlearn: 0.5216007\ttotal: 4.89s\tremaining: 47.1s\n",
      "94:\tlearn: 0.5203450\ttotal: 4.94s\tremaining: 47.1s\n",
      "95:\tlearn: 0.5193481\ttotal: 4.99s\tremaining: 47s\n",
      "96:\tlearn: 0.5180495\ttotal: 5.05s\tremaining: 47s\n",
      "97:\tlearn: 0.5172153\ttotal: 5.09s\tremaining: 46.8s\n",
      "98:\tlearn: 0.5160589\ttotal: 5.14s\tremaining: 46.8s\n",
      "99:\tlearn: 0.5149285\ttotal: 5.19s\tremaining: 46.8s\n",
      "100:\tlearn: 0.5139316\ttotal: 5.25s\tremaining: 46.8s\n",
      "101:\tlearn: 0.5130334\ttotal: 5.3s\tremaining: 46.7s\n",
      "102:\tlearn: 0.5120026\ttotal: 5.34s\tremaining: 46.5s\n",
      "103:\tlearn: 0.5107428\ttotal: 5.4s\tremaining: 46.5s\n",
      "104:\tlearn: 0.5100841\ttotal: 5.44s\tremaining: 46.4s\n",
      "105:\tlearn: 0.5091703\ttotal: 5.48s\tremaining: 46.2s\n",
      "106:\tlearn: 0.5077726\ttotal: 5.51s\tremaining: 46s\n",
      "107:\tlearn: 0.5063607\ttotal: 5.55s\tremaining: 45.9s\n",
      "108:\tlearn: 0.5047593\ttotal: 5.61s\tremaining: 45.8s\n",
      "109:\tlearn: 0.5038231\ttotal: 5.67s\tremaining: 45.9s\n",
      "110:\tlearn: 0.5025057\ttotal: 5.71s\tremaining: 45.7s\n",
      "111:\tlearn: 0.5009911\ttotal: 5.76s\tremaining: 45.7s\n",
      "112:\tlearn: 0.5000763\ttotal: 5.82s\tremaining: 45.7s\n",
      "113:\tlearn: 0.4987729\ttotal: 5.88s\tremaining: 45.7s\n",
      "114:\tlearn: 0.4975570\ttotal: 5.93s\tremaining: 45.7s\n",
      "115:\tlearn: 0.4967527\ttotal: 5.99s\tremaining: 45.6s\n",
      "116:\tlearn: 0.4956728\ttotal: 6.04s\tremaining: 45.6s\n",
      "117:\tlearn: 0.4948155\ttotal: 6.09s\tremaining: 45.5s\n",
      "118:\tlearn: 0.4940477\ttotal: 6.15s\tremaining: 45.5s\n",
      "119:\tlearn: 0.4934857\ttotal: 6.19s\tremaining: 45.4s\n",
      "120:\tlearn: 0.4923864\ttotal: 6.24s\tremaining: 45.3s\n",
      "121:\tlearn: 0.4914368\ttotal: 6.29s\tremaining: 45.3s\n",
      "122:\tlearn: 0.4906205\ttotal: 6.34s\tremaining: 45.2s\n",
      "123:\tlearn: 0.4893474\ttotal: 6.39s\tremaining: 45.1s\n",
      "124:\tlearn: 0.4886342\ttotal: 6.43s\tremaining: 45s\n",
      "125:\tlearn: 0.4876561\ttotal: 6.48s\tremaining: 44.9s\n",
      "126:\tlearn: 0.4869673\ttotal: 6.52s\tremaining: 44.8s\n",
      "127:\tlearn: 0.4860489\ttotal: 6.57s\tremaining: 44.8s\n",
      "128:\tlearn: 0.4848991\ttotal: 6.62s\tremaining: 44.7s\n",
      "129:\tlearn: 0.4840077\ttotal: 6.68s\tremaining: 44.7s\n",
      "130:\tlearn: 0.4833636\ttotal: 6.73s\tremaining: 44.6s\n",
      "131:\tlearn: 0.4821960\ttotal: 6.78s\tremaining: 44.6s\n",
      "132:\tlearn: 0.4812630\ttotal: 6.82s\tremaining: 44.5s\n",
      "133:\tlearn: 0.4798995\ttotal: 6.87s\tremaining: 44.4s\n",
      "134:\tlearn: 0.4786251\ttotal: 6.93s\tremaining: 44.4s\n",
      "135:\tlearn: 0.4777957\ttotal: 6.98s\tremaining: 44.3s\n",
      "136:\tlearn: 0.4771627\ttotal: 7.03s\tremaining: 44.3s\n",
      "137:\tlearn: 0.4763859\ttotal: 7.08s\tremaining: 44.3s\n",
      "138:\tlearn: 0.4746885\ttotal: 7.14s\tremaining: 44.2s\n",
      "139:\tlearn: 0.4735296\ttotal: 7.19s\tremaining: 44.2s\n",
      "140:\tlearn: 0.4726217\ttotal: 7.24s\tremaining: 44.1s\n",
      "141:\tlearn: 0.4721723\ttotal: 7.29s\tremaining: 44.1s\n",
      "142:\tlearn: 0.4714317\ttotal: 7.35s\tremaining: 44s\n",
      "143:\tlearn: 0.4704975\ttotal: 7.4s\tremaining: 44s\n",
      "144:\tlearn: 0.4697306\ttotal: 7.45s\tremaining: 43.9s\n",
      "145:\tlearn: 0.4689205\ttotal: 7.5s\tremaining: 43.8s\n",
      "146:\tlearn: 0.4683668\ttotal: 7.54s\tremaining: 43.8s\n",
      "147:\tlearn: 0.4676878\ttotal: 7.61s\tremaining: 43.8s\n",
      "148:\tlearn: 0.4668811\ttotal: 7.66s\tremaining: 43.8s\n",
      "149:\tlearn: 0.4663828\ttotal: 7.72s\tremaining: 43.7s\n",
      "150:\tlearn: 0.4656274\ttotal: 7.77s\tremaining: 43.7s\n",
      "151:\tlearn: 0.4647115\ttotal: 7.83s\tremaining: 43.7s\n",
      "152:\tlearn: 0.4642701\ttotal: 7.86s\tremaining: 43.5s\n",
      "153:\tlearn: 0.4631614\ttotal: 7.92s\tremaining: 43.5s\n",
      "154:\tlearn: 0.4624571\ttotal: 7.97s\tremaining: 43.5s\n",
      "155:\tlearn: 0.4618516\ttotal: 8.03s\tremaining: 43.4s\n",
      "156:\tlearn: 0.4610740\ttotal: 8.08s\tremaining: 43.4s\n",
      "157:\tlearn: 0.4604860\ttotal: 8.13s\tremaining: 43.3s\n",
      "158:\tlearn: 0.4586195\ttotal: 8.18s\tremaining: 43.2s\n",
      "159:\tlearn: 0.4580029\ttotal: 8.23s\tremaining: 43.2s\n",
      "160:\tlearn: 0.4576373\ttotal: 8.28s\tremaining: 43.1s\n",
      "161:\tlearn: 0.4571720\ttotal: 8.33s\tremaining: 43.1s\n",
      "162:\tlearn: 0.4553393\ttotal: 8.37s\tremaining: 43s\n",
      "163:\tlearn: 0.4545699\ttotal: 8.42s\tremaining: 42.9s\n",
      "164:\tlearn: 0.4539874\ttotal: 8.46s\tremaining: 42.8s\n",
      "165:\tlearn: 0.4525241\ttotal: 8.5s\tremaining: 42.7s\n",
      "166:\tlearn: 0.4507490\ttotal: 8.55s\tremaining: 42.7s\n",
      "167:\tlearn: 0.4504019\ttotal: 8.61s\tremaining: 42.6s\n",
      "168:\tlearn: 0.4486371\ttotal: 8.66s\tremaining: 42.6s\n",
      "169:\tlearn: 0.4478551\ttotal: 8.71s\tremaining: 42.5s\n",
      "170:\tlearn: 0.4467408\ttotal: 8.76s\tremaining: 42.5s\n",
      "171:\tlearn: 0.4453854\ttotal: 8.81s\tremaining: 42.4s\n",
      "172:\tlearn: 0.4450123\ttotal: 8.87s\tremaining: 42.4s\n",
      "173:\tlearn: 0.4446511\ttotal: 8.91s\tremaining: 42.3s\n",
      "174:\tlearn: 0.4441980\ttotal: 8.96s\tremaining: 42.3s\n",
      "175:\tlearn: 0.4436199\ttotal: 9.01s\tremaining: 42.2s\n",
      "176:\tlearn: 0.4433230\ttotal: 9.07s\tremaining: 42.2s\n",
      "177:\tlearn: 0.4416632\ttotal: 9.12s\tremaining: 42.1s\n",
      "178:\tlearn: 0.4411757\ttotal: 9.18s\tremaining: 42.1s\n",
      "179:\tlearn: 0.4397824\ttotal: 9.23s\tremaining: 42.1s\n",
      "180:\tlearn: 0.4386378\ttotal: 9.29s\tremaining: 42s\n",
      "181:\tlearn: 0.4380945\ttotal: 9.34s\tremaining: 42s\n",
      "182:\tlearn: 0.4375034\ttotal: 9.39s\tremaining: 41.9s\n",
      "183:\tlearn: 0.4370019\ttotal: 9.45s\tremaining: 41.9s\n",
      "184:\tlearn: 0.4363112\ttotal: 9.5s\tremaining: 41.8s\n",
      "185:\tlearn: 0.4355070\ttotal: 9.54s\tremaining: 41.7s\n",
      "186:\tlearn: 0.4351879\ttotal: 9.59s\tremaining: 41.7s\n",
      "187:\tlearn: 0.4347069\ttotal: 9.65s\tremaining: 41.7s\n",
      "188:\tlearn: 0.4334089\ttotal: 9.7s\tremaining: 41.6s\n",
      "189:\tlearn: 0.4331131\ttotal: 9.75s\tremaining: 41.6s\n",
      "190:\tlearn: 0.4328372\ttotal: 9.81s\tremaining: 41.5s\n",
      "191:\tlearn: 0.4312679\ttotal: 9.86s\tremaining: 41.5s\n",
      "192:\tlearn: 0.4309974\ttotal: 9.92s\tremaining: 41.5s\n",
      "193:\tlearn: 0.4295724\ttotal: 9.97s\tremaining: 41.4s\n",
      "194:\tlearn: 0.4288761\ttotal: 10s\tremaining: 41.4s\n",
      "195:\tlearn: 0.4286053\ttotal: 10.1s\tremaining: 41.3s\n",
      "196:\tlearn: 0.4272589\ttotal: 10.1s\tremaining: 41.3s\n",
      "197:\tlearn: 0.4265337\ttotal: 10.2s\tremaining: 41.2s\n",
      "198:\tlearn: 0.4252728\ttotal: 10.2s\tremaining: 41.2s\n",
      "199:\tlearn: 0.4240769\ttotal: 10.3s\tremaining: 41.1s\n",
      "200:\tlearn: 0.4235246\ttotal: 10.3s\tremaining: 41.1s\n",
      "201:\tlearn: 0.4232299\ttotal: 10.4s\tremaining: 41s\n",
      "202:\tlearn: 0.4221629\ttotal: 10.4s\tremaining: 40.9s\n",
      "203:\tlearn: 0.4211581\ttotal: 10.5s\tremaining: 40.9s\n",
      "204:\tlearn: 0.4202148\ttotal: 10.5s\tremaining: 40.7s\n",
      "205:\tlearn: 0.4188308\ttotal: 10.6s\tremaining: 40.7s\n",
      "206:\tlearn: 0.4185560\ttotal: 10.6s\tremaining: 40.6s\n",
      "207:\tlearn: 0.4173107\ttotal: 10.6s\tremaining: 40.5s\n",
      "208:\tlearn: 0.4159761\ttotal: 10.7s\tremaining: 40.5s\n",
      "209:\tlearn: 0.4155336\ttotal: 10.7s\tremaining: 40.4s\n",
      "210:\tlearn: 0.4152379\ttotal: 10.8s\tremaining: 40.4s\n",
      "211:\tlearn: 0.4141777\ttotal: 10.8s\tremaining: 40.3s\n",
      "212:\tlearn: 0.4139096\ttotal: 10.9s\tremaining: 40.3s\n",
      "213:\tlearn: 0.4136442\ttotal: 10.9s\tremaining: 40.2s\n",
      "214:\tlearn: 0.4126245\ttotal: 11s\tremaining: 40.1s\n",
      "215:\tlearn: 0.4121147\ttotal: 11.1s\tremaining: 40.1s\n",
      "216:\tlearn: 0.4118663\ttotal: 11.1s\tremaining: 40s\n",
      "217:\tlearn: 0.4116061\ttotal: 11.1s\tremaining: 40s\n",
      "218:\tlearn: 0.4113481\ttotal: 11.2s\tremaining: 39.9s\n",
      "219:\tlearn: 0.4102708\ttotal: 11.2s\tremaining: 39.9s\n",
      "220:\tlearn: 0.4098114\ttotal: 11.3s\tremaining: 39.8s\n",
      "221:\tlearn: 0.4093879\ttotal: 11.4s\tremaining: 39.8s\n",
      "222:\tlearn: 0.4083022\ttotal: 11.4s\tremaining: 39.8s\n",
      "223:\tlearn: 0.4080625\ttotal: 11.5s\tremaining: 39.7s\n",
      "224:\tlearn: 0.4070534\ttotal: 11.5s\tremaining: 39.7s\n",
      "225:\tlearn: 0.4068048\ttotal: 11.6s\tremaining: 39.8s\n",
      "226:\tlearn: 0.4056888\ttotal: 11.7s\tremaining: 40s\n",
      "227:\tlearn: 0.4051955\ttotal: 11.8s\tremaining: 40.1s\n",
      "228:\tlearn: 0.4049619\ttotal: 11.9s\tremaining: 40s\n",
      "229:\tlearn: 0.4045959\ttotal: 11.9s\tremaining: 40s\n",
      "230:\tlearn: 0.4043579\ttotal: 12s\tremaining: 39.9s\n",
      "231:\tlearn: 0.4041260\ttotal: 12s\tremaining: 39.8s\n",
      "232:\tlearn: 0.4037733\ttotal: 12.1s\tremaining: 39.8s\n",
      "233:\tlearn: 0.4035394\ttotal: 12.1s\tremaining: 39.7s\n",
      "234:\tlearn: 0.4031532\ttotal: 12.2s\tremaining: 39.7s\n",
      "235:\tlearn: 0.4027567\ttotal: 12.2s\tremaining: 39.6s\n",
      "236:\tlearn: 0.4018937\ttotal: 12.3s\tremaining: 39.6s\n",
      "237:\tlearn: 0.4013779\ttotal: 12.3s\tremaining: 39.5s\n",
      "238:\tlearn: 0.3997929\ttotal: 12.4s\tremaining: 39.4s\n",
      "239:\tlearn: 0.3991980\ttotal: 12.4s\tremaining: 39.3s\n",
      "240:\tlearn: 0.3986696\ttotal: 12.5s\tremaining: 39.3s\n",
      "241:\tlearn: 0.3984222\ttotal: 12.5s\tremaining: 39.2s\n",
      "242:\tlearn: 0.3976440\ttotal: 12.6s\tremaining: 39.2s\n",
      "243:\tlearn: 0.3968671\ttotal: 12.6s\tremaining: 39.1s\n",
      "244:\tlearn: 0.3961435\ttotal: 12.7s\tremaining: 39s\n",
      "245:\tlearn: 0.3959201\ttotal: 12.7s\tremaining: 39s\n",
      "246:\tlearn: 0.3955664\ttotal: 12.8s\tremaining: 38.9s\n",
      "247:\tlearn: 0.3947746\ttotal: 12.8s\tremaining: 38.8s\n",
      "248:\tlearn: 0.3945738\ttotal: 12.9s\tremaining: 38.8s\n",
      "249:\tlearn: 0.3943163\ttotal: 12.9s\tremaining: 38.7s\n",
      "250:\tlearn: 0.3931228\ttotal: 12.9s\tremaining: 38.6s\n",
      "251:\tlearn: 0.3928957\ttotal: 13s\tremaining: 38.5s\n",
      "252:\tlearn: 0.3920451\ttotal: 13s\tremaining: 38.5s\n",
      "253:\tlearn: 0.3918268\ttotal: 13.1s\tremaining: 38.4s\n",
      "254:\tlearn: 0.3910611\ttotal: 13.1s\tremaining: 38.4s\n",
      "255:\tlearn: 0.3901426\ttotal: 13.2s\tremaining: 38.3s\n",
      "256:\tlearn: 0.3895369\ttotal: 13.2s\tremaining: 38.2s\n",
      "257:\tlearn: 0.3887519\ttotal: 13.3s\tremaining: 38.2s\n",
      "258:\tlearn: 0.3879255\ttotal: 13.4s\tremaining: 38.3s\n",
      "259:\tlearn: 0.3870858\ttotal: 13.4s\tremaining: 38.2s\n",
      "260:\tlearn: 0.3868666\ttotal: 13.5s\tremaining: 38.2s\n",
      "261:\tlearn: 0.3866867\ttotal: 13.6s\tremaining: 38.2s\n",
      "262:\tlearn: 0.3864863\ttotal: 13.6s\tremaining: 38.1s\n",
      "263:\tlearn: 0.3856434\ttotal: 13.7s\tremaining: 38.1s\n",
      "264:\tlearn: 0.3854264\ttotal: 13.7s\tremaining: 38s\n",
      "265:\tlearn: 0.3850835\ttotal: 13.8s\tremaining: 38s\n",
      "266:\tlearn: 0.3839674\ttotal: 13.8s\tremaining: 37.9s\n",
      "267:\tlearn: 0.3837720\ttotal: 13.9s\tremaining: 37.8s\n",
      "268:\tlearn: 0.3829604\ttotal: 13.9s\tremaining: 37.8s\n",
      "269:\tlearn: 0.3827799\ttotal: 13.9s\tremaining: 37.7s\n",
      "270:\tlearn: 0.3824509\ttotal: 14s\tremaining: 37.7s\n",
      "271:\tlearn: 0.3816117\ttotal: 14s\tremaining: 37.6s\n",
      "272:\tlearn: 0.3804471\ttotal: 14.1s\tremaining: 37.5s\n",
      "273:\tlearn: 0.3795977\ttotal: 14.1s\tremaining: 37.5s\n",
      "274:\tlearn: 0.3793963\ttotal: 14.2s\tremaining: 37.4s\n",
      "275:\tlearn: 0.3789348\ttotal: 14.2s\tremaining: 37.3s\n",
      "276:\tlearn: 0.3787349\ttotal: 14.3s\tremaining: 37.2s\n",
      "277:\tlearn: 0.3779940\ttotal: 14.3s\tremaining: 37.2s\n",
      "278:\tlearn: 0.3777485\ttotal: 14.4s\tremaining: 37.2s\n",
      "279:\tlearn: 0.3774179\ttotal: 14.4s\tremaining: 37.1s\n",
      "280:\tlearn: 0.3772297\ttotal: 14.5s\tremaining: 37.1s\n",
      "281:\tlearn: 0.3768430\ttotal: 14.5s\tremaining: 37s\n",
      "282:\tlearn: 0.3757604\ttotal: 14.6s\tremaining: 36.9s\n",
      "283:\tlearn: 0.3749895\ttotal: 14.6s\tremaining: 36.9s\n",
      "284:\tlearn: 0.3742014\ttotal: 14.7s\tremaining: 36.8s\n",
      "285:\tlearn: 0.3737536\ttotal: 14.7s\tremaining: 36.8s\n",
      "286:\tlearn: 0.3735550\ttotal: 14.8s\tremaining: 36.8s\n",
      "287:\tlearn: 0.3733705\ttotal: 14.9s\tremaining: 36.7s\n",
      "288:\tlearn: 0.3727774\ttotal: 14.9s\tremaining: 36.7s\n",
      "289:\tlearn: 0.3723282\ttotal: 15s\tremaining: 36.7s\n",
      "290:\tlearn: 0.3715699\ttotal: 15s\tremaining: 36.6s\n",
      "291:\tlearn: 0.3713840\ttotal: 15.1s\tremaining: 36.6s\n",
      "292:\tlearn: 0.3704699\ttotal: 15.2s\tremaining: 36.6s\n",
      "293:\tlearn: 0.3699001\ttotal: 15.2s\tremaining: 36.6s\n",
      "294:\tlearn: 0.3694754\ttotal: 15.3s\tremaining: 36.5s\n",
      "295:\tlearn: 0.3691775\ttotal: 15.3s\tremaining: 36.5s\n",
      "296:\tlearn: 0.3688814\ttotal: 15.4s\tremaining: 36.4s\n",
      "297:\tlearn: 0.3683261\ttotal: 15.5s\tremaining: 36.4s\n",
      "298:\tlearn: 0.3679970\ttotal: 15.5s\tremaining: 36.4s\n",
      "299:\tlearn: 0.3673332\ttotal: 15.6s\tremaining: 36.3s\n",
      "300:\tlearn: 0.3667523\ttotal: 15.6s\tremaining: 36.3s\n",
      "301:\tlearn: 0.3665733\ttotal: 15.7s\tremaining: 36.2s\n",
      "302:\tlearn: 0.3659049\ttotal: 15.7s\tremaining: 36.1s\n",
      "303:\tlearn: 0.3649744\ttotal: 15.8s\tremaining: 36.1s\n",
      "304:\tlearn: 0.3647713\ttotal: 15.8s\tremaining: 36s\n",
      "305:\tlearn: 0.3646083\ttotal: 15.9s\tremaining: 36s\n",
      "306:\tlearn: 0.3644246\ttotal: 15.9s\tremaining: 36s\n",
      "307:\tlearn: 0.3638318\ttotal: 16s\tremaining: 35.9s\n",
      "308:\tlearn: 0.3632389\ttotal: 16s\tremaining: 35.9s\n",
      "309:\tlearn: 0.3630556\ttotal: 16.1s\tremaining: 35.8s\n",
      "310:\tlearn: 0.3628867\ttotal: 16.1s\tremaining: 35.8s\n",
      "311:\tlearn: 0.3624876\ttotal: 16.2s\tremaining: 35.7s\n",
      "312:\tlearn: 0.3613496\ttotal: 16.2s\tremaining: 35.6s\n",
      "313:\tlearn: 0.3611849\ttotal: 16.3s\tremaining: 35.6s\n",
      "314:\tlearn: 0.3609312\ttotal: 16.3s\tremaining: 35.5s\n",
      "315:\tlearn: 0.3607513\ttotal: 16.4s\tremaining: 35.5s\n",
      "316:\tlearn: 0.3596276\ttotal: 16.4s\tremaining: 35.4s\n",
      "317:\tlearn: 0.3592510\ttotal: 16.5s\tremaining: 35.4s\n",
      "318:\tlearn: 0.3590746\ttotal: 16.5s\tremaining: 35.3s\n",
      "319:\tlearn: 0.3587790\ttotal: 16.6s\tremaining: 35.3s\n",
      "320:\tlearn: 0.3586198\ttotal: 16.6s\tremaining: 35.2s\n",
      "321:\tlearn: 0.3584637\ttotal: 16.7s\tremaining: 35.1s\n",
      "322:\tlearn: 0.3583067\ttotal: 16.7s\tremaining: 35.1s\n",
      "323:\tlearn: 0.3577750\ttotal: 16.8s\tremaining: 35s\n",
      "324:\tlearn: 0.3576147\ttotal: 16.8s\tremaining: 35s\n",
      "325:\tlearn: 0.3574044\ttotal: 16.9s\tremaining: 34.9s\n",
      "326:\tlearn: 0.3572355\ttotal: 16.9s\tremaining: 34.9s\n",
      "327:\tlearn: 0.3570692\ttotal: 17s\tremaining: 34.8s\n",
      "328:\tlearn: 0.3561820\ttotal: 17s\tremaining: 34.8s\n",
      "329:\tlearn: 0.3560226\ttotal: 17.1s\tremaining: 34.7s\n",
      "330:\tlearn: 0.3554151\ttotal: 17.1s\tremaining: 34.6s\n",
      "331:\tlearn: 0.3550363\ttotal: 17.2s\tremaining: 34.6s\n",
      "332:\tlearn: 0.3543403\ttotal: 17.2s\tremaining: 34.5s\n",
      "333:\tlearn: 0.3541937\ttotal: 17.3s\tremaining: 34.5s\n",
      "334:\tlearn: 0.3536017\ttotal: 17.3s\tremaining: 34.4s\n",
      "335:\tlearn: 0.3530694\ttotal: 17.4s\tremaining: 34.3s\n",
      "336:\tlearn: 0.3523898\ttotal: 17.4s\tremaining: 34.3s\n",
      "337:\tlearn: 0.3518677\ttotal: 17.5s\tremaining: 34.3s\n",
      "338:\tlearn: 0.3515732\ttotal: 17.5s\tremaining: 34.2s\n",
      "339:\tlearn: 0.3510109\ttotal: 17.6s\tremaining: 34.2s\n",
      "340:\tlearn: 0.3501332\ttotal: 17.7s\tremaining: 34.2s\n",
      "341:\tlearn: 0.3495636\ttotal: 17.7s\tremaining: 34.1s\n",
      "342:\tlearn: 0.3488557\ttotal: 17.8s\tremaining: 34.1s\n",
      "343:\tlearn: 0.3485948\ttotal: 17.8s\tremaining: 34s\n",
      "344:\tlearn: 0.3481163\ttotal: 17.9s\tremaining: 34s\n",
      "345:\tlearn: 0.3479769\ttotal: 17.9s\tremaining: 33.9s\n",
      "346:\tlearn: 0.3478305\ttotal: 18s\tremaining: 33.9s\n",
      "347:\tlearn: 0.3475001\ttotal: 18.1s\tremaining: 33.8s\n",
      "348:\tlearn: 0.3473547\ttotal: 18.1s\tremaining: 33.8s\n",
      "349:\tlearn: 0.3472058\ttotal: 18.2s\tremaining: 33.7s\n",
      "350:\tlearn: 0.3470556\ttotal: 18.2s\tremaining: 33.7s\n",
      "351:\tlearn: 0.3468957\ttotal: 18.3s\tremaining: 33.6s\n",
      "352:\tlearn: 0.3466041\ttotal: 18.3s\tremaining: 33.5s\n",
      "353:\tlearn: 0.3463736\ttotal: 18.3s\tremaining: 33.5s\n",
      "354:\tlearn: 0.3461844\ttotal: 18.4s\tremaining: 33.4s\n",
      "355:\tlearn: 0.3456660\ttotal: 18.4s\tremaining: 33.3s\n",
      "356:\tlearn: 0.3455199\ttotal: 18.5s\tremaining: 33.3s\n",
      "357:\tlearn: 0.3450049\ttotal: 18.5s\tremaining: 33.2s\n",
      "358:\tlearn: 0.3444339\ttotal: 18.6s\tremaining: 33.2s\n",
      "359:\tlearn: 0.3441473\ttotal: 18.6s\tremaining: 33.1s\n",
      "360:\tlearn: 0.3439829\ttotal: 18.7s\tremaining: 33.1s\n",
      "361:\tlearn: 0.3437827\ttotal: 18.7s\tremaining: 33s\n",
      "362:\tlearn: 0.3435337\ttotal: 18.8s\tremaining: 33s\n",
      "363:\tlearn: 0.3430152\ttotal: 18.8s\tremaining: 32.9s\n",
      "364:\tlearn: 0.3422644\ttotal: 18.9s\tremaining: 32.9s\n",
      "365:\tlearn: 0.3421358\ttotal: 19s\tremaining: 32.8s\n",
      "366:\tlearn: 0.3419985\ttotal: 19s\tremaining: 32.8s\n",
      "367:\tlearn: 0.3418527\ttotal: 19.1s\tremaining: 32.7s\n",
      "368:\tlearn: 0.3416912\ttotal: 19.1s\tremaining: 32.7s\n",
      "369:\tlearn: 0.3415383\ttotal: 19.2s\tremaining: 32.7s\n",
      "370:\tlearn: 0.3414024\ttotal: 19.2s\tremaining: 32.6s\n",
      "371:\tlearn: 0.3407225\ttotal: 19.3s\tremaining: 32.6s\n",
      "372:\tlearn: 0.3405859\ttotal: 19.4s\tremaining: 32.5s\n",
      "373:\tlearn: 0.3404586\ttotal: 19.4s\tremaining: 32.5s\n",
      "374:\tlearn: 0.3400000\ttotal: 19.5s\tremaining: 32.4s\n",
      "375:\tlearn: 0.3394476\ttotal: 19.5s\tremaining: 32.4s\n",
      "376:\tlearn: 0.3386443\ttotal: 19.6s\tremaining: 32.4s\n",
      "377:\tlearn: 0.3384200\ttotal: 19.6s\tremaining: 32.3s\n",
      "378:\tlearn: 0.3382663\ttotal: 19.7s\tremaining: 32.3s\n",
      "379:\tlearn: 0.3377131\ttotal: 19.8s\tremaining: 32.3s\n",
      "380:\tlearn: 0.3372635\ttotal: 19.8s\tremaining: 32.2s\n",
      "381:\tlearn: 0.3371145\ttotal: 19.9s\tremaining: 32.2s\n",
      "382:\tlearn: 0.3369770\ttotal: 19.9s\tremaining: 32.1s\n",
      "383:\tlearn: 0.3368679\ttotal: 20s\tremaining: 32.1s\n",
      "384:\tlearn: 0.3364294\ttotal: 20.1s\tremaining: 32s\n",
      "385:\tlearn: 0.3360442\ttotal: 20.1s\tremaining: 32s\n",
      "386:\tlearn: 0.3355658\ttotal: 20.2s\tremaining: 32s\n",
      "387:\tlearn: 0.3354388\ttotal: 20.2s\tremaining: 31.9s\n",
      "388:\tlearn: 0.3352308\ttotal: 20.3s\tremaining: 31.9s\n",
      "389:\tlearn: 0.3343940\ttotal: 20.3s\tremaining: 31.8s\n",
      "390:\tlearn: 0.3342494\ttotal: 20.4s\tremaining: 31.7s\n",
      "391:\tlearn: 0.3341031\ttotal: 20.4s\tremaining: 31.6s\n",
      "392:\tlearn: 0.3337785\ttotal: 20.5s\tremaining: 31.6s\n",
      "393:\tlearn: 0.3334843\ttotal: 20.5s\tremaining: 31.6s\n",
      "394:\tlearn: 0.3333438\ttotal: 20.6s\tremaining: 31.5s\n",
      "395:\tlearn: 0.3331732\ttotal: 20.6s\tremaining: 31.5s\n",
      "396:\tlearn: 0.3330214\ttotal: 20.7s\tremaining: 31.4s\n",
      "397:\tlearn: 0.3329070\ttotal: 20.7s\tremaining: 31.4s\n",
      "398:\tlearn: 0.3324730\ttotal: 20.8s\tremaining: 31.3s\n",
      "399:\tlearn: 0.3323321\ttotal: 20.8s\tremaining: 31.3s\n",
      "400:\tlearn: 0.3321323\ttotal: 20.9s\tremaining: 31.2s\n",
      "401:\tlearn: 0.3315940\ttotal: 21s\tremaining: 31.2s\n",
      "402:\tlearn: 0.3313980\ttotal: 21s\tremaining: 31.1s\n",
      "403:\tlearn: 0.3310057\ttotal: 21.1s\tremaining: 31.1s\n",
      "404:\tlearn: 0.3308785\ttotal: 21.1s\tremaining: 31s\n",
      "405:\tlearn: 0.3307395\ttotal: 21.2s\tremaining: 31s\n",
      "406:\tlearn: 0.3305984\ttotal: 21.2s\tremaining: 30.9s\n",
      "407:\tlearn: 0.3302196\ttotal: 21.3s\tremaining: 30.9s\n",
      "408:\tlearn: 0.3299833\ttotal: 21.3s\tremaining: 30.8s\n",
      "409:\tlearn: 0.3298739\ttotal: 21.3s\tremaining: 30.7s\n",
      "410:\tlearn: 0.3293349\ttotal: 21.4s\tremaining: 30.6s\n",
      "411:\tlearn: 0.3291242\ttotal: 21.4s\tremaining: 30.6s\n",
      "412:\tlearn: 0.3289539\ttotal: 21.5s\tremaining: 30.5s\n",
      "413:\tlearn: 0.3285336\ttotal: 21.5s\tremaining: 30.5s\n",
      "414:\tlearn: 0.3282954\ttotal: 21.6s\tremaining: 30.4s\n",
      "415:\tlearn: 0.3281840\ttotal: 21.6s\tremaining: 30.4s\n",
      "416:\tlearn: 0.3279894\ttotal: 21.7s\tremaining: 30.3s\n",
      "417:\tlearn: 0.3278587\ttotal: 21.7s\tremaining: 30.3s\n",
      "418:\tlearn: 0.3272832\ttotal: 21.8s\tremaining: 30.2s\n",
      "419:\tlearn: 0.3271616\ttotal: 21.8s\tremaining: 30.2s\n",
      "420:\tlearn: 0.3268763\ttotal: 21.9s\tremaining: 30.1s\n",
      "421:\tlearn: 0.3267501\ttotal: 21.9s\tremaining: 30.1s\n",
      "422:\tlearn: 0.3266263\ttotal: 22s\tremaining: 30s\n",
      "423:\tlearn: 0.3263306\ttotal: 22s\tremaining: 30s\n",
      "424:\tlearn: 0.3261493\ttotal: 22.1s\tremaining: 29.9s\n",
      "425:\tlearn: 0.3260148\ttotal: 22.1s\tremaining: 29.8s\n",
      "426:\tlearn: 0.3258643\ttotal: 22.2s\tremaining: 29.8s\n",
      "427:\tlearn: 0.3256066\ttotal: 22.2s\tremaining: 29.7s\n",
      "428:\tlearn: 0.3254903\ttotal: 22.3s\tremaining: 29.6s\n",
      "429:\tlearn: 0.3251930\ttotal: 22.3s\tremaining: 29.6s\n",
      "430:\tlearn: 0.3250713\ttotal: 22.4s\tremaining: 29.5s\n",
      "431:\tlearn: 0.3249390\ttotal: 22.4s\tremaining: 29.5s\n",
      "432:\tlearn: 0.3245498\ttotal: 22.5s\tremaining: 29.4s\n",
      "433:\tlearn: 0.3243603\ttotal: 22.5s\tremaining: 29.4s\n",
      "434:\tlearn: 0.3240333\ttotal: 22.6s\tremaining: 29.3s\n",
      "435:\tlearn: 0.3238839\ttotal: 22.6s\tremaining: 29.2s\n",
      "436:\tlearn: 0.3235306\ttotal: 22.7s\tremaining: 29.2s\n",
      "437:\tlearn: 0.3229436\ttotal: 22.7s\tremaining: 29.1s\n",
      "438:\tlearn: 0.3227788\ttotal: 22.8s\tremaining: 29.1s\n",
      "439:\tlearn: 0.3225530\ttotal: 22.8s\tremaining: 29s\n",
      "440:\tlearn: 0.3224507\ttotal: 22.9s\tremaining: 29s\n",
      "441:\tlearn: 0.3222949\ttotal: 22.9s\tremaining: 28.9s\n",
      "442:\tlearn: 0.3219330\ttotal: 23s\tremaining: 28.9s\n",
      "443:\tlearn: 0.3218041\ttotal: 23s\tremaining: 28.8s\n",
      "444:\tlearn: 0.3215739\ttotal: 23.1s\tremaining: 28.8s\n",
      "445:\tlearn: 0.3214644\ttotal: 23.1s\tremaining: 28.7s\n",
      "446:\tlearn: 0.3212685\ttotal: 23.2s\tremaining: 28.7s\n",
      "447:\tlearn: 0.3211508\ttotal: 23.2s\tremaining: 28.6s\n",
      "448:\tlearn: 0.3209249\ttotal: 23.3s\tremaining: 28.6s\n",
      "449:\tlearn: 0.3207916\ttotal: 23.3s\tremaining: 28.5s\n",
      "450:\tlearn: 0.3206710\ttotal: 23.4s\tremaining: 28.5s\n",
      "451:\tlearn: 0.3200502\ttotal: 23.4s\tremaining: 28.4s\n",
      "452:\tlearn: 0.3194779\ttotal: 23.5s\tremaining: 28.4s\n",
      "453:\tlearn: 0.3193693\ttotal: 23.6s\tremaining: 28.3s\n",
      "454:\tlearn: 0.3192423\ttotal: 23.6s\tremaining: 28.3s\n",
      "455:\tlearn: 0.3189566\ttotal: 23.7s\tremaining: 28.2s\n",
      "456:\tlearn: 0.3185278\ttotal: 23.7s\tremaining: 28.2s\n",
      "457:\tlearn: 0.3184018\ttotal: 23.8s\tremaining: 28.1s\n",
      "458:\tlearn: 0.3181127\ttotal: 23.8s\tremaining: 28.1s\n",
      "459:\tlearn: 0.3175453\ttotal: 23.9s\tremaining: 28s\n",
      "460:\tlearn: 0.3172862\ttotal: 23.9s\tremaining: 28s\n",
      "461:\tlearn: 0.3170685\ttotal: 24s\tremaining: 27.9s\n",
      "462:\tlearn: 0.3168965\ttotal: 24s\tremaining: 27.9s\n",
      "463:\tlearn: 0.3167781\ttotal: 24.1s\tremaining: 27.8s\n",
      "464:\tlearn: 0.3163894\ttotal: 24.1s\tremaining: 27.8s\n",
      "465:\tlearn: 0.3161887\ttotal: 24.2s\tremaining: 27.7s\n",
      "466:\tlearn: 0.3160862\ttotal: 24.2s\tremaining: 27.6s\n",
      "467:\tlearn: 0.3158268\ttotal: 24.3s\tremaining: 27.6s\n",
      "468:\tlearn: 0.3156501\ttotal: 24.3s\tremaining: 27.5s\n",
      "469:\tlearn: 0.3151711\ttotal: 24.4s\tremaining: 27.5s\n",
      "470:\tlearn: 0.3149555\ttotal: 24.4s\tremaining: 27.4s\n",
      "471:\tlearn: 0.3147570\ttotal: 24.4s\tremaining: 27.3s\n",
      "472:\tlearn: 0.3142097\ttotal: 24.5s\tremaining: 27.3s\n",
      "473:\tlearn: 0.3138977\ttotal: 24.5s\tremaining: 27.2s\n",
      "474:\tlearn: 0.3136960\ttotal: 24.6s\tremaining: 27.2s\n",
      "475:\tlearn: 0.3134629\ttotal: 24.6s\tremaining: 27.1s\n",
      "476:\tlearn: 0.3132783\ttotal: 24.7s\tremaining: 27.1s\n",
      "477:\tlearn: 0.3129432\ttotal: 24.7s\tremaining: 27s\n",
      "478:\tlearn: 0.3126883\ttotal: 24.8s\tremaining: 27s\n",
      "479:\tlearn: 0.3125650\ttotal: 24.8s\tremaining: 26.9s\n",
      "480:\tlearn: 0.3124470\ttotal: 24.9s\tremaining: 26.9s\n",
      "481:\tlearn: 0.3120142\ttotal: 24.9s\tremaining: 26.8s\n",
      "482:\tlearn: 0.3119063\ttotal: 25s\tremaining: 26.8s\n",
      "483:\tlearn: 0.3115500\ttotal: 25.1s\tremaining: 26.7s\n",
      "484:\tlearn: 0.3113170\ttotal: 25.1s\tremaining: 26.7s\n",
      "485:\tlearn: 0.3108210\ttotal: 25.2s\tremaining: 26.6s\n",
      "486:\tlearn: 0.3105450\ttotal: 25.2s\tremaining: 26.6s\n",
      "487:\tlearn: 0.3102654\ttotal: 25.3s\tremaining: 26.5s\n",
      "488:\tlearn: 0.3101549\ttotal: 25.3s\tremaining: 26.5s\n",
      "489:\tlearn: 0.3099987\ttotal: 25.4s\tremaining: 26.4s\n",
      "490:\tlearn: 0.3094794\ttotal: 25.4s\tremaining: 26.4s\n",
      "491:\tlearn: 0.3093187\ttotal: 25.5s\tremaining: 26.3s\n",
      "492:\tlearn: 0.3091400\ttotal: 25.5s\tremaining: 26.3s\n",
      "493:\tlearn: 0.3086706\ttotal: 25.6s\tremaining: 26.2s\n",
      "494:\tlearn: 0.3082233\ttotal: 25.6s\tremaining: 26.2s\n",
      "495:\tlearn: 0.3077618\ttotal: 25.7s\tremaining: 26.1s\n",
      "496:\tlearn: 0.3076553\ttotal: 25.8s\tremaining: 26.1s\n",
      "497:\tlearn: 0.3074765\ttotal: 25.8s\tremaining: 26s\n",
      "498:\tlearn: 0.3072118\ttotal: 25.9s\tremaining: 26s\n",
      "499:\tlearn: 0.3071000\ttotal: 25.9s\tremaining: 25.9s\n",
      "500:\tlearn: 0.3067517\ttotal: 26s\tremaining: 25.9s\n",
      "501:\tlearn: 0.3066576\ttotal: 26s\tremaining: 25.8s\n",
      "502:\tlearn: 0.3063580\ttotal: 26.1s\tremaining: 25.8s\n",
      "503:\tlearn: 0.3059487\ttotal: 26.1s\tremaining: 25.7s\n",
      "504:\tlearn: 0.3058365\ttotal: 26.2s\tremaining: 25.6s\n",
      "505:\tlearn: 0.3056111\ttotal: 26.2s\tremaining: 25.6s\n",
      "506:\tlearn: 0.3055091\ttotal: 26.3s\tremaining: 25.5s\n",
      "507:\tlearn: 0.3052386\ttotal: 26.3s\tremaining: 25.5s\n",
      "508:\tlearn: 0.3048684\ttotal: 26.4s\tremaining: 25.4s\n",
      "509:\tlearn: 0.3047819\ttotal: 26.4s\tremaining: 25.4s\n",
      "510:\tlearn: 0.3046445\ttotal: 26.5s\tremaining: 25.3s\n",
      "511:\tlearn: 0.3044754\ttotal: 26.5s\tremaining: 25.3s\n",
      "512:\tlearn: 0.3043899\ttotal: 26.6s\tremaining: 25.2s\n",
      "513:\tlearn: 0.3039583\ttotal: 26.6s\tremaining: 25.2s\n",
      "514:\tlearn: 0.3038528\ttotal: 26.6s\tremaining: 25.1s\n",
      "515:\tlearn: 0.3037442\ttotal: 26.7s\tremaining: 25s\n",
      "516:\tlearn: 0.3036557\ttotal: 26.7s\tremaining: 25s\n",
      "517:\tlearn: 0.3035480\ttotal: 26.8s\tremaining: 24.9s\n",
      "518:\tlearn: 0.3030274\ttotal: 26.9s\tremaining: 24.9s\n",
      "519:\tlearn: 0.3029261\ttotal: 26.9s\tremaining: 24.8s\n",
      "520:\tlearn: 0.3028462\ttotal: 27s\tremaining: 24.8s\n",
      "521:\tlearn: 0.3027368\ttotal: 27s\tremaining: 24.7s\n",
      "522:\tlearn: 0.3026256\ttotal: 27.1s\tremaining: 24.7s\n",
      "523:\tlearn: 0.3024270\ttotal: 27.1s\tremaining: 24.6s\n",
      "524:\tlearn: 0.3021417\ttotal: 27.2s\tremaining: 24.6s\n",
      "525:\tlearn: 0.3020540\ttotal: 27.2s\tremaining: 24.6s\n",
      "526:\tlearn: 0.3018601\ttotal: 27.3s\tremaining: 24.5s\n",
      "527:\tlearn: 0.3016656\ttotal: 27.3s\tremaining: 24.4s\n",
      "528:\tlearn: 0.3014956\ttotal: 27.4s\tremaining: 24.4s\n",
      "529:\tlearn: 0.3010918\ttotal: 27.4s\tremaining: 24.3s\n",
      "530:\tlearn: 0.3009058\ttotal: 27.5s\tremaining: 24.3s\n",
      "531:\tlearn: 0.3006046\ttotal: 27.6s\tremaining: 24.2s\n",
      "532:\tlearn: 0.3003847\ttotal: 27.6s\tremaining: 24.2s\n",
      "533:\tlearn: 0.3001862\ttotal: 27.7s\tremaining: 24.1s\n",
      "534:\tlearn: 0.3000152\ttotal: 27.7s\tremaining: 24.1s\n",
      "535:\tlearn: 0.2999149\ttotal: 27.8s\tremaining: 24s\n",
      "536:\tlearn: 0.2996776\ttotal: 27.8s\tremaining: 24s\n",
      "537:\tlearn: 0.2994002\ttotal: 27.9s\tremaining: 23.9s\n",
      "538:\tlearn: 0.2991002\ttotal: 27.9s\tremaining: 23.9s\n",
      "539:\tlearn: 0.2989586\ttotal: 28s\tremaining: 23.8s\n",
      "540:\tlearn: 0.2984984\ttotal: 28s\tremaining: 23.8s\n",
      "541:\tlearn: 0.2983972\ttotal: 28.1s\tremaining: 23.7s\n",
      "542:\tlearn: 0.2981900\ttotal: 28.1s\tremaining: 23.7s\n",
      "543:\tlearn: 0.2980088\ttotal: 28.2s\tremaining: 23.6s\n",
      "544:\tlearn: 0.2978410\ttotal: 28.2s\tremaining: 23.6s\n",
      "545:\tlearn: 0.2977541\ttotal: 28.3s\tremaining: 23.5s\n",
      "546:\tlearn: 0.2976499\ttotal: 28.3s\tremaining: 23.4s\n",
      "547:\tlearn: 0.2974810\ttotal: 28.4s\tremaining: 23.4s\n",
      "548:\tlearn: 0.2973552\ttotal: 28.4s\tremaining: 23.3s\n",
      "549:\tlearn: 0.2970747\ttotal: 28.4s\tremaining: 23.3s\n",
      "550:\tlearn: 0.2969172\ttotal: 28.5s\tremaining: 23.2s\n",
      "551:\tlearn: 0.2968230\ttotal: 28.5s\tremaining: 23.2s\n",
      "552:\tlearn: 0.2966226\ttotal: 28.6s\tremaining: 23.1s\n",
      "553:\tlearn: 0.2965442\ttotal: 28.6s\tremaining: 23s\n",
      "554:\tlearn: 0.2964469\ttotal: 28.7s\tremaining: 23s\n",
      "555:\tlearn: 0.2963530\ttotal: 28.7s\tremaining: 22.9s\n",
      "556:\tlearn: 0.2962038\ttotal: 28.8s\tremaining: 22.9s\n",
      "557:\tlearn: 0.2958870\ttotal: 28.8s\tremaining: 22.8s\n",
      "558:\tlearn: 0.2955372\ttotal: 28.8s\tremaining: 22.8s\n",
      "559:\tlearn: 0.2952147\ttotal: 28.9s\tremaining: 22.7s\n",
      "560:\tlearn: 0.2950238\ttotal: 29s\tremaining: 22.7s\n",
      "561:\tlearn: 0.2947031\ttotal: 29s\tremaining: 22.6s\n",
      "562:\tlearn: 0.2943305\ttotal: 29.1s\tremaining: 22.6s\n",
      "563:\tlearn: 0.2942400\ttotal: 29.1s\tremaining: 22.5s\n",
      "564:\tlearn: 0.2940559\ttotal: 29.2s\tremaining: 22.5s\n",
      "565:\tlearn: 0.2939739\ttotal: 29.3s\tremaining: 22.5s\n",
      "566:\tlearn: 0.2938841\ttotal: 29.3s\tremaining: 22.4s\n",
      "567:\tlearn: 0.2936126\ttotal: 29.4s\tremaining: 22.3s\n",
      "568:\tlearn: 0.2934334\ttotal: 29.4s\tremaining: 22.3s\n",
      "569:\tlearn: 0.2931259\ttotal: 29.5s\tremaining: 22.2s\n",
      "570:\tlearn: 0.2929252\ttotal: 29.5s\tremaining: 22.2s\n",
      "571:\tlearn: 0.2928359\ttotal: 29.6s\tremaining: 22.1s\n",
      "572:\tlearn: 0.2926780\ttotal: 29.6s\tremaining: 22.1s\n",
      "573:\tlearn: 0.2925930\ttotal: 29.7s\tremaining: 22s\n",
      "574:\tlearn: 0.2925020\ttotal: 29.7s\tremaining: 22s\n",
      "575:\tlearn: 0.2921439\ttotal: 29.7s\tremaining: 21.9s\n",
      "576:\tlearn: 0.2920708\ttotal: 29.8s\tremaining: 21.8s\n",
      "577:\tlearn: 0.2918810\ttotal: 29.8s\tremaining: 21.8s\n",
      "578:\tlearn: 0.2917355\ttotal: 29.9s\tremaining: 21.7s\n",
      "579:\tlearn: 0.2913298\ttotal: 29.9s\tremaining: 21.7s\n",
      "580:\tlearn: 0.2912357\ttotal: 30s\tremaining: 21.6s\n",
      "581:\tlearn: 0.2908317\ttotal: 30s\tremaining: 21.6s\n",
      "582:\tlearn: 0.2906656\ttotal: 30.1s\tremaining: 21.5s\n",
      "583:\tlearn: 0.2905877\ttotal: 30.1s\tremaining: 21.4s\n",
      "584:\tlearn: 0.2902517\ttotal: 30.1s\tremaining: 21.4s\n",
      "585:\tlearn: 0.2900774\ttotal: 30.2s\tremaining: 21.3s\n",
      "586:\tlearn: 0.2899085\ttotal: 30.2s\tremaining: 21.3s\n",
      "587:\tlearn: 0.2896807\ttotal: 30.3s\tremaining: 21.2s\n",
      "588:\tlearn: 0.2895043\ttotal: 30.3s\tremaining: 21.2s\n",
      "589:\tlearn: 0.2894203\ttotal: 30.4s\tremaining: 21.1s\n",
      "590:\tlearn: 0.2893384\ttotal: 30.4s\tremaining: 21.1s\n",
      "591:\tlearn: 0.2892638\ttotal: 30.5s\tremaining: 21s\n",
      "592:\tlearn: 0.2888203\ttotal: 30.5s\tremaining: 21s\n",
      "593:\tlearn: 0.2886976\ttotal: 30.6s\tremaining: 20.9s\n",
      "594:\tlearn: 0.2885319\ttotal: 30.6s\tremaining: 20.8s\n",
      "595:\tlearn: 0.2883702\ttotal: 30.7s\tremaining: 20.8s\n",
      "596:\tlearn: 0.2882232\ttotal: 30.7s\tremaining: 20.7s\n",
      "597:\tlearn: 0.2881458\ttotal: 30.8s\tremaining: 20.7s\n",
      "598:\tlearn: 0.2880592\ttotal: 30.8s\tremaining: 20.6s\n",
      "599:\tlearn: 0.2878132\ttotal: 30.9s\tremaining: 20.6s\n",
      "600:\tlearn: 0.2876437\ttotal: 31s\tremaining: 20.6s\n",
      "601:\tlearn: 0.2875564\ttotal: 31.1s\tremaining: 20.5s\n",
      "602:\tlearn: 0.2873334\ttotal: 31.1s\tremaining: 20.5s\n",
      "603:\tlearn: 0.2870586\ttotal: 31.2s\tremaining: 20.4s\n",
      "604:\tlearn: 0.2867064\ttotal: 31.2s\tremaining: 20.4s\n",
      "605:\tlearn: 0.2866132\ttotal: 31.3s\tremaining: 20.3s\n",
      "606:\tlearn: 0.2862525\ttotal: 31.3s\tremaining: 20.3s\n",
      "607:\tlearn: 0.2859841\ttotal: 31.4s\tremaining: 20.2s\n",
      "608:\tlearn: 0.2858914\ttotal: 31.4s\tremaining: 20.2s\n",
      "609:\tlearn: 0.2858149\ttotal: 31.4s\tremaining: 20.1s\n",
      "610:\tlearn: 0.2853662\ttotal: 31.5s\tremaining: 20s\n",
      "611:\tlearn: 0.2852023\ttotal: 31.5s\tremaining: 20s\n",
      "612:\tlearn: 0.2851255\ttotal: 31.6s\tremaining: 19.9s\n",
      "613:\tlearn: 0.2850452\ttotal: 31.7s\tremaining: 19.9s\n",
      "614:\tlearn: 0.2849633\ttotal: 31.7s\tremaining: 19.9s\n",
      "615:\tlearn: 0.2848807\ttotal: 31.8s\tremaining: 19.8s\n",
      "616:\tlearn: 0.2845998\ttotal: 31.8s\tremaining: 19.8s\n",
      "617:\tlearn: 0.2843644\ttotal: 31.9s\tremaining: 19.7s\n",
      "618:\tlearn: 0.2842755\ttotal: 31.9s\tremaining: 19.7s\n",
      "619:\tlearn: 0.2840850\ttotal: 32s\tremaining: 19.6s\n",
      "620:\tlearn: 0.2839449\ttotal: 32s\tremaining: 19.6s\n",
      "621:\tlearn: 0.2836201\ttotal: 32.1s\tremaining: 19.5s\n",
      "622:\tlearn: 0.2834012\ttotal: 32.1s\tremaining: 19.5s\n",
      "623:\tlearn: 0.2833277\ttotal: 32.2s\tremaining: 19.4s\n",
      "624:\tlearn: 0.2831374\ttotal: 32.2s\tremaining: 19.3s\n",
      "625:\tlearn: 0.2827167\ttotal: 32.3s\tremaining: 19.3s\n",
      "626:\tlearn: 0.2826407\ttotal: 32.3s\tremaining: 19.2s\n",
      "627:\tlearn: 0.2825092\ttotal: 32.4s\tremaining: 19.2s\n",
      "628:\tlearn: 0.2824297\ttotal: 32.4s\tremaining: 19.1s\n",
      "629:\tlearn: 0.2820984\ttotal: 32.5s\tremaining: 19.1s\n",
      "630:\tlearn: 0.2820243\ttotal: 32.5s\tremaining: 19s\n",
      "631:\tlearn: 0.2819240\ttotal: 32.6s\tremaining: 19s\n",
      "632:\tlearn: 0.2818251\ttotal: 32.6s\tremaining: 18.9s\n",
      "633:\tlearn: 0.2816786\ttotal: 32.7s\tremaining: 18.9s\n",
      "634:\tlearn: 0.2815969\ttotal: 32.7s\tremaining: 18.8s\n",
      "635:\tlearn: 0.2815261\ttotal: 32.8s\tremaining: 18.8s\n",
      "636:\tlearn: 0.2814508\ttotal: 32.9s\tremaining: 18.7s\n",
      "637:\tlearn: 0.2813709\ttotal: 32.9s\tremaining: 18.7s\n",
      "638:\tlearn: 0.2812925\ttotal: 33s\tremaining: 18.6s\n",
      "639:\tlearn: 0.2812126\ttotal: 33s\tremaining: 18.6s\n",
      "640:\tlearn: 0.2809733\ttotal: 33.1s\tremaining: 18.5s\n",
      "641:\tlearn: 0.2807124\ttotal: 33.1s\tremaining: 18.5s\n",
      "642:\tlearn: 0.2804293\ttotal: 33.2s\tremaining: 18.4s\n",
      "643:\tlearn: 0.2802003\ttotal: 33.2s\tremaining: 18.4s\n",
      "644:\tlearn: 0.2801059\ttotal: 33.2s\tremaining: 18.3s\n",
      "645:\tlearn: 0.2796062\ttotal: 33.3s\tremaining: 18.2s\n",
      "646:\tlearn: 0.2793070\ttotal: 33.3s\tremaining: 18.2s\n",
      "647:\tlearn: 0.2791929\ttotal: 33.4s\tremaining: 18.1s\n",
      "648:\tlearn: 0.2789947\ttotal: 33.4s\tremaining: 18.1s\n",
      "649:\tlearn: 0.2786401\ttotal: 33.5s\tremaining: 18s\n",
      "650:\tlearn: 0.2784400\ttotal: 33.5s\tremaining: 18s\n",
      "651:\tlearn: 0.2783777\ttotal: 33.6s\tremaining: 17.9s\n",
      "652:\tlearn: 0.2783068\ttotal: 33.7s\tremaining: 17.9s\n",
      "653:\tlearn: 0.2782421\ttotal: 33.7s\tremaining: 17.8s\n",
      "654:\tlearn: 0.2781583\ttotal: 33.8s\tremaining: 17.8s\n",
      "655:\tlearn: 0.2778076\ttotal: 33.8s\tremaining: 17.7s\n",
      "656:\tlearn: 0.2774860\ttotal: 33.9s\tremaining: 17.7s\n",
      "657:\tlearn: 0.2773050\ttotal: 33.9s\tremaining: 17.6s\n",
      "658:\tlearn: 0.2771211\ttotal: 34s\tremaining: 17.6s\n",
      "659:\tlearn: 0.2770549\ttotal: 34s\tremaining: 17.5s\n",
      "660:\tlearn: 0.2769806\ttotal: 34.1s\tremaining: 17.5s\n",
      "661:\tlearn: 0.2766359\ttotal: 34.1s\tremaining: 17.4s\n",
      "662:\tlearn: 0.2765579\ttotal: 34.2s\tremaining: 17.4s\n",
      "663:\tlearn: 0.2764922\ttotal: 34.2s\tremaining: 17.3s\n",
      "664:\tlearn: 0.2763681\ttotal: 34.3s\tremaining: 17.3s\n",
      "665:\tlearn: 0.2762141\ttotal: 34.3s\tremaining: 17.2s\n",
      "666:\tlearn: 0.2761119\ttotal: 34.4s\tremaining: 17.2s\n",
      "667:\tlearn: 0.2760258\ttotal: 34.4s\tremaining: 17.1s\n",
      "668:\tlearn: 0.2757194\ttotal: 34.5s\tremaining: 17.1s\n",
      "669:\tlearn: 0.2756446\ttotal: 34.5s\tremaining: 17s\n",
      "670:\tlearn: 0.2753212\ttotal: 34.6s\tremaining: 16.9s\n",
      "671:\tlearn: 0.2749860\ttotal: 34.6s\tremaining: 16.9s\n",
      "672:\tlearn: 0.2745454\ttotal: 34.7s\tremaining: 16.8s\n",
      "673:\tlearn: 0.2744156\ttotal: 34.7s\tremaining: 16.8s\n",
      "674:\tlearn: 0.2742085\ttotal: 34.8s\tremaining: 16.7s\n",
      "675:\tlearn: 0.2740327\ttotal: 34.8s\tremaining: 16.7s\n",
      "676:\tlearn: 0.2739619\ttotal: 34.9s\tremaining: 16.6s\n",
      "677:\tlearn: 0.2738892\ttotal: 34.9s\tremaining: 16.6s\n",
      "678:\tlearn: 0.2738287\ttotal: 35s\tremaining: 16.5s\n",
      "679:\tlearn: 0.2737616\ttotal: 35.1s\tremaining: 16.5s\n",
      "680:\tlearn: 0.2736427\ttotal: 35.1s\tremaining: 16.4s\n",
      "681:\tlearn: 0.2735766\ttotal: 35.1s\tremaining: 16.4s\n",
      "682:\tlearn: 0.2733866\ttotal: 35.2s\tremaining: 16.3s\n",
      "683:\tlearn: 0.2732285\ttotal: 35.3s\tremaining: 16.3s\n",
      "684:\tlearn: 0.2731560\ttotal: 35.3s\tremaining: 16.2s\n",
      "685:\tlearn: 0.2729388\ttotal: 35.4s\tremaining: 16.2s\n",
      "686:\tlearn: 0.2727559\ttotal: 35.4s\tremaining: 16.1s\n",
      "687:\tlearn: 0.2726127\ttotal: 35.5s\tremaining: 16.1s\n",
      "688:\tlearn: 0.2725501\ttotal: 35.5s\tremaining: 16s\n",
      "689:\tlearn: 0.2724189\ttotal: 35.6s\tremaining: 16s\n",
      "690:\tlearn: 0.2722355\ttotal: 35.6s\tremaining: 15.9s\n",
      "691:\tlearn: 0.2720468\ttotal: 35.7s\tremaining: 15.9s\n",
      "692:\tlearn: 0.2719784\ttotal: 35.8s\tremaining: 15.8s\n",
      "693:\tlearn: 0.2714950\ttotal: 35.8s\tremaining: 15.8s\n",
      "694:\tlearn: 0.2714229\ttotal: 35.9s\tremaining: 15.7s\n",
      "695:\tlearn: 0.2713625\ttotal: 35.9s\tremaining: 15.7s\n",
      "696:\tlearn: 0.2712474\ttotal: 36s\tremaining: 15.6s\n",
      "697:\tlearn: 0.2711698\ttotal: 36s\tremaining: 15.6s\n",
      "698:\tlearn: 0.2709456\ttotal: 36s\tremaining: 15.5s\n",
      "699:\tlearn: 0.2708734\ttotal: 36.1s\tremaining: 15.5s\n",
      "700:\tlearn: 0.2707594\ttotal: 36.1s\tremaining: 15.4s\n",
      "701:\tlearn: 0.2706494\ttotal: 36.2s\tremaining: 15.4s\n",
      "702:\tlearn: 0.2705917\ttotal: 36.2s\tremaining: 15.3s\n",
      "703:\tlearn: 0.2705059\ttotal: 36.3s\tremaining: 15.3s\n",
      "704:\tlearn: 0.2704474\ttotal: 36.3s\tremaining: 15.2s\n",
      "705:\tlearn: 0.2703771\ttotal: 36.4s\tremaining: 15.2s\n",
      "706:\tlearn: 0.2703010\ttotal: 36.4s\tremaining: 15.1s\n",
      "707:\tlearn: 0.2702041\ttotal: 36.5s\tremaining: 15.1s\n",
      "708:\tlearn: 0.2701397\ttotal: 36.5s\tremaining: 15s\n",
      "709:\tlearn: 0.2700656\ttotal: 36.6s\tremaining: 14.9s\n",
      "710:\tlearn: 0.2699873\ttotal: 36.7s\tremaining: 14.9s\n",
      "711:\tlearn: 0.2699139\ttotal: 36.7s\tremaining: 14.8s\n",
      "712:\tlearn: 0.2698512\ttotal: 36.8s\tremaining: 14.8s\n",
      "713:\tlearn: 0.2697867\ttotal: 36.8s\tremaining: 14.7s\n",
      "714:\tlearn: 0.2696561\ttotal: 36.9s\tremaining: 14.7s\n",
      "715:\tlearn: 0.2695880\ttotal: 36.9s\tremaining: 14.6s\n",
      "716:\tlearn: 0.2693931\ttotal: 37s\tremaining: 14.6s\n",
      "717:\tlearn: 0.2692216\ttotal: 37s\tremaining: 14.5s\n",
      "718:\tlearn: 0.2691669\ttotal: 37.1s\tremaining: 14.5s\n",
      "719:\tlearn: 0.2689790\ttotal: 37.1s\tremaining: 14.4s\n",
      "720:\tlearn: 0.2686145\ttotal: 37.2s\tremaining: 14.4s\n",
      "721:\tlearn: 0.2683601\ttotal: 37.2s\tremaining: 14.3s\n",
      "722:\tlearn: 0.2680574\ttotal: 37.3s\tremaining: 14.3s\n",
      "723:\tlearn: 0.2679837\ttotal: 37.3s\tremaining: 14.2s\n",
      "724:\tlearn: 0.2679248\ttotal: 37.4s\tremaining: 14.2s\n",
      "725:\tlearn: 0.2678655\ttotal: 37.4s\tremaining: 14.1s\n",
      "726:\tlearn: 0.2677592\ttotal: 37.5s\tremaining: 14.1s\n",
      "727:\tlearn: 0.2676342\ttotal: 37.6s\tremaining: 14s\n",
      "728:\tlearn: 0.2675674\ttotal: 37.7s\tremaining: 14s\n",
      "729:\tlearn: 0.2674974\ttotal: 37.8s\tremaining: 14s\n",
      "730:\tlearn: 0.2674277\ttotal: 37.8s\tremaining: 13.9s\n",
      "731:\tlearn: 0.2673250\ttotal: 37.9s\tremaining: 13.9s\n",
      "732:\tlearn: 0.2670984\ttotal: 38s\tremaining: 13.8s\n",
      "733:\tlearn: 0.2670237\ttotal: 38s\tremaining: 13.8s\n",
      "734:\tlearn: 0.2668669\ttotal: 38.1s\tremaining: 13.7s\n",
      "735:\tlearn: 0.2667648\ttotal: 38.1s\tremaining: 13.7s\n",
      "736:\tlearn: 0.2667026\ttotal: 38.2s\tremaining: 13.6s\n",
      "737:\tlearn: 0.2664000\ttotal: 38.3s\tremaining: 13.6s\n",
      "738:\tlearn: 0.2663152\ttotal: 38.3s\tremaining: 13.5s\n",
      "739:\tlearn: 0.2660545\ttotal: 38.4s\tremaining: 13.5s\n",
      "740:\tlearn: 0.2659813\ttotal: 38.4s\tremaining: 13.4s\n",
      "741:\tlearn: 0.2659048\ttotal: 38.5s\tremaining: 13.4s\n",
      "742:\tlearn: 0.2658497\ttotal: 38.5s\tremaining: 13.3s\n",
      "743:\tlearn: 0.2657916\ttotal: 38.6s\tremaining: 13.3s\n",
      "744:\tlearn: 0.2656831\ttotal: 38.7s\tremaining: 13.2s\n",
      "745:\tlearn: 0.2655459\ttotal: 38.7s\tremaining: 13.2s\n",
      "746:\tlearn: 0.2653054\ttotal: 38.8s\tremaining: 13.1s\n",
      "747:\tlearn: 0.2652460\ttotal: 38.9s\tremaining: 13.1s\n",
      "748:\tlearn: 0.2651791\ttotal: 38.9s\tremaining: 13s\n",
      "749:\tlearn: 0.2651195\ttotal: 39s\tremaining: 13s\n",
      "750:\tlearn: 0.2649849\ttotal: 39s\tremaining: 12.9s\n",
      "751:\tlearn: 0.2647852\ttotal: 39.1s\tremaining: 12.9s\n",
      "752:\tlearn: 0.2647233\ttotal: 39.1s\tremaining: 12.8s\n",
      "753:\tlearn: 0.2646696\ttotal: 39.2s\tremaining: 12.8s\n",
      "754:\tlearn: 0.2646156\ttotal: 39.2s\tremaining: 12.7s\n",
      "755:\tlearn: 0.2645522\ttotal: 39.3s\tremaining: 12.7s\n",
      "756:\tlearn: 0.2644978\ttotal: 39.4s\tremaining: 12.6s\n",
      "757:\tlearn: 0.2644438\ttotal: 39.4s\tremaining: 12.6s\n",
      "758:\tlearn: 0.2643755\ttotal: 39.5s\tremaining: 12.5s\n",
      "759:\tlearn: 0.2643207\ttotal: 39.5s\tremaining: 12.5s\n",
      "760:\tlearn: 0.2641532\ttotal: 39.6s\tremaining: 12.4s\n",
      "761:\tlearn: 0.2640762\ttotal: 39.6s\tremaining: 12.4s\n",
      "762:\tlearn: 0.2640185\ttotal: 39.7s\tremaining: 12.3s\n",
      "763:\tlearn: 0.2638735\ttotal: 39.7s\tremaining: 12.3s\n",
      "764:\tlearn: 0.2637248\ttotal: 39.8s\tremaining: 12.2s\n",
      "765:\tlearn: 0.2635396\ttotal: 39.9s\tremaining: 12.2s\n",
      "766:\tlearn: 0.2634806\ttotal: 39.9s\tremaining: 12.1s\n",
      "767:\tlearn: 0.2634084\ttotal: 40s\tremaining: 12.1s\n",
      "768:\tlearn: 0.2633463\ttotal: 40s\tremaining: 12s\n",
      "769:\tlearn: 0.2632877\ttotal: 40.1s\tremaining: 12s\n",
      "770:\tlearn: 0.2631635\ttotal: 40.1s\tremaining: 11.9s\n",
      "771:\tlearn: 0.2631079\ttotal: 40.2s\tremaining: 11.9s\n",
      "772:\tlearn: 0.2629068\ttotal: 40.2s\tremaining: 11.8s\n",
      "773:\tlearn: 0.2628463\ttotal: 40.3s\tremaining: 11.8s\n",
      "774:\tlearn: 0.2627767\ttotal: 40.3s\tremaining: 11.7s\n",
      "775:\tlearn: 0.2625625\ttotal: 40.4s\tremaining: 11.6s\n",
      "776:\tlearn: 0.2624792\ttotal: 40.4s\tremaining: 11.6s\n",
      "777:\tlearn: 0.2624289\ttotal: 40.5s\tremaining: 11.5s\n",
      "778:\tlearn: 0.2622430\ttotal: 40.5s\tremaining: 11.5s\n",
      "779:\tlearn: 0.2621785\ttotal: 40.5s\tremaining: 11.4s\n",
      "780:\tlearn: 0.2621266\ttotal: 40.6s\tremaining: 11.4s\n",
      "781:\tlearn: 0.2620351\ttotal: 40.6s\tremaining: 11.3s\n",
      "782:\tlearn: 0.2618795\ttotal: 40.7s\tremaining: 11.3s\n",
      "783:\tlearn: 0.2617745\ttotal: 40.7s\tremaining: 11.2s\n",
      "784:\tlearn: 0.2614835\ttotal: 40.8s\tremaining: 11.2s\n",
      "785:\tlearn: 0.2614257\ttotal: 40.8s\tremaining: 11.1s\n",
      "786:\tlearn: 0.2613710\ttotal: 40.9s\tremaining: 11.1s\n",
      "787:\tlearn: 0.2612409\ttotal: 41s\tremaining: 11s\n",
      "788:\tlearn: 0.2611854\ttotal: 41s\tremaining: 11s\n",
      "789:\tlearn: 0.2611316\ttotal: 41.1s\tremaining: 10.9s\n",
      "790:\tlearn: 0.2610067\ttotal: 41.2s\tremaining: 10.9s\n",
      "791:\tlearn: 0.2608139\ttotal: 41.2s\tremaining: 10.8s\n",
      "792:\tlearn: 0.2607630\ttotal: 41.3s\tremaining: 10.8s\n",
      "793:\tlearn: 0.2606385\ttotal: 41.3s\tremaining: 10.7s\n",
      "794:\tlearn: 0.2604948\ttotal: 41.4s\tremaining: 10.7s\n",
      "795:\tlearn: 0.2604430\ttotal: 41.4s\tremaining: 10.6s\n",
      "796:\tlearn: 0.2603723\ttotal: 41.5s\tremaining: 10.6s\n",
      "797:\tlearn: 0.2603188\ttotal: 41.5s\tremaining: 10.5s\n",
      "798:\tlearn: 0.2601817\ttotal: 41.6s\tremaining: 10.5s\n",
      "799:\tlearn: 0.2601068\ttotal: 41.6s\tremaining: 10.4s\n",
      "800:\tlearn: 0.2600307\ttotal: 41.7s\tremaining: 10.4s\n",
      "801:\tlearn: 0.2599758\ttotal: 41.8s\tremaining: 10.3s\n",
      "802:\tlearn: 0.2599331\ttotal: 41.8s\tremaining: 10.3s\n",
      "803:\tlearn: 0.2598646\ttotal: 41.9s\tremaining: 10.2s\n",
      "804:\tlearn: 0.2598071\ttotal: 41.9s\tremaining: 10.2s\n",
      "805:\tlearn: 0.2597619\ttotal: 42s\tremaining: 10.1s\n",
      "806:\tlearn: 0.2596128\ttotal: 42s\tremaining: 10s\n",
      "807:\tlearn: 0.2594336\ttotal: 42.1s\tremaining: 9.99s\n",
      "808:\tlearn: 0.2592554\ttotal: 42.1s\tremaining: 9.94s\n",
      "809:\tlearn: 0.2592014\ttotal: 42.1s\tremaining: 9.88s\n",
      "810:\tlearn: 0.2590173\ttotal: 42.2s\tremaining: 9.83s\n",
      "811:\tlearn: 0.2589686\ttotal: 42.2s\tremaining: 9.78s\n",
      "812:\tlearn: 0.2587641\ttotal: 42.3s\tremaining: 9.73s\n",
      "813:\tlearn: 0.2586994\ttotal: 42.3s\tremaining: 9.67s\n",
      "814:\tlearn: 0.2586518\ttotal: 42.4s\tremaining: 9.62s\n",
      "815:\tlearn: 0.2585972\ttotal: 42.4s\tremaining: 9.56s\n",
      "816:\tlearn: 0.2584881\ttotal: 42.5s\tremaining: 9.51s\n",
      "817:\tlearn: 0.2584150\ttotal: 42.5s\tremaining: 9.46s\n",
      "818:\tlearn: 0.2582699\ttotal: 42.6s\tremaining: 9.41s\n",
      "819:\tlearn: 0.2581250\ttotal: 42.6s\tremaining: 9.36s\n",
      "820:\tlearn: 0.2580333\ttotal: 42.7s\tremaining: 9.3s\n",
      "821:\tlearn: 0.2579846\ttotal: 42.7s\tremaining: 9.25s\n",
      "822:\tlearn: 0.2579247\ttotal: 42.8s\tremaining: 9.2s\n",
      "823:\tlearn: 0.2577950\ttotal: 42.8s\tremaining: 9.15s\n",
      "824:\tlearn: 0.2577268\ttotal: 42.9s\tremaining: 9.1s\n",
      "825:\tlearn: 0.2576023\ttotal: 42.9s\tremaining: 9.04s\n",
      "826:\tlearn: 0.2575130\ttotal: 43s\tremaining: 8.99s\n",
      "827:\tlearn: 0.2574591\ttotal: 43s\tremaining: 8.94s\n",
      "828:\tlearn: 0.2573443\ttotal: 43.1s\tremaining: 8.89s\n",
      "829:\tlearn: 0.2572862\ttotal: 43.1s\tremaining: 8.83s\n",
      "830:\tlearn: 0.2571025\ttotal: 43.2s\tremaining: 8.78s\n",
      "831:\tlearn: 0.2569863\ttotal: 43.2s\tremaining: 8.73s\n",
      "832:\tlearn: 0.2568753\ttotal: 43.3s\tremaining: 8.68s\n",
      "833:\tlearn: 0.2567400\ttotal: 43.3s\tremaining: 8.63s\n",
      "834:\tlearn: 0.2565551\ttotal: 43.4s\tremaining: 8.57s\n",
      "835:\tlearn: 0.2564921\ttotal: 43.5s\tremaining: 8.52s\n",
      "836:\tlearn: 0.2564366\ttotal: 43.5s\tremaining: 8.47s\n",
      "837:\tlearn: 0.2563900\ttotal: 43.6s\tremaining: 8.42s\n",
      "838:\tlearn: 0.2560985\ttotal: 43.6s\tremaining: 8.37s\n",
      "839:\tlearn: 0.2560454\ttotal: 43.7s\tremaining: 8.32s\n",
      "840:\tlearn: 0.2559448\ttotal: 43.7s\tremaining: 8.26s\n",
      "841:\tlearn: 0.2558967\ttotal: 43.8s\tremaining: 8.21s\n",
      "842:\tlearn: 0.2558469\ttotal: 43.8s\tremaining: 8.16s\n",
      "843:\tlearn: 0.2557969\ttotal: 43.9s\tremaining: 8.11s\n",
      "844:\tlearn: 0.2557340\ttotal: 43.9s\tremaining: 8.05s\n",
      "845:\tlearn: 0.2556757\ttotal: 44s\tremaining: 8s\n",
      "846:\tlearn: 0.2556249\ttotal: 44s\tremaining: 7.95s\n",
      "847:\tlearn: 0.2555743\ttotal: 44s\tremaining: 7.89s\n",
      "848:\tlearn: 0.2555064\ttotal: 44.1s\tremaining: 7.84s\n",
      "849:\tlearn: 0.2554527\ttotal: 44.1s\tremaining: 7.79s\n",
      "850:\tlearn: 0.2554137\ttotal: 44.2s\tremaining: 7.73s\n",
      "851:\tlearn: 0.2553609\ttotal: 44.2s\tremaining: 7.68s\n",
      "852:\tlearn: 0.2552696\ttotal: 44.3s\tremaining: 7.63s\n",
      "853:\tlearn: 0.2551977\ttotal: 44.3s\tremaining: 7.58s\n",
      "854:\tlearn: 0.2551473\ttotal: 44.3s\tremaining: 7.52s\n",
      "855:\tlearn: 0.2550363\ttotal: 44.4s\tremaining: 7.47s\n",
      "856:\tlearn: 0.2548926\ttotal: 44.4s\tremaining: 7.41s\n",
      "857:\tlearn: 0.2548463\ttotal: 44.5s\tremaining: 7.36s\n",
      "858:\tlearn: 0.2547800\ttotal: 44.5s\tremaining: 7.31s\n",
      "859:\tlearn: 0.2547303\ttotal: 44.6s\tremaining: 7.26s\n",
      "860:\tlearn: 0.2546757\ttotal: 44.6s\tremaining: 7.21s\n",
      "861:\tlearn: 0.2543397\ttotal: 44.7s\tremaining: 7.15s\n",
      "862:\tlearn: 0.2542845\ttotal: 44.7s\tremaining: 7.1s\n",
      "863:\tlearn: 0.2541774\ttotal: 44.8s\tremaining: 7.05s\n",
      "864:\tlearn: 0.2541272\ttotal: 44.8s\tremaining: 7s\n",
      "865:\tlearn: 0.2540719\ttotal: 44.9s\tremaining: 6.95s\n",
      "866:\tlearn: 0.2540175\ttotal: 44.9s\tremaining: 6.89s\n",
      "867:\tlearn: 0.2539401\ttotal: 45s\tremaining: 6.84s\n",
      "868:\tlearn: 0.2538902\ttotal: 45s\tremaining: 6.79s\n",
      "869:\tlearn: 0.2538321\ttotal: 45.1s\tremaining: 6.74s\n",
      "870:\tlearn: 0.2537847\ttotal: 45.1s\tremaining: 6.68s\n",
      "871:\tlearn: 0.2537320\ttotal: 45.2s\tremaining: 6.64s\n",
      "872:\tlearn: 0.2536862\ttotal: 45.3s\tremaining: 6.58s\n",
      "873:\tlearn: 0.2536360\ttotal: 45.3s\tremaining: 6.53s\n",
      "874:\tlearn: 0.2535914\ttotal: 45.4s\tremaining: 6.48s\n",
      "875:\tlearn: 0.2535298\ttotal: 45.4s\tremaining: 6.43s\n",
      "876:\tlearn: 0.2534790\ttotal: 45.5s\tremaining: 6.38s\n",
      "877:\tlearn: 0.2534340\ttotal: 45.5s\tremaining: 6.32s\n",
      "878:\tlearn: 0.2533905\ttotal: 45.5s\tremaining: 6.27s\n",
      "879:\tlearn: 0.2533345\ttotal: 45.6s\tremaining: 6.21s\n",
      "880:\tlearn: 0.2532261\ttotal: 45.6s\tremaining: 6.16s\n",
      "881:\tlearn: 0.2528916\ttotal: 45.7s\tremaining: 6.11s\n",
      "882:\tlearn: 0.2528340\ttotal: 45.7s\tremaining: 6.05s\n",
      "883:\tlearn: 0.2527809\ttotal: 45.7s\tremaining: 6s\n",
      "884:\tlearn: 0.2527339\ttotal: 45.8s\tremaining: 5.95s\n",
      "885:\tlearn: 0.2526561\ttotal: 45.8s\tremaining: 5.9s\n",
      "886:\tlearn: 0.2526007\ttotal: 45.9s\tremaining: 5.84s\n",
      "887:\tlearn: 0.2524986\ttotal: 45.9s\tremaining: 5.79s\n",
      "888:\tlearn: 0.2523916\ttotal: 46s\tremaining: 5.74s\n",
      "889:\tlearn: 0.2521865\ttotal: 46s\tremaining: 5.69s\n",
      "890:\tlearn: 0.2521270\ttotal: 46.1s\tremaining: 5.63s\n",
      "891:\tlearn: 0.2520914\ttotal: 46.1s\tremaining: 5.58s\n",
      "892:\tlearn: 0.2519084\ttotal: 46.1s\tremaining: 5.53s\n",
      "893:\tlearn: 0.2518538\ttotal: 46.2s\tremaining: 5.48s\n",
      "894:\tlearn: 0.2517738\ttotal: 46.2s\tremaining: 5.42s\n",
      "895:\tlearn: 0.2517120\ttotal: 46.3s\tremaining: 5.37s\n",
      "896:\tlearn: 0.2516626\ttotal: 46.3s\tremaining: 5.32s\n",
      "897:\tlearn: 0.2516193\ttotal: 46.4s\tremaining: 5.26s\n",
      "898:\tlearn: 0.2515717\ttotal: 46.4s\tremaining: 5.21s\n",
      "899:\tlearn: 0.2515039\ttotal: 46.4s\tremaining: 5.16s\n",
      "900:\tlearn: 0.2514315\ttotal: 46.5s\tremaining: 5.11s\n",
      "901:\tlearn: 0.2513910\ttotal: 46.5s\tremaining: 5.05s\n",
      "902:\tlearn: 0.2513462\ttotal: 46.6s\tremaining: 5s\n",
      "903:\tlearn: 0.2512260\ttotal: 46.6s\tremaining: 4.95s\n",
      "904:\tlearn: 0.2511725\ttotal: 46.7s\tremaining: 4.9s\n",
      "905:\tlearn: 0.2511127\ttotal: 46.7s\tremaining: 4.85s\n",
      "906:\tlearn: 0.2510715\ttotal: 46.8s\tremaining: 4.8s\n",
      "907:\tlearn: 0.2510069\ttotal: 46.8s\tremaining: 4.74s\n",
      "908:\tlearn: 0.2509567\ttotal: 46.9s\tremaining: 4.69s\n",
      "909:\tlearn: 0.2508930\ttotal: 46.9s\tremaining: 4.64s\n",
      "910:\tlearn: 0.2508444\ttotal: 46.9s\tremaining: 4.58s\n",
      "911:\tlearn: 0.2507984\ttotal: 47s\tremaining: 4.53s\n",
      "912:\tlearn: 0.2507566\ttotal: 47s\tremaining: 4.48s\n",
      "913:\tlearn: 0.2506990\ttotal: 47.1s\tremaining: 4.43s\n",
      "914:\tlearn: 0.2506437\ttotal: 47.1s\tremaining: 4.38s\n",
      "915:\tlearn: 0.2505994\ttotal: 47.2s\tremaining: 4.33s\n",
      "916:\tlearn: 0.2505231\ttotal: 47.2s\tremaining: 4.28s\n",
      "917:\tlearn: 0.2503668\ttotal: 47.3s\tremaining: 4.22s\n",
      "918:\tlearn: 0.2500525\ttotal: 47.3s\tremaining: 4.17s\n",
      "919:\tlearn: 0.2500014\ttotal: 47.4s\tremaining: 4.12s\n",
      "920:\tlearn: 0.2497929\ttotal: 47.4s\tremaining: 4.07s\n",
      "921:\tlearn: 0.2496481\ttotal: 47.5s\tremaining: 4.02s\n",
      "922:\tlearn: 0.2494930\ttotal: 47.5s\tremaining: 3.96s\n",
      "923:\tlearn: 0.2494265\ttotal: 47.6s\tremaining: 3.91s\n",
      "924:\tlearn: 0.2493740\ttotal: 47.6s\tremaining: 3.86s\n",
      "925:\tlearn: 0.2493239\ttotal: 47.6s\tremaining: 3.81s\n",
      "926:\tlearn: 0.2492704\ttotal: 47.7s\tremaining: 3.75s\n",
      "927:\tlearn: 0.2491866\ttotal: 47.7s\tremaining: 3.7s\n",
      "928:\tlearn: 0.2491349\ttotal: 47.8s\tremaining: 3.65s\n",
      "929:\tlearn: 0.2490899\ttotal: 47.8s\tremaining: 3.6s\n",
      "930:\tlearn: 0.2490465\ttotal: 47.9s\tremaining: 3.55s\n",
      "931:\tlearn: 0.2490019\ttotal: 47.9s\tremaining: 3.49s\n",
      "932:\tlearn: 0.2489520\ttotal: 48s\tremaining: 3.44s\n",
      "933:\tlearn: 0.2489033\ttotal: 48s\tremaining: 3.39s\n",
      "934:\tlearn: 0.2488529\ttotal: 48s\tremaining: 3.34s\n",
      "935:\tlearn: 0.2487140\ttotal: 48.1s\tremaining: 3.29s\n",
      "936:\tlearn: 0.2486454\ttotal: 48.1s\tremaining: 3.24s\n",
      "937:\tlearn: 0.2485948\ttotal: 48.2s\tremaining: 3.18s\n",
      "938:\tlearn: 0.2484543\ttotal: 48.2s\tremaining: 3.13s\n",
      "939:\tlearn: 0.2484098\ttotal: 48.3s\tremaining: 3.08s\n",
      "940:\tlearn: 0.2482447\ttotal: 48.3s\tremaining: 3.03s\n",
      "941:\tlearn: 0.2482001\ttotal: 48.4s\tremaining: 2.98s\n",
      "942:\tlearn: 0.2481473\ttotal: 48.4s\tremaining: 2.92s\n",
      "943:\tlearn: 0.2480955\ttotal: 48.4s\tremaining: 2.87s\n",
      "944:\tlearn: 0.2480576\ttotal: 48.5s\tremaining: 2.82s\n",
      "945:\tlearn: 0.2479344\ttotal: 48.5s\tremaining: 2.77s\n",
      "946:\tlearn: 0.2477673\ttotal: 48.6s\tremaining: 2.72s\n",
      "947:\tlearn: 0.2477182\ttotal: 48.6s\tremaining: 2.67s\n",
      "948:\tlearn: 0.2476757\ttotal: 48.7s\tremaining: 2.62s\n",
      "949:\tlearn: 0.2476281\ttotal: 48.7s\tremaining: 2.56s\n",
      "950:\tlearn: 0.2475217\ttotal: 48.8s\tremaining: 2.51s\n",
      "951:\tlearn: 0.2474751\ttotal: 48.8s\tremaining: 2.46s\n",
      "952:\tlearn: 0.2474240\ttotal: 48.9s\tremaining: 2.41s\n",
      "953:\tlearn: 0.2473396\ttotal: 48.9s\tremaining: 2.36s\n",
      "954:\tlearn: 0.2472859\ttotal: 49s\tremaining: 2.31s\n",
      "955:\tlearn: 0.2471872\ttotal: 49s\tremaining: 2.25s\n",
      "956:\tlearn: 0.2471414\ttotal: 49.1s\tremaining: 2.2s\n",
      "957:\tlearn: 0.2470976\ttotal: 49.1s\tremaining: 2.15s\n",
      "958:\tlearn: 0.2470531\ttotal: 49.2s\tremaining: 2.1s\n",
      "959:\tlearn: 0.2470080\ttotal: 49.2s\tremaining: 2.05s\n",
      "960:\tlearn: 0.2469631\ttotal: 49.3s\tremaining: 2s\n",
      "961:\tlearn: 0.2469207\ttotal: 49.3s\tremaining: 1.95s\n",
      "962:\tlearn: 0.2468716\ttotal: 49.4s\tremaining: 1.9s\n",
      "963:\tlearn: 0.2467264\ttotal: 49.4s\tremaining: 1.84s\n",
      "964:\tlearn: 0.2466847\ttotal: 49.5s\tremaining: 1.79s\n",
      "965:\tlearn: 0.2466225\ttotal: 49.5s\tremaining: 1.74s\n",
      "966:\tlearn: 0.2465660\ttotal: 49.6s\tremaining: 1.69s\n",
      "967:\tlearn: 0.2464820\ttotal: 49.6s\tremaining: 1.64s\n",
      "968:\tlearn: 0.2464356\ttotal: 49.7s\tremaining: 1.59s\n",
      "969:\tlearn: 0.2463910\ttotal: 49.7s\tremaining: 1.54s\n",
      "970:\tlearn: 0.2463511\ttotal: 49.8s\tremaining: 1.49s\n",
      "971:\tlearn: 0.2463035\ttotal: 49.8s\tremaining: 1.43s\n",
      "972:\tlearn: 0.2462553\ttotal: 49.8s\tremaining: 1.38s\n",
      "973:\tlearn: 0.2461763\ttotal: 49.9s\tremaining: 1.33s\n",
      "974:\tlearn: 0.2459554\ttotal: 49.9s\tremaining: 1.28s\n",
      "975:\tlearn: 0.2458574\ttotal: 50s\tremaining: 1.23s\n",
      "976:\tlearn: 0.2457845\ttotal: 50s\tremaining: 1.18s\n",
      "977:\tlearn: 0.2457380\ttotal: 50s\tremaining: 1.13s\n",
      "978:\tlearn: 0.2456983\ttotal: 50.1s\tremaining: 1.07s\n",
      "979:\tlearn: 0.2456393\ttotal: 50.1s\tremaining: 1.02s\n",
      "980:\tlearn: 0.2455957\ttotal: 50.2s\tremaining: 972ms\n",
      "981:\tlearn: 0.2454786\ttotal: 50.2s\tremaining: 921ms\n",
      "982:\tlearn: 0.2454340\ttotal: 50.3s\tremaining: 869ms\n",
      "983:\tlearn: 0.2453808\ttotal: 50.3s\tremaining: 818ms\n",
      "984:\tlearn: 0.2453384\ttotal: 50.4s\tremaining: 767ms\n",
      "985:\tlearn: 0.2452900\ttotal: 50.4s\tremaining: 716ms\n",
      "986:\tlearn: 0.2451784\ttotal: 50.5s\tremaining: 665ms\n",
      "987:\tlearn: 0.2450759\ttotal: 50.5s\tremaining: 613ms\n",
      "988:\tlearn: 0.2450288\ttotal: 50.5s\tremaining: 562ms\n",
      "989:\tlearn: 0.2449873\ttotal: 50.6s\tremaining: 511ms\n",
      "990:\tlearn: 0.2448886\ttotal: 50.6s\tremaining: 460ms\n",
      "991:\tlearn: 0.2448534\ttotal: 50.7s\tremaining: 409ms\n",
      "992:\tlearn: 0.2448087\ttotal: 50.8s\tremaining: 358ms\n",
      "993:\tlearn: 0.2447688\ttotal: 50.8s\tremaining: 307ms\n",
      "994:\tlearn: 0.2447044\ttotal: 50.9s\tremaining: 256ms\n",
      "995:\tlearn: 0.2444888\ttotal: 50.9s\tremaining: 204ms\n",
      "996:\tlearn: 0.2442752\ttotal: 51s\tremaining: 153ms\n",
      "997:\tlearn: 0.2442315\ttotal: 51s\tremaining: 102ms\n",
      "998:\tlearn: 0.2441597\ttotal: 51.1s\tremaining: 51.1ms\n",
      "999:\tlearn: 0.2441093\ttotal: 51.1s\tremaining: 0us\n",
      "Training Accuracy : 0.9998005584363782\n"
     ]
    },
    {
     "data": {
      "text/plain": [
       "'\\nprint(\"Validation Accuracy :\", rfc.score(x_valid, y_valid))\\n\\ncm = confusion_matrix(y_valid, cbc_pred)\\nprint(cm)\\n\\ncr = classification_report(y_valid, cbc_pred)\\nprint(cr)\\n\\napc = average_precision_score(y_valid, cbc_pred)\\nprint(\"Average Precision Score :\", apc)\\n'"
      ]
     },
     "execution_count": 53,
     "metadata": {},
     "output_type": "execute_result"
    }
   ],
   "source": [
    "from catboost import CatBoostClassifier\n",
    "\n",
    "cbc = CatBoostClassifier(learning_rate = 0.004, early_stopping_rounds = 100)\n",
    "cbc.fit(x_train, y_train)\n",
    "\n",
    "cbc_pred = cbc.predict(x_test)\n",
    "\n",
    "print(\"Training Accuracy :\", rfc.score(x_train, y_train))\n",
    "'''\n",
    "print(\"Validation Accuracy :\", rfc.score(x_valid, y_valid))\n",
    "\n",
    "cm = confusion_matrix(y_valid, cbc_pred)\n",
    "print(cm)\n",
    "\n",
    "cr = classification_report(y_valid, cbc_pred)\n",
    "print(cr)\n",
    "\n",
    "apc = average_precision_score(y_valid, cbc_pred)\n",
    "print(\"Average Precision Score :\", apc)\n",
    "'''"
   ]
  },
  {
   "cell_type": "markdown",
   "metadata": {
    "colab_type": "text",
    "id": "U70rhWT4Uca7"
   },
   "source": [
    "**Stacking of models**"
   ]
  },
  {
   "cell_type": "code",
   "execution_count": 54,
   "metadata": {
    "colab": {},
    "colab_type": "code",
    "id": "dn6xxyDdRO3h"
   },
   "outputs": [
    {
     "data": {
      "text/plain": [
       "'\\n\\n# defining the stacked predictions\\n\\nstacked_predictions = np.column_stack((rfc_pred, xgb_pred, cbc_pred))\\n\\n# specifyinng the meta model\\nmeta_model = RandomForestClassifier()\\nmeta_model.fit(stacked_predictions, )\\n\\n# final predictions\\nstacked_predictions = meta_model.predict(stacked_predictions)\\n\\ncm = confusion_matrix(y_valid, stacked_predictions)\\nprint(cm)\\n\\ncr = classification_report(y_valid, stacked_predictions)\\nprint(cr)\\n\\napc = average_precision_score(y_valid, stacked_predictions)\\nprint(\"Average Precision Score :\", apc)\\n'"
      ]
     },
     "execution_count": 54,
     "metadata": {},
     "output_type": "execute_result"
    }
   ],
   "source": [
    "'''\n",
    "\n",
    "# defining the stacked predictions\n",
    "\n",
    "stacked_predictions = np.column_stack((rfc_pred, xgb_pred, cbc_pred))\n",
    "\n",
    "# specifyinng the meta model\n",
    "meta_model = RandomForestClassifier()\n",
    "meta_model.fit(stacked_predictions, )\n",
    "\n",
    "# final predictions\n",
    "stacked_predictions = meta_model.predict(stacked_predictions)\n",
    "\n",
    "cm = confusion_matrix(y_valid, stacked_predictions)\n",
    "print(cm)\n",
    "\n",
    "cr = classification_report(y_valid, stacked_predictions)\n",
    "print(cr)\n",
    "\n",
    "apc = average_precision_score(y_valid, stacked_predictions)\n",
    "print(\"Average Precision Score :\", apc)\n",
    "'''"
   ]
  },
  {
   "cell_type": "markdown",
   "metadata": {
    "colab_type": "text",
    "id": "uhfsQptXWjWM"
   },
   "source": [
    "**Boosting the Model**"
   ]
  },
  {
   "cell_type": "code",
   "execution_count": 55,
   "metadata": {
    "colab": {
     "base_uri": "https://localhost:8080/",
     "height": 34
    },
    "colab_type": "code",
    "id": "f35PXJB2WJOD",
    "outputId": "486f407d-d9b1-4cbb-d077-e12ada47d278"
   },
   "outputs": [
    {
     "data": {
      "text/plain": [
       "'\\napc = average_precision_score(y_valid, boosted_predictions)\\nprint(\"Average Precision Score :\", apc)\\n'"
      ]
     },
     "execution_count": 55,
     "metadata": {},
     "output_type": "execute_result"
    }
   ],
   "source": [
    "boosted_predictions = rfc_pred*0.2 + xgb_pred*0.2 + lgb_pred*0.4 + etc_pred*0.3\n",
    "\n",
    "'''\n",
    "apc = average_precision_score(y_valid, boosted_predictions)\n",
    "print(\"Average Precision Score :\", apc)\n",
    "'''"
   ]
  },
  {
   "cell_type": "code",
   "execution_count": 56,
   "metadata": {
    "colab": {
     "base_uri": "https://localhost:8080/",
     "height": 204
    },
    "colab_type": "code",
    "id": "BAnDcfVNj8C7",
    "outputId": "c8462ad0-ce9c-44c7-c616-82993a7e7498"
   },
   "outputs": [
    {
     "data": {
      "text/html": [
       "<div>\n",
       "<style scoped>\n",
       "    .dataframe tbody tr th:only-of-type {\n",
       "        vertical-align: middle;\n",
       "    }\n",
       "\n",
       "    .dataframe tbody tr th {\n",
       "        vertical-align: top;\n",
       "    }\n",
       "\n",
       "    .dataframe thead th {\n",
       "        text-align: right;\n",
       "    }\n",
       "</style>\n",
       "<table border=\"1\" class=\"dataframe\">\n",
       "  <thead>\n",
       "    <tr style=\"text-align: right;\">\n",
       "      <th></th>\n",
       "      <th>employee_id</th>\n",
       "      <th>is_promoted</th>\n",
       "    </tr>\n",
       "  </thead>\n",
       "  <tbody>\n",
       "    <tr>\n",
       "      <th>0</th>\n",
       "      <td>8724</td>\n",
       "      <td>0.0</td>\n",
       "    </tr>\n",
       "    <tr>\n",
       "      <th>1</th>\n",
       "      <td>74430</td>\n",
       "      <td>0.0</td>\n",
       "    </tr>\n",
       "    <tr>\n",
       "      <th>2</th>\n",
       "      <td>72255</td>\n",
       "      <td>0.0</td>\n",
       "    </tr>\n",
       "    <tr>\n",
       "      <th>3</th>\n",
       "      <td>38562</td>\n",
       "      <td>0.0</td>\n",
       "    </tr>\n",
       "    <tr>\n",
       "      <th>4</th>\n",
       "      <td>64486</td>\n",
       "      <td>0.0</td>\n",
       "    </tr>\n",
       "  </tbody>\n",
       "</table>\n",
       "</div>"
      ],
      "text/plain": [
       "   employee_id  is_promoted\n",
       "0         8724          0.0\n",
       "1        74430          0.0\n",
       "2        72255          0.0\n",
       "3        38562          0.0\n",
       "4        64486          0.0"
      ]
     },
     "execution_count": 56,
     "metadata": {},
     "output_type": "execute_result"
    }
   ],
   "source": [
    "# looking at the pattern of the submission file\n",
    "\n",
    "submission = pd.read_csv('sample_submission_M0L0uXE.csv')\n",
    "\n",
    "submission.head()\n"
   ]
  },
  {
   "cell_type": "code",
   "execution_count": 61,
   "metadata": {
    "colab": {
     "base_uri": "https://localhost:8080/",
     "height": 204
    },
    "colab_type": "code",
    "id": "0dfaWH0Ij-gA",
    "outputId": "47c1534a-0466-4fd2-b9a0-f71f90f33c3b"
   },
   "outputs": [
    {
     "data": {
      "text/html": [
       "<div>\n",
       "<style scoped>\n",
       "    .dataframe tbody tr th:only-of-type {\n",
       "        vertical-align: middle;\n",
       "    }\n",
       "\n",
       "    .dataframe tbody tr th {\n",
       "        vertical-align: top;\n",
       "    }\n",
       "\n",
       "    .dataframe thead th {\n",
       "        text-align: right;\n",
       "    }\n",
       "</style>\n",
       "<table border=\"1\" class=\"dataframe\">\n",
       "  <thead>\n",
       "    <tr style=\"text-align: right;\">\n",
       "      <th></th>\n",
       "      <th>employee_id</th>\n",
       "      <th>is_promoted</th>\n",
       "    </tr>\n",
       "  </thead>\n",
       "  <tbody>\n",
       "    <tr>\n",
       "      <th>0</th>\n",
       "      <td>8724</td>\n",
       "      <td>0.0</td>\n",
       "    </tr>\n",
       "    <tr>\n",
       "      <th>1</th>\n",
       "      <td>74430</td>\n",
       "      <td>0.0</td>\n",
       "    </tr>\n",
       "    <tr>\n",
       "      <th>2</th>\n",
       "      <td>72255</td>\n",
       "      <td>0.0</td>\n",
       "    </tr>\n",
       "    <tr>\n",
       "      <th>3</th>\n",
       "      <td>38562</td>\n",
       "      <td>0.0</td>\n",
       "    </tr>\n",
       "    <tr>\n",
       "      <th>4</th>\n",
       "      <td>64486</td>\n",
       "      <td>0.0</td>\n",
       "    </tr>\n",
       "  </tbody>\n",
       "</table>\n",
       "</div>"
      ],
      "text/plain": [
       "   employee_id  is_promoted\n",
       "0         8724          0.0\n",
       "1        74430          0.0\n",
       "2        72255          0.0\n",
       "3        38562          0.0\n",
       "4        64486          0.0"
      ]
     },
     "execution_count": 61,
     "metadata": {},
     "output_type": "execute_result"
    }
   ],
   "source": [
    "# creating a dataframe with the employee id and their predicted promoted values{0, 1}\n",
    "\n",
    "submission = pd.DataFrame({'employee_id': emp_id,'is_promoted':boosted_predictions})\n",
    "\n",
    "submission.head()\n"
   ]
  },
  {
   "cell_type": "code",
   "execution_count": 58,
   "metadata": {
    "colab": {
     "base_uri": "https://localhost:8080/",
     "height": 34
    },
    "colab_type": "code",
    "id": "yR1ArrbOkAeE",
    "outputId": "f98c390a-4941-4a93-a816-f948c4f201c7"
   },
   "outputs": [
    {
     "name": "stdout",
     "output_type": "stream",
     "text": [
      "Saved File :  submission.csv\n"
     ]
    }
   ],
   "source": [
    "# saving the submission file\n",
    "\n",
    "filename ='submission.csv'\n",
    "submission.to_csv(filename, index = False)\n",
    "\n",
    "print(\"Saved File : \", filename)"
   ]
  }
 ],
 "metadata": {
  "colab": {
   "name": "HRAnalytics.ipynb",
   "provenance": [],
   "version": "0.3.2"
  },
  "kernelspec": {
   "display_name": "Python 3 (ipykernel)",
   "language": "python",
   "name": "python3"
  },
  "language_info": {
   "codemirror_mode": {
    "name": "ipython",
    "version": 3
   },
   "file_extension": ".py",
   "mimetype": "text/x-python",
   "name": "python",
   "nbconvert_exporter": "python",
   "pygments_lexer": "ipython3",
   "version": "3.9.12"
  }
 },
 "nbformat": 4,
 "nbformat_minor": 1
}
